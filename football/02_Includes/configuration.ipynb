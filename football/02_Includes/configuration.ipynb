{
 "cells": [
  {
   "cell_type": "code",
   "execution_count": 0,
   "metadata": {
    "application/vnd.databricks.v1+cell": {
     "cellMetadata": {
      "byteLimit": 2048000,
      "rowLimit": 10000
     },
     "inputWidgets": {},
     "nuid": "b9296702-7230-4423-8f2f-3a10a3cd65d5",
     "showTitle": false,
     "title": ""
    }
   },
   "outputs": [],
   "source": [
    "footballingested_folder_path='/mnt/databricksdl2/footballingested'\n",
    "footballprocessed_folder_path='/mnt/databricksdl2/footballprocessed'\n",
    "footballsource_folder_path='/mnt/databricksdl2/footballsource'\n",
    "footballflags_folder_path='/mnt/databricksdl2/footballflags'"
   ]
  },
  {
   "cell_type": "code",
   "execution_count": 0,
   "metadata": {
    "application/vnd.databricks.v1+cell": {
     "cellMetadata": {
      "byteLimit": 2048000,
      "rowLimit": 10000
     },
     "inputWidgets": {},
     "nuid": "9e8ad38f-8cf6-4aad-8d5e-cb15e34eb327",
     "showTitle": false,
     "title": ""
    }
   },
   "outputs": [
    {
     "output_type": "execute_result",
     "data": {
      "text/plain": [
       "'/mnt/databricksdl2/footballprocessed'"
      ]
     },
     "execution_count": 4,
     "metadata": {},
     "output_type": "execute_result"
    }
   ],
   "source": [
    "footballprocessed_folder_path"
   ]
  }
 ],
 "metadata": {
  "application/vnd.databricks.v1+notebook": {
   "dashboards": [],
   "language": "python",
   "notebookMetadata": {
    "pythonIndentUnit": 4
   },
   "notebookName": "configuration",
   "widgets": {}
  }
 },
 "nbformat": 4,
 "nbformat_minor": 0
}
