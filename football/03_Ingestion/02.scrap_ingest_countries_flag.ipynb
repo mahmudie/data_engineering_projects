{
 "cells": [
  {
   "cell_type": "markdown",
   "metadata": {
    "application/vnd.databricks.v1+cell": {
     "cellMetadata": {},
     "inputWidgets": {},
     "nuid": "f7e9e3df-7a88-4442-8d40-2493feeff9f6",
     "showTitle": false,
     "title": ""
    }
   },
   "source": [
    "### Data Ingestion\n",
    "Using **BeautifulSoup** to extract country names and flags url and store in ADLS"
   ]
  },
  {
   "cell_type": "code",
   "execution_count": 0,
   "metadata": {
    "application/vnd.databricks.v1+cell": {
     "cellMetadata": {
      "byteLimit": 2048000,
      "rowLimit": 10000
     },
     "inputWidgets": {},
     "nuid": "dde17354-11ce-4c0a-a77b-059bc1522ff3",
     "showTitle": false,
     "title": ""
    }
   },
   "outputs": [],
   "source": [
    "%run \"../02_Includes/common_functions\""
   ]
  },
  {
   "cell_type": "code",
   "execution_count": 0,
   "metadata": {
    "application/vnd.databricks.v1+cell": {
     "cellMetadata": {
      "byteLimit": 2048000,
      "rowLimit": 10000
     },
     "inputWidgets": {},
     "nuid": "35047964-21d8-447f-9c31-2e07e9e9faf2",
     "showTitle": false,
     "title": ""
    }
   },
   "outputs": [],
   "source": [
    "    %run \"../02_Includes/configuration\""
   ]
  },
  {
   "cell_type": "code",
   "execution_count": 0,
   "metadata": {
    "application/vnd.databricks.v1+cell": {
     "cellMetadata": {
      "byteLimit": 2048000,
      "rowLimit": 10000
     },
     "inputWidgets": {},
     "nuid": "89db1233-af86-4b1b-8c7a-aded14078878",
     "showTitle": false,
     "title": ""
    }
   },
   "outputs": [],
   "source": [
    "import requests\n",
    "response = requests.get(\"https://www.worldometers.info/geography/flags-of-the-world/\")\n",
    "if response.status_code != 200:\n",
    "\tprint(\"Error fetching page\")\n",
    "\texit()\n",
    "else:\n",
    "\tcontent = response.content"
   ]
  },
  {
   "cell_type": "code",
   "execution_count": 0,
   "metadata": {
    "application/vnd.databricks.v1+cell": {
     "cellMetadata": {
      "byteLimit": 2048000,
      "rowLimit": 10000
     },
     "inputWidgets": {},
     "nuid": "c5d5bf54-fb32-4e28-81ee-6acb06c9ae3f",
     "showTitle": false,
     "title": ""
    }
   },
   "outputs": [],
   "source": [
    "from bs4 import BeautifulSoup\n",
    "import pandas as pd\n",
    "soup = BeautifulSoup(response.content, 'html.parser')"
   ]
  },
  {
   "cell_type": "code",
   "execution_count": 0,
   "metadata": {
    "application/vnd.databricks.v1+cell": {
     "cellMetadata": {
      "byteLimit": 2048000,
      "rowLimit": 10000
     },
     "inputWidgets": {},
     "nuid": "ed0ab96f-015b-4fbb-94f5-952828d866a3",
     "showTitle": false,
     "title": ""
    }
   },
   "outputs": [],
   "source": [
    "site_address='https://www.worldometers.info'"
   ]
  },
  {
   "cell_type": "code",
   "execution_count": 0,
   "metadata": {
    "application/vnd.databricks.v1+cell": {
     "cellMetadata": {
      "byteLimit": 2048000,
      "rowLimit": 10000
     },
     "inputWidgets": {},
     "nuid": "59576cd4-23cd-4602-83f3-1bc32af55045",
     "showTitle": false,
     "title": ""
    }
   },
   "outputs": [],
   "source": [
    "second_child_div = soup.findAll('div', {'class': 'col-md-4'})"
   ]
  },
  {
   "cell_type": "code",
   "execution_count": 0,
   "metadata": {
    "application/vnd.databricks.v1+cell": {
     "cellMetadata": {
      "byteLimit": 2048000,
      "rowLimit": 10000
     },
     "inputWidgets": {},
     "nuid": "fa3a6937-6457-4724-b3dc-4de3fa3bb3a1",
     "showTitle": false,
     "title": ""
    }
   },
   "outputs": [
    {
     "output_type": "stream",
     "name": "stderr",
     "output_type": "stream",
     "text": [
      "/root/.ipykernel/2132/command-3947684466660242-620051849:7: FutureWarning: The frame.append method is deprecated and will be removed from pandas in a future version. Use pandas.concat instead.\n  df=df.append({\"country\":country,\"flag\":link},ignore_index = True)\n/root/.ipykernel/2132/command-3947684466660242-620051849:7: FutureWarning: The frame.append method is deprecated and will be removed from pandas in a future version. Use pandas.concat instead.\n  df=df.append({\"country\":country,\"flag\":link},ignore_index = True)\n/root/.ipykernel/2132/command-3947684466660242-620051849:7: FutureWarning: The frame.append method is deprecated and will be removed from pandas in a future version. Use pandas.concat instead.\n  df=df.append({\"country\":country,\"flag\":link},ignore_index = True)\n/root/.ipykernel/2132/command-3947684466660242-620051849:7: FutureWarning: The frame.append method is deprecated and will be removed from pandas in a future version. Use pandas.concat instead.\n  df=df.append({\"country\":country,\"flag\":link},ignore_index = True)\n/root/.ipykernel/2132/command-3947684466660242-620051849:7: FutureWarning: The frame.append method is deprecated and will be removed from pandas in a future version. Use pandas.concat instead.\n  df=df.append({\"country\":country,\"flag\":link},ignore_index = True)\n/root/.ipykernel/2132/command-3947684466660242-620051849:7: FutureWarning: The frame.append method is deprecated and will be removed from pandas in a future version. Use pandas.concat instead.\n  df=df.append({\"country\":country,\"flag\":link},ignore_index = True)\n/root/.ipykernel/2132/command-3947684466660242-620051849:7: FutureWarning: The frame.append method is deprecated and will be removed from pandas in a future version. Use pandas.concat instead.\n  df=df.append({\"country\":country,\"flag\":link},ignore_index = True)\n/root/.ipykernel/2132/command-3947684466660242-620051849:7: FutureWarning: The frame.append method is deprecated and will be removed from pandas in a future version. Use pandas.concat instead.\n  df=df.append({\"country\":country,\"flag\":link},ignore_index = True)\n/root/.ipykernel/2132/command-3947684466660242-620051849:7: FutureWarning: The frame.append method is deprecated and will be removed from pandas in a future version. Use pandas.concat instead.\n  df=df.append({\"country\":country,\"flag\":link},ignore_index = True)\n/root/.ipykernel/2132/command-3947684466660242-620051849:7: FutureWarning: The frame.append method is deprecated and will be removed from pandas in a future version. Use pandas.concat instead.\n  df=df.append({\"country\":country,\"flag\":link},ignore_index = True)\n/root/.ipykernel/2132/command-3947684466660242-620051849:7: FutureWarning: The frame.append method is deprecated and will be removed from pandas in a future version. Use pandas.concat instead.\n  df=df.append({\"country\":country,\"flag\":link},ignore_index = True)\n/root/.ipykernel/2132/command-3947684466660242-620051849:7: FutureWarning: The frame.append method is deprecated and will be removed from pandas in a future version. Use pandas.concat instead.\n  df=df.append({\"country\":country,\"flag\":link},ignore_index = True)\n/root/.ipykernel/2132/command-3947684466660242-620051849:7: FutureWarning: The frame.append method is deprecated and will be removed from pandas in a future version. Use pandas.concat instead.\n  df=df.append({\"country\":country,\"flag\":link},ignore_index = True)\n/root/.ipykernel/2132/command-3947684466660242-620051849:7: FutureWarning: The frame.append method is deprecated and will be removed from pandas in a future version. Use pandas.concat instead.\n  df=df.append({\"country\":country,\"flag\":link},ignore_index = True)\n/root/.ipykernel/2132/command-3947684466660242-620051849:7: FutureWarning: The frame.append method is deprecated and will be removed from pandas in a future version. Use pandas.concat instead.\n  df=df.append({\"country\":country,\"flag\":link},ignore_index = True)\n/root/.ipykernel/2132/command-3947684466660242-620051849:7: FutureWarning: The frame.append method is deprecated and will be removed from pandas in a future version. Use pandas.concat instead.\n  df=df.append({\"country\":country,\"flag\":link},ignore_index = True)\n/root/.ipykernel/2132/command-3947684466660242-620051849:7: FutureWarning: The frame.append method is deprecated and will be removed from pandas in a future version. Use pandas.concat instead.\n  df=df.append({\"country\":country,\"flag\":link},ignore_index = True)\n/root/.ipykernel/2132/command-3947684466660242-620051849:7: FutureWarning: The frame.append method is deprecated and will be removed from pandas in a future version. Use pandas.concat instead.\n  df=df.append({\"country\":country,\"flag\":link},ignore_index = True)\n/root/.ipykernel/2132/command-3947684466660242-620051849:7: FutureWarning: The frame.append method is deprecated and will be removed from pandas in a future version. Use pandas.concat instead.\n  df=df.append({\"country\":country,\"flag\":link},ignore_index = True)\n/root/.ipykernel/2132/command-3947684466660242-620051849:7: FutureWarning: The frame.append method is deprecated and will be removed from pandas in a future version. Use pandas.concat instead.\n  df=df.append({\"country\":country,\"flag\":link},ignore_index = True)\n/root/.ipykernel/2132/command-3947684466660242-620051849:7: FutureWarning: The frame.append method is deprecated and will be removed from pandas in a future version. Use pandas.concat instead.\n  df=df.append({\"country\":country,\"flag\":link},ignore_index = True)\n/root/.ipykernel/2132/command-3947684466660242-620051849:7: FutureWarning: The frame.append method is deprecated and will be removed from pandas in a future version. Use pandas.concat instead.\n  df=df.append({\"country\":country,\"flag\":link},ignore_index = True)\n/root/.ipykernel/2132/command-3947684466660242-620051849:7: FutureWarning: The frame.append method is deprecated and will be removed from pandas in a future version. Use pandas.concat instead.\n  df=df.append({\"country\":country,\"flag\":link},ignore_index = True)\n/root/.ipykernel/2132/command-3947684466660242-620051849:7: FutureWarning: The frame.append method is deprecated and will be removed from pandas in a future version. Use pandas.concat instead.\n  df=df.append({\"country\":country,\"flag\":link},ignore_index = True)\n/root/.ipykernel/2132/command-3947684466660242-620051849:7: FutureWarning: The frame.append method is deprecated and will be removed from pandas in a future version. Use pandas.concat instead.\n  df=df.append({\"country\":country,\"flag\":link},ignore_index = True)\n/root/.ipykernel/2132/command-3947684466660242-620051849:7: FutureWarning: The frame.append method is deprecated and will be removed from pandas in a future version. Use pandas.concat instead.\n  df=df.append({\"country\":country,\"flag\":link},ignore_index = True)\n/root/.ipykernel/2132/command-3947684466660242-620051849:7: FutureWarning: The frame.append method is deprecated and will be removed from pandas in a future version. Use pandas.concat instead.\n  df=df.append({\"country\":country,\"flag\":link},ignore_index = True)\n/root/.ipykernel/2132/command-3947684466660242-620051849:7: FutureWarning: The frame.append method is deprecated and will be removed from pandas in a future version. Use pandas.concat instead.\n  df=df.append({\"country\":country,\"flag\":link},ignore_index = True)\n/root/.ipykernel/2132/command-3947684466660242-620051849:7: FutureWarning: The frame.append method is deprecated and will be removed from pandas in a future version. Use pandas.concat instead.\n  df=df.append({\"country\":country,\"flag\":link},ignore_index = True)\n/root/.ipykernel/2132/command-3947684466660242-620051849:7: FutureWarning: The frame.append method is deprecated and will be removed from pandas in a future version. Use pandas.concat instead.\n  df=df.append({\"country\":country,\"flag\":link},ignore_index = True)\n/root/.ipykernel/2132/command-3947684466660242-620051849:7: FutureWarning: The frame.append method is deprecated and will be removed from pandas in a future version. Use pandas.concat instead.\n  df=df.append({\"country\":country,\"flag\":link},ignore_index = True)\n/root/.ipykernel/2132/command-3947684466660242-620051849:7: FutureWarning: The frame.append method is deprecated and will be removed from pandas in a future version. Use pandas.concat instead.\n  df=df.append({\"country\":country,\"flag\":link},ignore_index = True)\n/root/.ipykernel/2132/command-3947684466660242-620051849:7: FutureWarning: The frame.append method is deprecated and will be removed from pandas in a future version. Use pandas.concat instead.\n  df=df.append({\"country\":country,\"flag\":link},ignore_index = True)\n/root/.ipykernel/2132/command-3947684466660242-620051849:7: FutureWarning: The frame.append method is deprecated and will be removed from pandas in a future version. Use pandas.concat instead.\n  df=df.append({\"country\":country,\"flag\":link},ignore_index = True)\n/root/.ipykernel/2132/command-3947684466660242-620051849:7: FutureWarning: The frame.append method is deprecated and will be removed from pandas in a future version. Use pandas.concat instead.\n  df=df.append({\"country\":country,\"flag\":link},ignore_index = True)\n/root/.ipykernel/2132/command-3947684466660242-620051849:7: FutureWarning: The frame.append method is deprecated and will be removed from pandas in a future version. Use pandas.concat instead.\n  df=df.append({\"country\":country,\"flag\":link},ignore_index = True)\n/root/.ipykernel/2132/command-3947684466660242-620051849:7: FutureWarning: The frame.append method is deprecated and will be removed from pandas in a future version. Use pandas.concat instead.\n  df=df.append({\"country\":country,\"flag\":link},ignore_index = True)\n/root/.ipykernel/2132/command-3947684466660242-620051849:7: FutureWarning: The frame.append method is deprecated and will be removed from pandas in a future version. Use pandas.concat instead.\n  df=df.append({\"country\":country,\"flag\":link},ignore_index = True)\n/root/.ipykernel/2132/command-3947684466660242-620051849:7: FutureWarning: The frame.append method is deprecated and will be removed from pandas in a future version. Use pandas.concat instead.\n  df=df.append({\"country\":country,\"flag\":link},ignore_index = True)\n/root/.ipykernel/2132/command-3947684466660242-620051849:7: FutureWarning: The frame.append method is deprecated and will be removed from pandas in a future version. Use pandas.concat instead.\n  df=df.append({\"country\":country,\"flag\":link},ignore_index = True)\n/root/.ipykernel/2132/command-3947684466660242-620051849:7: FutureWarning: The frame.append method is deprecated and will be removed from pandas in a future version. Use pandas.concat instead.\n  df=df.append({\"country\":country,\"flag\":link},ignore_index = True)\n/root/.ipykernel/2132/command-3947684466660242-620051849:7: FutureWarning: The frame.append method is deprecated and will be removed from pandas in a future version. Use pandas.concat instead.\n  df=df.append({\"country\":country,\"flag\":link},ignore_index = True)\n/root/.ipykernel/2132/command-3947684466660242-620051849:7: FutureWarning: The frame.append method is deprecated and will be removed from pandas in a future version. Use pandas.concat instead.\n  df=df.append({\"country\":country,\"flag\":link},ignore_index = True)\n/root/.ipykernel/2132/command-3947684466660242-620051849:7: FutureWarning: The frame.append method is deprecated and will be removed from pandas in a future version. Use pandas.concat instead.\n  df=df.append({\"country\":country,\"flag\":link},ignore_index = True)\n/root/.ipykernel/2132/command-3947684466660242-620051849:7: FutureWarning: The frame.append method is deprecated and will be removed from pandas in a future version. Use pandas.concat instead.\n  df=df.append({\"country\":country,\"flag\":link},ignore_index = True)\n/root/.ipykernel/2132/command-3947684466660242-620051849:7: FutureWarning: The frame.append method is deprecated and will be removed from pandas in a future version. Use pandas.concat instead.\n  df=df.append({\"country\":country,\"flag\":link},ignore_index = True)\n/root/.ipykernel/2132/command-3947684466660242-620051849:7: FutureWarning: The frame.append method is deprecated and will be removed from pandas in a future version. Use pandas.concat instead.\n  df=df.append({\"country\":country,\"flag\":link},ignore_index = True)\n/root/.ipykernel/2132/command-3947684466660242-620051849:7: FutureWarning: The frame.append method is deprecated and will be removed from pandas in a future version. Use pandas.concat instead.\n  df=df.append({\"country\":country,\"flag\":link},ignore_index = True)\n/root/.ipykernel/2132/command-3947684466660242-620051849:7: FutureWarning: The frame.append method is deprecated and will be removed from pandas in a future version. Use pandas.concat instead.\n  df=df.append({\"country\":country,\"flag\":link},ignore_index = True)\n/root/.ipykernel/2132/command-3947684466660242-620051849:7: FutureWarning: The frame.append method is deprecated and will be removed from pandas in a future version. Use pandas.concat instead.\n  df=df.append({\"country\":country,\"flag\":link},ignore_index = True)\n/root/.ipykernel/2132/command-3947684466660242-620051849:7: FutureWarning: The frame.append method is deprecated and will be removed from pandas in a future version. Use pandas.concat instead.\n  df=df.append({\"country\":country,\"flag\":link},ignore_index = True)\n/root/.ipykernel/2132/command-3947684466660242-620051849:7: FutureWarning: The frame.append method is deprecated and will be removed from pandas in a future version. Use pandas.concat instead.\n  df=df.append({\"country\":country,\"flag\":link},ignore_index = True)\n/root/.ipykernel/2132/command-3947684466660242-620051849:7: FutureWarning: The frame.append method is deprecated and will be removed from pandas in a future version. Use pandas.concat instead.\n  df=df.append({\"country\":country,\"flag\":link},ignore_index = True)\n/root/.ipykernel/2132/command-3947684466660242-620051849:7: FutureWarning: The frame.append method is deprecated and will be removed from pandas in a future version. Use pandas.concat instead.\n  df=df.append({\"country\":country,\"flag\":link},ignore_index = True)\n/root/.ipykernel/2132/command-3947684466660242-620051849:7: FutureWarning: The frame.append method is deprecated and will be removed from pandas in a future version. Use pandas.concat instead.\n  df=df.append({\"country\":country,\"flag\":link},ignore_index = True)\n/root/.ipykernel/2132/command-3947684466660242-620051849:7: FutureWarning: The frame.append method is deprecated and will be removed from pandas in a future version. Use pandas.concat instead.\n  df=df.append({\"country\":country,\"flag\":link},ignore_index = True)\n/root/.ipykernel/2132/command-3947684466660242-620051849:7: FutureWarning: The frame.append method is deprecated and will be removed from pandas in a future version. Use pandas.concat instead.\n  df=df.append({\"country\":country,\"flag\":link},ignore_index = True)\n/root/.ipykernel/2132/command-3947684466660242-620051849:7: FutureWarning: The frame.append method is deprecated and will be removed from pandas in a future version. Use pandas.concat instead.\n  df=df.append({\"country\":country,\"flag\":link},ignore_index = True)\n/root/.ipykernel/2132/command-3947684466660242-620051849:7: FutureWarning: The frame.append method is deprecated and will be removed from pandas in a future version. Use pandas.concat instead.\n  df=df.append({\"country\":country,\"flag\":link},ignore_index = True)\n/root/.ipykernel/2132/command-3947684466660242-620051849:7: FutureWarning: The frame.append method is deprecated and will be removed from pandas in a future version. Use pandas.concat instead.\n  df=df.append({\"country\":country,\"flag\":link},ignore_index = True)\n/root/.ipykernel/2132/command-3947684466660242-620051849:7: FutureWarning: The frame.append method is deprecated and will be removed from pandas in a future version. Use pandas.concat instead.\n  df=df.append({\"country\":country,\"flag\":link},ignore_index = True)\n/root/.ipykernel/2132/command-3947684466660242-620051849:7: FutureWarning: The frame.append method is deprecated and will be removed from pandas in a future version. Use pandas.concat instead.\n  df=df.append({\"country\":country,\"flag\":link},ignore_index = True)\n/root/.ipykernel/2132/command-3947684466660242-620051849:7: FutureWarning: The frame.append method is deprecated and will be removed from pandas in a future version. Use pandas.concat instead.\n  df=df.append({\"country\":country,\"flag\":link},ignore_index = True)\n/root/.ipykernel/2132/command-3947684466660242-620051849:7: FutureWarning: The frame.append method is deprecated and will be removed from pandas in a future version. Use pandas.concat instead.\n  df=df.append({\"country\":country,\"flag\":link},ignore_index = True)\n/root/.ipykernel/2132/command-3947684466660242-620051849:7: FutureWarning: The frame.append method is deprecated and will be removed from pandas in a future version. Use pandas.concat instead.\n  df=df.append({\"country\":country,\"flag\":link},ignore_index = True)\n/root/.ipykernel/2132/command-3947684466660242-620051849:7: FutureWarning: The frame.append method is deprecated and will be removed from pandas in a future version. Use pandas.concat instead.\n  df=df.append({\"country\":country,\"flag\":link},ignore_index = True)\n/root/.ipykernel/2132/command-3947684466660242-620051849:7: FutureWarning: The frame.append method is deprecated and will be removed from pandas in a future version. Use pandas.concat instead.\n  df=df.append({\"country\":country,\"flag\":link},ignore_index = True)\n/root/.ipykernel/2132/command-3947684466660242-620051849:7: FutureWarning: The frame.append method is deprecated and will be removed from pandas in a future version. Use pandas.concat instead.\n  df=df.append({\"country\":country,\"flag\":link},ignore_index = True)\n/root/.ipykernel/2132/command-3947684466660242-620051849:7: FutureWarning: The frame.append method is deprecated and will be removed from pandas in a future version. Use pandas.concat instead.\n  df=df.append({\"country\":country,\"flag\":link},ignore_index = True)\n/root/.ipykernel/2132/command-3947684466660242-620051849:7: FutureWarning: The frame.append method is deprecated and will be removed from pandas in a future version. Use pandas.concat instead.\n  df=df.append({\"country\":country,\"flag\":link},ignore_index = True)\n/root/.ipykernel/2132/command-3947684466660242-620051849:7: FutureWarning: The frame.append method is deprecated and will be removed from pandas in a future version. Use pandas.concat instead.\n  df=df.append({\"country\":country,\"flag\":link},ignore_index = True)\n/root/.ipykernel/2132/command-3947684466660242-620051849:7: FutureWarning: The frame.append method is deprecated and will be removed from pandas in a future version. Use pandas.concat instead.\n  df=df.append({\"country\":country,\"flag\":link},ignore_index = True)\n/root/.ipykernel/2132/command-3947684466660242-620051849:7: FutureWarning: The frame.append method is deprecated and will be removed from pandas in a future version. Use pandas.concat instead.\n  df=df.append({\"country\":country,\"flag\":link},ignore_index = True)\n/root/.ipykernel/2132/command-3947684466660242-620051849:7: FutureWarning: The frame.append method is deprecated and will be removed from pandas in a future version. Use pandas.concat instead.\n  df=df.append({\"country\":country,\"flag\":link},ignore_index = True)\n/root/.ipykernel/2132/command-3947684466660242-620051849:7: FutureWarning: The frame.append method is deprecated and will be removed from pandas in a future version. Use pandas.concat instead.\n  df=df.append({\"country\":country,\"flag\":link},ignore_index = True)\n/root/.ipykernel/2132/command-3947684466660242-620051849:7: FutureWarning: The frame.append method is deprecated and will be removed from pandas in a future version. Use pandas.concat instead.\n  df=df.append({\"country\":country,\"flag\":link},ignore_index = True)\n/root/.ipykernel/2132/command-3947684466660242-620051849:7: FutureWarning: The frame.append method is deprecated and will be removed from pandas in a future version. Use pandas.concat instead.\n  df=df.append({\"country\":country,\"flag\":link},ignore_index = True)\n/root/.ipykernel/2132/command-3947684466660242-620051849:7: FutureWarning: The frame.append method is deprecated and will be removed from pandas in a future version. Use pandas.concat instead.\n  df=df.append({\"country\":country,\"flag\":link},ignore_index = True)\n/root/.ipykernel/2132/command-3947684466660242-620051849:7: FutureWarning: The frame.append method is deprecated and will be removed from pandas in a future version. Use pandas.concat instead.\n  df=df.append({\"country\":country,\"flag\":link},ignore_index = True)\n/root/.ipykernel/2132/command-3947684466660242-620051849:7: FutureWarning: The frame.append method is deprecated and will be removed from pandas in a future version. Use pandas.concat instead.\n  df=df.append({\"country\":country,\"flag\":link},ignore_index = True)\n/root/.ipykernel/2132/command-3947684466660242-620051849:7: FutureWarning: The frame.append method is deprecated and will be removed from pandas in a future version. Use pandas.concat instead.\n  df=df.append({\"country\":country,\"flag\":link},ignore_index = True)\n/root/.ipykernel/2132/command-3947684466660242-620051849:7: FutureWarning: The frame.append method is deprecated and will be removed from pandas in a future version. Use pandas.concat instead.\n  df=df.append({\"country\":country,\"flag\":link},ignore_index = True)\n/root/.ipykernel/2132/command-3947684466660242-620051849:7: FutureWarning: The frame.append method is deprecated and will be removed from pandas in a future version. Use pandas.concat instead.\n  df=df.append({\"country\":country,\"flag\":link},ignore_index = True)\n/root/.ipykernel/2132/command-3947684466660242-620051849:7: FutureWarning: The frame.append method is deprecated and will be removed from pandas in a future version. Use pandas.concat instead.\n  df=df.append({\"country\":country,\"flag\":link},ignore_index = True)\n/root/.ipykernel/2132/command-3947684466660242-620051849:7: FutureWarning: The frame.append method is deprecated and will be removed from pandas in a future version. Use pandas.concat instead.\n  df=df.append({\"country\":country,\"flag\":link},ignore_index = True)\n/root/.ipykernel/2132/command-3947684466660242-620051849:7: FutureWarning: The frame.append method is deprecated and will be removed from pandas in a future version. Use pandas.concat instead.\n  df=df.append({\"country\":country,\"flag\":link},ignore_index = True)\n/root/.ipykernel/2132/command-3947684466660242-620051849:7: FutureWarning: The frame.append method is deprecated and will be removed from pandas in a future version. Use pandas.concat instead.\n  df=df.append({\"country\":country,\"flag\":link},ignore_index = True)\n/root/.ipykernel/2132/command-3947684466660242-620051849:7: FutureWarning: The frame.append method is deprecated and will be removed from pandas in a future version. Use pandas.concat instead.\n  df=df.append({\"country\":country,\"flag\":link},ignore_index = True)\n/root/.ipykernel/2132/command-3947684466660242-620051849:7: FutureWarning: The frame.append method is deprecated and will be removed from pandas in a future version. Use pandas.concat instead.\n  df=df.append({\"country\":country,\"flag\":link},ignore_index = True)\n/root/.ipykernel/2132/command-3947684466660242-620051849:7: FutureWarning: The frame.append method is deprecated and will be removed from pandas in a future version. Use pandas.concat instead.\n  df=df.append({\"country\":country,\"flag\":link},ignore_index = True)\n/root/.ipykernel/2132/command-3947684466660242-620051849:7: FutureWarning: The frame.append method is deprecated and will be removed from pandas in a future version. Use pandas.concat instead.\n  df=df.append({\"country\":country,\"flag\":link},ignore_index = True)\n/root/.ipykernel/2132/command-3947684466660242-620051849:7: FutureWarning: The frame.append method is deprecated and will be removed from pandas in a future version. Use pandas.concat instead.\n  df=df.append({\"country\":country,\"flag\":link},ignore_index = True)\n/root/.ipykernel/2132/command-3947684466660242-620051849:7: FutureWarning: The frame.append method is deprecated and will be removed from pandas in a future version. Use pandas.concat instead.\n  df=df.append({\"country\":country,\"flag\":link},ignore_index = True)\n/root/.ipykernel/2132/command-3947684466660242-620051849:7: FutureWarning: The frame.append method is deprecated and will be removed from pandas in a future version. Use pandas.concat instead.\n  df=df.append({\"country\":country,\"flag\":link},ignore_index = True)\n/root/.ipykernel/2132/command-3947684466660242-620051849:7: FutureWarning: The frame.append method is deprecated and will be removed from pandas in a future version. Use pandas.concat instead.\n  df=df.append({\"country\":country,\"flag\":link},ignore_index = True)\n/root/.ipykernel/2132/command-3947684466660242-620051849:7: FutureWarning: The frame.append method is deprecated and will be removed from pandas in a future version. Use pandas.concat instead.\n  df=df.appe\n\n*** WARNING: max output size exceeded, skipping output. ***\n\n:7: FutureWarning: The frame.append method is deprecated and will be removed from pandas in a future version. Use pandas.concat instead.\n  df=df.append({\"country\":country,\"flag\":link},ignore_index = True)\n/root/.ipykernel/2132/command-3947684466660242-620051849:7: FutureWarning: The frame.append method is deprecated and will be removed from pandas in a future version. Use pandas.concat instead.\n  df=df.append({\"country\":country,\"flag\":link},ignore_index = True)\n/root/.ipykernel/2132/command-3947684466660242-620051849:7: FutureWarning: The frame.append method is deprecated and will be removed from pandas in a future version. Use pandas.concat instead.\n  df=df.append({\"country\":country,\"flag\":link},ignore_index = True)\n/root/.ipykernel/2132/command-3947684466660242-620051849:7: FutureWarning: The frame.append method is deprecated and will be removed from pandas in a future version. Use pandas.concat instead.\n  df=df.append({\"country\":country,\"flag\":link},ignore_index = True)\n/root/.ipykernel/2132/command-3947684466660242-620051849:7: FutureWarning: The frame.append method is deprecated and will be removed from pandas in a future version. Use pandas.concat instead.\n  df=df.append({\"country\":country,\"flag\":link},ignore_index = True)\n/root/.ipykernel/2132/command-3947684466660242-620051849:7: FutureWarning: The frame.append method is deprecated and will be removed from pandas in a future version. Use pandas.concat instead.\n  df=df.append({\"country\":country,\"flag\":link},ignore_index = True)\n/root/.ipykernel/2132/command-3947684466660242-620051849:7: FutureWarning: The frame.append method is deprecated and will be removed from pandas in a future version. Use pandas.concat instead.\n  df=df.append({\"country\":country,\"flag\":link},ignore_index = True)\n/root/.ipykernel/2132/command-3947684466660242-620051849:7: FutureWarning: The frame.append method is deprecated and will be removed from pandas in a future version. Use pandas.concat instead.\n  df=df.append({\"country\":country,\"flag\":link},ignore_index = True)\n/root/.ipykernel/2132/command-3947684466660242-620051849:7: FutureWarning: The frame.append method is deprecated and will be removed from pandas in a future version. Use pandas.concat instead.\n  df=df.append({\"country\":country,\"flag\":link},ignore_index = True)\n/root/.ipykernel/2132/command-3947684466660242-620051849:7: FutureWarning: The frame.append method is deprecated and will be removed from pandas in a future version. Use pandas.concat instead.\n  df=df.append({\"country\":country,\"flag\":link},ignore_index = True)\n/root/.ipykernel/2132/command-3947684466660242-620051849:7: FutureWarning: The frame.append method is deprecated and will be removed from pandas in a future version. Use pandas.concat instead.\n  df=df.append({\"country\":country,\"flag\":link},ignore_index = True)\n/root/.ipykernel/2132/command-3947684466660242-620051849:7: FutureWarning: The frame.append method is deprecated and will be removed from pandas in a future version. Use pandas.concat instead.\n  df=df.append({\"country\":country,\"flag\":link},ignore_index = True)\n/root/.ipykernel/2132/command-3947684466660242-620051849:7: FutureWarning: The frame.append method is deprecated and will be removed from pandas in a future version. Use pandas.concat instead.\n  df=df.append({\"country\":country,\"flag\":link},ignore_index = True)\n/root/.ipykernel/2132/command-3947684466660242-620051849:7: FutureWarning: The frame.append method is deprecated and will be removed from pandas in a future version. Use pandas.concat instead.\n  df=df.append({\"country\":country,\"flag\":link},ignore_index = True)\n/root/.ipykernel/2132/command-3947684466660242-620051849:7: FutureWarning: The frame.append method is deprecated and will be removed from pandas in a future version. Use pandas.concat instead.\n  df=df.append({\"country\":country,\"flag\":link},ignore_index = True)\n/root/.ipykernel/2132/command-3947684466660242-620051849:7: FutureWarning: The frame.append method is deprecated and will be removed from pandas in a future version. Use pandas.concat instead.\n  df=df.append({\"country\":country,\"flag\":link},ignore_index = True)\n/root/.ipykernel/2132/command-3947684466660242-620051849:7: FutureWarning: The frame.append method is deprecated and will be removed from pandas in a future version. Use pandas.concat instead.\n  df=df.append({\"country\":country,\"flag\":link},ignore_index = True)\n/root/.ipykernel/2132/command-3947684466660242-620051849:7: FutureWarning: The frame.append method is deprecated and will be removed from pandas in a future version. Use pandas.concat instead.\n  df=df.append({\"country\":country,\"flag\":link},ignore_index = True)\n/root/.ipykernel/2132/command-3947684466660242-620051849:7: FutureWarning: The frame.append method is deprecated and will be removed from pandas in a future version. Use pandas.concat instead.\n  df=df.append({\"country\":country,\"flag\":link},ignore_index = True)\n/root/.ipykernel/2132/command-3947684466660242-620051849:7: FutureWarning: The frame.append method is deprecated and will be removed from pandas in a future version. Use pandas.concat instead.\n  df=df.append({\"country\":country,\"flag\":link},ignore_index = True)\n/root/.ipykernel/2132/command-3947684466660242-620051849:7: FutureWarning: The frame.append method is deprecated and will be removed from pandas in a future version. Use pandas.concat instead.\n  df=df.append({\"country\":country,\"flag\":link},ignore_index = True)\n/root/.ipykernel/2132/command-3947684466660242-620051849:7: FutureWarning: The frame.append method is deprecated and will be removed from pandas in a future version. Use pandas.concat instead.\n  df=df.append({\"country\":country,\"flag\":link},ignore_index = True)\n/root/.ipykernel/2132/command-3947684466660242-620051849:7: FutureWarning: The frame.append method is deprecated and will be removed from pandas in a future version. Use pandas.concat instead.\n  df=df.append({\"country\":country,\"flag\":link},ignore_index = True)\n/root/.ipykernel/2132/command-3947684466660242-620051849:7: FutureWarning: The frame.append method is deprecated and will be removed from pandas in a future version. Use pandas.concat instead.\n  df=df.append({\"country\":country,\"flag\":link},ignore_index = True)\n/root/.ipykernel/2132/command-3947684466660242-620051849:7: FutureWarning: The frame.append method is deprecated and will be removed from pandas in a future version. Use pandas.concat instead.\n  df=df.append({\"country\":country,\"flag\":link},ignore_index = True)\n/root/.ipykernel/2132/command-3947684466660242-620051849:7: FutureWarning: The frame.append method is deprecated and will be removed from pandas in a future version. Use pandas.concat instead.\n  df=df.append({\"country\":country,\"flag\":link},ignore_index = True)\n/root/.ipykernel/2132/command-3947684466660242-620051849:7: FutureWarning: The frame.append method is deprecated and will be removed from pandas in a future version. Use pandas.concat instead.\n  df=df.append({\"country\":country,\"flag\":link},ignore_index = True)\n/root/.ipykernel/2132/command-3947684466660242-620051849:7: FutureWarning: The frame.append method is deprecated and will be removed from pandas in a future version. Use pandas.concat instead.\n  df=df.append({\"country\":country,\"flag\":link},ignore_index = True)\n/root/.ipykernel/2132/command-3947684466660242-620051849:7: FutureWarning: The frame.append method is deprecated and will be removed from pandas in a future version. Use pandas.concat instead.\n  df=df.append({\"country\":country,\"flag\":link},ignore_index = True)\n/root/.ipykernel/2132/command-3947684466660242-620051849:7: FutureWarning: The frame.append method is deprecated and will be removed from pandas in a future version. Use pandas.concat instead.\n  df=df.append({\"country\":country,\"flag\":link},ignore_index = True)\n/root/.ipykernel/2132/command-3947684466660242-620051849:7: FutureWarning: The frame.append method is deprecated and will be removed from pandas in a future version. Use pandas.concat instead.\n  df=df.append({\"country\":country,\"flag\":link},ignore_index = True)\n/root/.ipykernel/2132/command-3947684466660242-620051849:7: FutureWarning: The frame.append method is deprecated and will be removed from pandas in a future version. Use pandas.concat instead.\n  df=df.append({\"country\":country,\"flag\":link},ignore_index = True)\n/root/.ipykernel/2132/command-3947684466660242-620051849:7: FutureWarning: The frame.append method is deprecated and will be removed from pandas in a future version. Use pandas.concat instead.\n  df=df.append({\"country\":country,\"flag\":link},ignore_index = True)\n/root/.ipykernel/2132/command-3947684466660242-620051849:7: FutureWarning: The frame.append method is deprecated and will be removed from pandas in a future version. Use pandas.concat instead.\n  df=df.append({\"country\":country,\"flag\":link},ignore_index = True)\n/root/.ipykernel/2132/command-3947684466660242-620051849:7: FutureWarning: The frame.append method is deprecated and will be removed from pandas in a future version. Use pandas.concat instead.\n  df=df.append({\"country\":country,\"flag\":link},ignore_index = True)\n/root/.ipykernel/2132/command-3947684466660242-620051849:7: FutureWarning: The frame.append method is deprecated and will be removed from pandas in a future version. Use pandas.concat instead.\n  df=df.append({\"country\":country,\"flag\":link},ignore_index = True)\n/root/.ipykernel/2132/command-3947684466660242-620051849:7: FutureWarning: The frame.append method is deprecated and will be removed from pandas in a future version. Use pandas.concat instead.\n  df=df.append({\"country\":country,\"flag\":link},ignore_index = True)\n/root/.ipykernel/2132/command-3947684466660242-620051849:7: FutureWarning: The frame.append method is deprecated and will be removed from pandas in a future version. Use pandas.concat instead.\n  df=df.append({\"country\":country,\"flag\":link},ignore_index = True)\n/root/.ipykernel/2132/command-3947684466660242-620051849:7: FutureWarning: The frame.append method is deprecated and will be removed from pandas in a future version. Use pandas.concat instead.\n  df=df.append({\"country\":country,\"flag\":link},ignore_index = True)\n/root/.ipykernel/2132/command-3947684466660242-620051849:7: FutureWarning: The frame.append method is deprecated and will be removed from pandas in a future version. Use pandas.concat instead.\n  df=df.append({\"country\":country,\"flag\":link},ignore_index = True)\n/root/.ipykernel/2132/command-3947684466660242-620051849:7: FutureWarning: The frame.append method is deprecated and will be removed from pandas in a future version. Use pandas.concat instead.\n  df=df.append({\"country\":country,\"flag\":link},ignore_index = True)\n/root/.ipykernel/2132/command-3947684466660242-620051849:7: FutureWarning: The frame.append method is deprecated and will be removed from pandas in a future version. Use pandas.concat instead.\n  df=df.append({\"country\":country,\"flag\":link},ignore_index = True)\n/root/.ipykernel/2132/command-3947684466660242-620051849:7: FutureWarning: The frame.append method is deprecated and will be removed from pandas in a future version. Use pandas.concat instead.\n  df=df.append({\"country\":country,\"flag\":link},ignore_index = True)\n/root/.ipykernel/2132/command-3947684466660242-620051849:7: FutureWarning: The frame.append method is deprecated and will be removed from pandas in a future version. Use pandas.concat instead.\n  df=df.append({\"country\":country,\"flag\":link},ignore_index = True)\n/root/.ipykernel/2132/command-3947684466660242-620051849:7: FutureWarning: The frame.append method is deprecated and will be removed from pandas in a future version. Use pandas.concat instead.\n  df=df.append({\"country\":country,\"flag\":link},ignore_index = True)\n/root/.ipykernel/2132/command-3947684466660242-620051849:7: FutureWarning: The frame.append method is deprecated and will be removed from pandas in a future version. Use pandas.concat instead.\n  df=df.append({\"country\":country,\"flag\":link},ignore_index = True)\n/root/.ipykernel/2132/command-3947684466660242-620051849:7: FutureWarning: The frame.append method is deprecated and will be removed from pandas in a future version. Use pandas.concat instead.\n  df=df.append({\"country\":country,\"flag\":link},ignore_index = True)\n/root/.ipykernel/2132/command-3947684466660242-620051849:7: FutureWarning: The frame.append method is deprecated and will be removed from pandas in a future version. Use pandas.concat instead.\n  df=df.append({\"country\":country,\"flag\":link},ignore_index = True)\n/root/.ipykernel/2132/command-3947684466660242-620051849:7: FutureWarning: The frame.append method is deprecated and will be removed from pandas in a future version. Use pandas.concat instead.\n  df=df.append({\"country\":country,\"flag\":link},ignore_index = True)\n/root/.ipykernel/2132/command-3947684466660242-620051849:7: FutureWarning: The frame.append method is deprecated and will be removed from pandas in a future version. Use pandas.concat instead.\n  df=df.append({\"country\":country,\"flag\":link},ignore_index = True)\n/root/.ipykernel/2132/command-3947684466660242-620051849:7: FutureWarning: The frame.append method is deprecated and will be removed from pandas in a future version. Use pandas.concat instead.\n  df=df.append({\"country\":country,\"flag\":link},ignore_index = True)\n/root/.ipykernel/2132/command-3947684466660242-620051849:7: FutureWarning: The frame.append method is deprecated and will be removed from pandas in a future version. Use pandas.concat instead.\n  df=df.append({\"country\":country,\"flag\":link},ignore_index = True)\n/root/.ipykernel/2132/command-3947684466660242-620051849:7: FutureWarning: The frame.append method is deprecated and will be removed from pandas in a future version. Use pandas.concat instead.\n  df=df.append({\"country\":country,\"flag\":link},ignore_index = True)\n/root/.ipykernel/2132/command-3947684466660242-620051849:7: FutureWarning: The frame.append method is deprecated and will be removed from pandas in a future version. Use pandas.concat instead.\n  df=df.append({\"country\":country,\"flag\":link},ignore_index = True)\n/root/.ipykernel/2132/command-3947684466660242-620051849:7: FutureWarning: The frame.append method is deprecated and will be removed from pandas in a future version. Use pandas.concat instead.\n  df=df.append({\"country\":country,\"flag\":link},ignore_index = True)\n/root/.ipykernel/2132/command-3947684466660242-620051849:7: FutureWarning: The frame.append method is deprecated and will be removed from pandas in a future version. Use pandas.concat instead.\n  df=df.append({\"country\":country,\"flag\":link},ignore_index = True)\n/root/.ipykernel/2132/command-3947684466660242-620051849:7: FutureWarning: The frame.append method is deprecated and will be removed from pandas in a future version. Use pandas.concat instead.\n  df=df.append({\"country\":country,\"flag\":link},ignore_index = True)\n/root/.ipykernel/2132/command-3947684466660242-620051849:7: FutureWarning: The frame.append method is deprecated and will be removed from pandas in a future version. Use pandas.concat instead.\n  df=df.append({\"country\":country,\"flag\":link},ignore_index = True)\n/root/.ipykernel/2132/command-3947684466660242-620051849:7: FutureWarning: The frame.append method is deprecated and will be removed from pandas in a future version. Use pandas.concat instead.\n  df=df.append({\"country\":country,\"flag\":link},ignore_index = True)\n/root/.ipykernel/2132/command-3947684466660242-620051849:7: FutureWarning: The frame.append method is deprecated and will be removed from pandas in a future version. Use pandas.concat instead.\n  df=df.append({\"country\":country,\"flag\":link},ignore_index = True)\n/root/.ipykernel/2132/command-3947684466660242-620051849:7: FutureWarning: The frame.append method is deprecated and will be removed from pandas in a future version. Use pandas.concat instead.\n  df=df.append({\"country\":country,\"flag\":link},ignore_index = True)\n/root/.ipykernel/2132/command-3947684466660242-620051849:7: FutureWarning: The frame.append method is deprecated and will be removed from pandas in a future version. Use pandas.concat instead.\n  df=df.append({\"country\":country,\"flag\":link},ignore_index = True)\n/root/.ipykernel/2132/command-3947684466660242-620051849:7: FutureWarning: The frame.append method is deprecated and will be removed from pandas in a future version. Use pandas.concat instead.\n  df=df.append({\"country\":country,\"flag\":link},ignore_index = True)\n/root/.ipykernel/2132/command-3947684466660242-620051849:7: FutureWarning: The frame.append method is deprecated and will be removed from pandas in a future version. Use pandas.concat instead.\n  df=df.append({\"country\":country,\"flag\":link},ignore_index = True)\n/root/.ipykernel/2132/command-3947684466660242-620051849:7: FutureWarning: The frame.append method is deprecated and will be removed from pandas in a future version. Use pandas.concat instead.\n  df=df.append({\"country\":country,\"flag\":link},ignore_index = True)\n/root/.ipykernel/2132/command-3947684466660242-620051849:7: FutureWarning: The frame.append method is deprecated and will be removed from pandas in a future version. Use pandas.concat instead.\n  df=df.append({\"country\":country,\"flag\":link},ignore_index = True)\n/root/.ipykernel/2132/command-3947684466660242-620051849:7: FutureWarning: The frame.append method is deprecated and will be removed from pandas in a future version. Use pandas.concat instead.\n  df=df.append({\"country\":country,\"flag\":link},ignore_index = True)\n/root/.ipykernel/2132/command-3947684466660242-620051849:7: FutureWarning: The frame.append method is deprecated and will be removed from pandas in a future version. Use pandas.concat instead.\n  df=df.append({\"country\":country,\"flag\":link},ignore_index = True)\n/root/.ipykernel/2132/command-3947684466660242-620051849:7: FutureWarning: The frame.append method is deprecated and will be removed from pandas in a future version. Use pandas.concat instead.\n  df=df.append({\"country\":country,\"flag\":link},ignore_index = True)\n/root/.ipykernel/2132/command-3947684466660242-620051849:7: FutureWarning: The frame.append method is deprecated and will be removed from pandas in a future version. Use pandas.concat instead.\n  df=df.append({\"country\":country,\"flag\":link},ignore_index = True)\n/root/.ipykernel/2132/command-3947684466660242-620051849:7: FutureWarning: The frame.append method is deprecated and will be removed from pandas in a future version. Use pandas.concat instead.\n  df=df.append({\"country\":country,\"flag\":link},ignore_index = True)\n/root/.ipykernel/2132/command-3947684466660242-620051849:7: FutureWarning: The frame.append method is deprecated and will be removed from pandas in a future version. Use pandas.concat instead.\n  df=df.append({\"country\":country,\"flag\":link},ignore_index = True)\n/root/.ipykernel/2132/command-3947684466660242-620051849:7: FutureWarning: The frame.append method is deprecated and will be removed from pandas in a future version. Use pandas.concat instead.\n  df=df.append({\"country\":country,\"flag\":link},ignore_index = True)\n/root/.ipykernel/2132/command-3947684466660242-620051849:7: FutureWarning: The frame.append method is deprecated and will be removed from pandas in a future version. Use pandas.concat instead.\n  df=df.append({\"country\":country,\"flag\":link},ignore_index = True)\n/root/.ipykernel/2132/command-3947684466660242-620051849:7: FutureWarning: The frame.append method is deprecated and will be removed from pandas in a future version. Use pandas.concat instead.\n  df=df.append({\"country\":country,\"flag\":link},ignore_index = True)\n/root/.ipykernel/2132/command-3947684466660242-620051849:7: FutureWarning: The frame.append method is deprecated and will be removed from pandas in a future version. Use pandas.concat instead.\n  df=df.append({\"country\":country,\"flag\":link},ignore_index = True)\n/root/.ipykernel/2132/command-3947684466660242-620051849:7: FutureWarning: The frame.append method is deprecated and will be removed from pandas in a future version. Use pandas.concat instead.\n  df=df.append({\"country\":country,\"flag\":link},ignore_index = True)\n/root/.ipykernel/2132/command-3947684466660242-620051849:7: FutureWarning: The frame.append method is deprecated and will be removed from pandas in a future version. Use pandas.concat instead.\n  df=df.append({\"country\":country,\"flag\":link},ignore_index = True)\n/root/.ipykernel/2132/command-3947684466660242-620051849:7: FutureWarning: The frame.append method is deprecated and will be removed from pandas in a future version. Use pandas.concat instead.\n  df=df.append({\"country\":country,\"flag\":link},ignore_index = True)\n/root/.ipykernel/2132/command-3947684466660242-620051849:7: FutureWarning: The frame.append method is deprecated and will be removed from pandas in a future version. Use pandas.concat instead.\n  df=df.append({\"country\":country,\"flag\":link},ignore_index = True)\n/root/.ipykernel/2132/command-3947684466660242-620051849:7: FutureWarning: The frame.append method is deprecated and will be removed from pandas in a future version. Use pandas.concat instead.\n  df=df.append({\"country\":country,\"flag\":link},ignore_index = True)\n/root/.ipykernel/2132/command-3947684466660242-620051849:7: FutureWarning: The frame.append method is deprecated and will be removed from pandas in a future version. Use pandas.concat instead.\n  df=df.append({\"country\":country,\"flag\":link},ignore_index = True)\n/root/.ipykernel/2132/command-3947684466660242-620051849:7: FutureWarning: The frame.append method is deprecated and will be removed from pandas in a future version. Use pandas.concat instead.\n  df=df.append({\"country\":country,\"flag\":link},ignore_index = True)\n/root/.ipykernel/2132/command-3947684466660242-620051849:7: FutureWarning: The frame.append method is deprecated and will be removed from pandas in a future version. Use pandas.concat instead.\n  df=df.append({\"country\":country,\"flag\":link},ignore_index = True)\n/root/.ipykernel/2132/command-3947684466660242-620051849:7: FutureWarning: The frame.append method is deprecated and will be removed from pandas in a future version. Use pandas.concat instead.\n  df=df.append({\"country\":country,\"flag\":link},ignore_index = True)\n/root/.ipykernel/2132/command-3947684466660242-620051849:7: FutureWarning: The frame.append method is deprecated and will be removed from pandas in a future version. Use pandas.concat instead.\n  df=df.append({\"country\":country,\"flag\":link},ignore_index = True)\n/root/.ipykernel/2132/command-3947684466660242-620051849:7: FutureWarning: The frame.append method is deprecated and will be removed from pandas in a future version. Use pandas.concat instead.\n  df=df.append({\"country\":country,\"flag\":link},ignore_index = True)\n/root/.ipykernel/2132/command-3947684466660242-620051849:7: FutureWarning: The frame.append method is deprecated and will be removed from pandas in a future version. Use pandas.concat instead.\n  df=df.append({\"country\":country,\"flag\":link},ignore_index = True)\n/root/.ipykernel/2132/command-3947684466660242-620051849:7: FutureWarning: The frame.append method is deprecated and will be removed from pandas in a future version. Use pandas.concat instead.\n  df=df.append({\"country\":country,\"flag\":link},ignore_index = True)\n/root/.ipykernel/2132/command-3947684466660242-620051849:7: FutureWarning: The frame.append method is deprecated and will be removed from pandas in a future version. Use pandas.concat instead.\n  df=df.append({\"country\":country,\"flag\":link},ignore_index = True)\n/root/.ipykernel/2132/command-3947684466660242-620051849:7: FutureWarning: The frame.append method is deprecated and will be removed from pandas in a future version. Use pandas.concat instead.\n  df=df.append({\"country\":country,\"flag\":link},ignore_index = True)\n/root/.ipykernel/2132/command-3947684466660242-620051849:7: FutureWarning: The frame.append method is deprecated and will be removed from pandas in a future version. Use pandas.concat instead.\n  df=df.append({\"country\":country,\"flag\":link},ignore_index = True)\n/root/.ipykernel/2132/command-3947684466660242-620051849:7: FutureWarning: The frame.append method is deprecated and will be removed from pandas in a future version. Use pandas.concat instead.\n  df=df.append({\"country\":country,\"flag\":link},ignore_index = True)\n/root/.ipykernel/2132/command-3947684466660242-620051849:7: FutureWarning: The frame.append method is deprecated and will be removed from pandas in a future version. Use pandas.concat instead.\n  df=df.append({\"country\":country,\"flag\":link},ignore_index = True)\n/root/.ipykernel/2132/command-3947684466660242-620051849:7: FutureWarning: The frame.append method is deprecated and will be removed from pandas in a future version. Use pandas.concat instead.\n  df=df.append({\"country\":country,\"flag\":link},ignore_index = True)\n/root/.ipykernel/2132/command-3947684466660242-620051849:7: FutureWarning: The frame.append method is deprecated and will be removed from pandas in a future version. Use pandas.concat instead.\n  df=df.append({\"country\":country,\"flag\":link},ignore_index = True)\n"
     ]
    },
    {
     "output_type": "display_data",
     "data": {
      "text/plain": [
       "\u001B[0;31m---------------------------------------------------------------------------\u001B[0m\n",
       "\u001B[0;31mTypeError\u001B[0m                                 Traceback (most recent call last)\n",
       "File \u001B[0;32m<command-3947684466660242>, line 4\u001B[0m\n",
       "\u001B[1;32m      2\u001B[0m count\u001B[38;5;241m=\u001B[39m\u001B[38;5;241m0\u001B[39m;\n",
       "\u001B[1;32m      3\u001B[0m \u001B[38;5;28;01mfor\u001B[39;00m i \u001B[38;5;129;01min\u001B[39;00m second_child_div:\n",
       "\u001B[0;32m----> 4\u001B[0m     link \u001B[38;5;241m=\u001B[39msite_address\u001B[38;5;241m+\u001B[39mi\u001B[38;5;241m.\u001B[39mfind(\u001B[38;5;124m\"\u001B[39m\u001B[38;5;124ma\u001B[39m\u001B[38;5;124m\"\u001B[39m)[\u001B[38;5;124m'\u001B[39m\u001B[38;5;124mhref\u001B[39m\u001B[38;5;124m'\u001B[39m]\n",
       "\u001B[1;32m      5\u001B[0m     country\u001B[38;5;241m=\u001B[39mi\u001B[38;5;241m.\u001B[39mtext\n",
       "\u001B[1;32m      6\u001B[0m     count\u001B[38;5;241m+\u001B[39m\u001B[38;5;241m=\u001B[39m\u001B[38;5;241m1\u001B[39m\n",
       "\n",
       "\u001B[0;31mTypeError\u001B[0m: 'NoneType' object is not subscriptable"
      ]
     },
     "metadata": {
      "application/vnd.databricks.v1+output": {
       "arguments": {},
       "data": "\u001B[0;31m---------------------------------------------------------------------------\u001B[0m\n\u001B[0;31mTypeError\u001B[0m                                 Traceback (most recent call last)\nFile \u001B[0;32m<command-3947684466660242>, line 4\u001B[0m\n\u001B[1;32m      2\u001B[0m count\u001B[38;5;241m=\u001B[39m\u001B[38;5;241m0\u001B[39m;\n\u001B[1;32m      3\u001B[0m \u001B[38;5;28;01mfor\u001B[39;00m i \u001B[38;5;129;01min\u001B[39;00m second_child_div:\n\u001B[0;32m----> 4\u001B[0m     link \u001B[38;5;241m=\u001B[39msite_address\u001B[38;5;241m+\u001B[39mi\u001B[38;5;241m.\u001B[39mfind(\u001B[38;5;124m\"\u001B[39m\u001B[38;5;124ma\u001B[39m\u001B[38;5;124m\"\u001B[39m)[\u001B[38;5;124m'\u001B[39m\u001B[38;5;124mhref\u001B[39m\u001B[38;5;124m'\u001B[39m]\n\u001B[1;32m      5\u001B[0m     country\u001B[38;5;241m=\u001B[39mi\u001B[38;5;241m.\u001B[39mtext\n\u001B[1;32m      6\u001B[0m     count\u001B[38;5;241m+\u001B[39m\u001B[38;5;241m=\u001B[39m\u001B[38;5;241m1\u001B[39m\n\n\u001B[0;31mTypeError\u001B[0m: 'NoneType' object is not subscriptable",
       "errorSummary": "<span class='ansi-red-fg'>TypeError</span>: 'NoneType' object is not subscriptable",
       "errorTraceType": "ansi",
       "metadata": {},
       "type": "ipynbError"
      }
     },
     "output_type": "display_data"
    }
   ],
   "source": [
    "df = pd.DataFrame(columns = ['country', 'flag'])\n",
    "count=0;\n",
    "for i in second_child_div:\n",
    "    link =site_address+i.find(\"a\")['href']\n",
    "    country=i.text\n",
    "    count+=1\n",
    "    df=df.append({\"country\":country,\"flag\":link},ignore_index = True)"
   ]
  },
  {
   "cell_type": "code",
   "execution_count": 0,
   "metadata": {
    "application/vnd.databricks.v1+cell": {
     "cellMetadata": {
      "byteLimit": 2048000,
      "rowLimit": 10000
     },
     "inputWidgets": {},
     "nuid": "029fd037-b1b7-4912-ad91-ada1a5112d70",
     "showTitle": false,
     "title": ""
    }
   },
   "outputs": [],
   "source": [
    "# Defining data types\n",
    "df_type = {\n",
    "    \"country\":str,\n",
    "    \"flag\":str\n",
    "}"
   ]
  },
  {
   "cell_type": "code",
   "execution_count": 0,
   "metadata": {
    "application/vnd.databricks.v1+cell": {
     "cellMetadata": {
      "byteLimit": 2048000,
      "rowLimit": 10000
     },
     "inputWidgets": {},
     "nuid": "218c98ce-1eb7-42e0-b1a1-034c352f79d9",
     "showTitle": false,
     "title": ""
    }
   },
   "outputs": [],
   "source": [
    " extracted_spark_df = spark.createDataFrame(df.astype(df_type))\n",
    "# Add new columns to the Spark Data Frame\n",
    "extracted_spark_column_df=create_new_column(extracted_spark_df,\"countryflags\", \"https://www.worldometers.info\")\n",
    "extracted_spark_renamed_df=extracted_spark_column_df\\\n",
    "    .withColumnRenamed(\"_c0\",\"country\")\\\n",
    "    .withColumnRenamed(\"_c1\",\"flag\")\\\n",
    "    .withColumnRenamed(\"_c2\",\"ingestion_date\")\\\n",
    "    .withColumnRenamed(\"_c3\",\"data_source_name\")\n",
    " extracted_spark_renamed_df=  extracted_spark_renamed_df.select(\"country\",\"flag\",\"ingestion_date\",\"data_source_name\")\n",
    "# Save spark data frame into ADLS storage account\n",
    "extracted_spark_renamed_df.write.format(\"csv\").mode(\"overwrite\").save(f\"{footballflags_folder_path}/countryflags\")"
   ]
  },
  {
   "cell_type": "code",
   "execution_count": 0,
   "metadata": {
    "application/vnd.databricks.v1+cell": {
     "cellMetadata": {
      "byteLimit": 2048000,
      "rowLimit": 10000
     },
     "inputWidgets": {},
     "nuid": "960ff61f-0412-4a97-9ac4-99b5b5f46207",
     "showTitle": false,
     "title": ""
    }
   },
   "outputs": [
    {
     "output_type": "display_data",
     "data": {
      "text/html": [
       "<style scoped>\n",
       "  .table-result-container {\n",
       "    max-height: 300px;\n",
       "    overflow: auto;\n",
       "  }\n",
       "  table, th, td {\n",
       "    border: 1px solid black;\n",
       "    border-collapse: collapse;\n",
       "  }\n",
       "  th, td {\n",
       "    padding: 5px;\n",
       "  }\n",
       "  th {\n",
       "    text-align: left;\n",
       "  }\n",
       "</style><div class='table-result-container'><table class='table-result'><thead style='background-color: white'><tr><th>country</th><th>flag</th><th>ingestion_date</th><th>data_source</th></tr></thead><tbody><tr><td>Samoa</td><td>https://www.worldometers.info/img/flags/ws-flag.gif</td><td>2023-10-13T19:16:33.924Z</td><td>https://www.worldometers.info</td></tr><tr><td>San Marino</td><td>https://www.worldometers.info/img/flags/sm-flag.gif</td><td>2023-10-13T19:16:33.924Z</td><td>https://www.worldometers.info</td></tr><tr><td>Sao Tome and Principe</td><td>https://www.worldometers.info/img/flags/tp-flag.gif</td><td>2023-10-13T19:16:33.924Z</td><td>https://www.worldometers.info</td></tr><tr><td>Saudi Arabia</td><td>https://www.worldometers.info/img/flags/sa-flag.gif</td><td>2023-10-13T19:16:33.924Z</td><td>https://www.worldometers.info</td></tr><tr><td>Senegal</td><td>https://www.worldometers.info/img/flags/sg-flag.gif</td><td>2023-10-13T19:16:33.924Z</td><td>https://www.worldometers.info</td></tr><tr><td>Serbia</td><td>https://www.worldometers.info/img/flags/ri-flag.gif</td><td>2023-10-13T19:16:33.924Z</td><td>https://www.worldometers.info</td></tr><tr><td>Seychelles</td><td>https://www.worldometers.info/img/flags/se-flag.gif</td><td>2023-10-13T19:16:33.924Z</td><td>https://www.worldometers.info</td></tr><tr><td>Sierra Leone</td><td>https://www.worldometers.info/img/flags/sl-flag.gif</td><td>2023-10-13T19:16:33.924Z</td><td>https://www.worldometers.info</td></tr><tr><td>Singapore</td><td>https://www.worldometers.info/img/flags/sn-flag.gif</td><td>2023-10-13T19:16:33.924Z</td><td>https://www.worldometers.info</td></tr><tr><td>Slovakia</td><td>https://www.worldometers.info/img/flags/lo-flag.gif</td><td>2023-10-13T19:16:33.924Z</td><td>https://www.worldometers.info</td></tr><tr><td>Slovenia</td><td>https://www.worldometers.info/img/flags/si-flag.gif</td><td>2023-10-13T19:16:33.924Z</td><td>https://www.worldometers.info</td></tr><tr><td>Solomon Islands</td><td>https://www.worldometers.info/img/flags/bp-flag.gif</td><td>2023-10-13T19:16:33.924Z</td><td>https://www.worldometers.info</td></tr><tr><td>Somalia</td><td>https://www.worldometers.info/img/flags/so-flag.gif</td><td>2023-10-13T19:16:33.924Z</td><td>https://www.worldometers.info</td></tr><tr><td>South Africa</td><td>https://www.worldometers.info/img/flags/sf-flag.gif</td><td>2023-10-13T19:16:33.924Z</td><td>https://www.worldometers.info</td></tr><tr><td>South Korea</td><td>https://www.worldometers.info/img/flags/ks-flag.gif</td><td>2023-10-13T19:16:33.924Z</td><td>https://www.worldometers.info</td></tr><tr><td>South Sudan</td><td>https://www.worldometers.info/img/flags/od-flag.gif</td><td>2023-10-13T19:16:33.924Z</td><td>https://www.worldometers.info</td></tr><tr><td>Spain</td><td>https://www.worldometers.info/img/flags/sp-flag.gif</td><td>2023-10-13T19:16:33.924Z</td><td>https://www.worldometers.info</td></tr><tr><td>Sri Lanka</td><td>https://www.worldometers.info/img/flags/ce-flag.gif</td><td>2023-10-13T19:16:33.924Z</td><td>https://www.worldometers.info</td></tr><tr><td>St. Vincent Grenadines</td><td>https://www.worldometers.info/img/flags/vc-flag.gif</td><td>2023-10-13T19:16:33.924Z</td><td>https://www.worldometers.info</td></tr><tr><td>State of Palestine</td><td>https://www.worldometers.info/img/flags/palestine-flag.gif</td><td>2023-10-13T19:16:33.924Z</td><td>https://www.worldometers.info</td></tr><tr><td>Sudan</td><td>https://www.worldometers.info/img/flags/su-flag.gif</td><td>2023-10-13T19:16:33.924Z</td><td>https://www.worldometers.info</td></tr><tr><td>Suriname</td><td>https://www.worldometers.info/img/flags/ns-flag.gif</td><td>2023-10-13T19:16:33.924Z</td><td>https://www.worldometers.info</td></tr><tr><td>Sweden</td><td>https://www.worldometers.info/img/flags/sw-flag.gif</td><td>2023-10-13T19:16:33.924Z</td><td>https://www.worldometers.info</td></tr><tr><td>Switzerland</td><td>https://www.worldometers.info/img/flags/sz-flag.gif</td><td>2023-10-13T19:16:33.924Z</td><td>https://www.worldometers.info</td></tr><tr><td>Syria</td><td>https://www.worldometers.info/img/flags/sy-flag.gif</td><td>2023-10-13T19:16:33.924Z</td><td>https://www.worldometers.info</td></tr><tr><td>Tajikistan</td><td>https://www.worldometers.info/img/flags/ti-flag.gif</td><td>2023-10-13T19:16:33.924Z</td><td>https://www.worldometers.info</td></tr><tr><td>Tanzania</td><td>https://www.worldometers.info/img/flags/tz-flag.gif</td><td>2023-10-13T19:16:33.924Z</td><td>https://www.worldometers.info</td></tr><tr><td>Thailand</td><td>https://www.worldometers.info/img/flags/th-flag.gif</td><td>2023-10-13T19:16:33.924Z</td><td>https://www.worldometers.info</td></tr><tr><td>Timor-Leste</td><td>https://www.worldometers.info/img/flags/tt-flag.gif</td><td>2023-10-13T19:16:33.924Z</td><td>https://www.worldometers.info</td></tr><tr><td>Togo</td><td>https://www.worldometers.info/img/flags/to-flag.gif</td><td>2023-10-13T19:16:33.924Z</td><td>https://www.worldometers.info</td></tr><tr><td>Tonga</td><td>https://www.worldometers.info/img/flags/tn-flag.gif</td><td>2023-10-13T19:16:33.924Z</td><td>https://www.worldometers.info</td></tr><tr><td>Trinidad and Tobago</td><td>https://www.worldometers.info/img/flags/td-flag.gif</td><td>2023-10-13T19:16:33.924Z</td><td>https://www.worldometers.info</td></tr><tr><td>Tunisia</td><td>https://www.worldometers.info/img/flags/ts-flag.gif</td><td>2023-10-13T19:16:33.924Z</td><td>https://www.worldometers.info</td></tr><tr><td>Turkey</td><td>https://www.worldometers.info/img/flags/tu-flag.gif</td><td>2023-10-13T19:16:33.924Z</td><td>https://www.worldometers.info</td></tr><tr><td>Turkmenistan</td><td>https://www.worldometers.info/img/flags/tx-flag.gif</td><td>2023-10-13T19:16:33.924Z</td><td>https://www.worldometers.info</td></tr><tr><td>Tuvalu</td><td>https://www.worldometers.info/img/flags/tv-flag.gif</td><td>2023-10-13T19:16:33.924Z</td><td>https://www.worldometers.info</td></tr><tr><td>U.A.E.</td><td>https://www.worldometers.info/img/flags/ae-flag.gif</td><td>2023-10-13T19:16:33.924Z</td><td>https://www.worldometers.info</td></tr><tr><td>U.K.</td><td>https://www.worldometers.info/img/flags/uk-flag.gif</td><td>2023-10-13T19:16:33.924Z</td><td>https://www.worldometers.info</td></tr><tr><td>U.S.</td><td>https://www.worldometers.info/img/flags/us-flag.gif</td><td>2023-10-13T19:16:33.924Z</td><td>https://www.worldometers.info</td></tr><tr><td>Uganda</td><td>https://www.worldometers.info/img/flags/ug-flag.gif</td><td>2023-10-13T19:16:33.924Z</td><td>https://www.worldometers.info</td></tr><tr><td>Ukraine</td><td>https://www.worldometers.info/img/flags/up-flag.gif</td><td>2023-10-13T19:16:33.924Z</td><td>https://www.worldometers.info</td></tr><tr><td>Uruguay</td><td>https://www.worldometers.info/img/flags/uy-flag.gif</td><td>2023-10-13T19:16:33.924Z</td><td>https://www.worldometers.info</td></tr><tr><td>Uzbekistan</td><td>https://www.worldometers.info/img/flags/uz-flag.gif</td><td>2023-10-13T19:16:33.924Z</td><td>https://www.worldometers.info</td></tr><tr><td>Vanuatu</td><td>https://www.worldometers.info/img/flags/nh-flag.gif</td><td>2023-10-13T19:16:33.924Z</td><td>https://www.worldometers.info</td></tr><tr><td>Venezuela</td><td>https://www.worldometers.info/img/flags/ve-flag.gif</td><td>2023-10-13T19:16:33.924Z</td><td>https://www.worldometers.info</td></tr><tr><td>Vietnam</td><td>https://www.worldometers.info/img/flags/vm-flag.gif</td><td>2023-10-13T19:16:33.924Z</td><td>https://www.worldometers.info</td></tr><tr><td>Yemen</td><td>https://www.worldometers.info/img/flags/ym-flag.gif</td><td>2023-10-13T19:16:33.924Z</td><td>https://www.worldometers.info</td></tr><tr><td>Zambia</td><td>https://www.worldometers.info/img/flags/za-flag.gif</td><td>2023-10-13T19:16:33.924Z</td><td>https://www.worldometers.info</td></tr><tr><td>Zimbabwe</td><td>https://www.worldometers.info/img/flags/zi-flag.gif</td><td>2023-10-13T19:16:33.924Z</td><td>https://www.worldometers.info</td></tr><tr><td>Liberia</td><td>https://www.worldometers.info/img/flags/li-flag.gif</td><td>2023-10-13T19:16:33.924Z</td><td>https://www.worldometers.info</td></tr><tr><td>Libya</td><td>https://www.worldometers.info/img/flags/ly-flag.gif</td><td>2023-10-13T19:16:33.924Z</td><td>https://www.worldometers.info</td></tr><tr><td>Liechtenstein</td><td>https://www.worldometers.info/img/flags/ls-flag.gif</td><td>2023-10-13T19:16:33.924Z</td><td>https://www.worldometers.info</td></tr><tr><td>Lithuania</td><td>https://www.worldometers.info/img/flags/lh-flag.gif</td><td>2023-10-13T19:16:33.924Z</td><td>https://www.worldometers.info</td></tr><tr><td>Luxembourg</td><td>https://www.worldometers.info/img/flags/lu-flag.gif</td><td>2023-10-13T19:16:33.924Z</td><td>https://www.worldometers.info</td></tr><tr><td>Madagascar</td><td>https://www.worldometers.info/img/flags/ma-flag.gif</td><td>2023-10-13T19:16:33.924Z</td><td>https://www.worldometers.info</td></tr><tr><td>Malawi</td><td>https://www.worldometers.info/img/flags/mi-flag.gif</td><td>2023-10-13T19:16:33.924Z</td><td>https://www.worldometers.info</td></tr><tr><td>Malaysia</td><td>https://www.worldometers.info/img/flags/my-flag.gif</td><td>2023-10-13T19:16:33.924Z</td><td>https://www.worldometers.info</td></tr><tr><td>Maldives</td><td>https://www.worldometers.info/img/flags/mv-flag.gif</td><td>2023-10-13T19:16:33.924Z</td><td>https://www.worldometers.info</td></tr><tr><td>Mali</td><td>https://www.worldometers.info/img/flags/ml-flag.gif</td><td>2023-10-13T19:16:33.924Z</td><td>https://www.worldometers.info</td></tr><tr><td>Malta</td><td>https://www.worldometers.info/img/flags/mt-flag.gif</td><td>2023-10-13T19:16:33.924Z</td><td>https://www.worldometers.info</td></tr><tr><td>Marshall Islands</td><td>https://www.worldometers.info/img/flags/rm-flag.gif</td><td>2023-10-13T19:16:33.924Z</td><td>https://www.worldometers.info</td></tr><tr><td>Mauritania</td><td>https://www.worldometers.info/img/flags/mr-flag.gif</td><td>2023-10-13T19:16:33.924Z</td><td>https://www.worldometers.info</td></tr><tr><td>Mauritius</td><td>https://www.worldometers.info/img/flags/mp-flag.gif</td><td>2023-10-13T19:16:33.924Z</td><td>https://www.worldometers.info</td></tr><tr><td>Mexico</td><td>https://www.worldometers.info/img/flags/mx-flag.gif</td><td>2023-10-13T19:16:33.924Z</td><td>https://www.worldometers.info</td></tr><tr><td>Micronesia</td><td>https://www.worldometers.info/img/flags/fm-flag.gif</td><td>2023-10-13T19:16:33.924Z</td><td>https://www.worldometers.info</td></tr><tr><td>Moldova</td><td>https://www.worldometers.info/img/flags/md-flag.gif</td><td>2023-10-13T19:16:33.924Z</td><td>https://www.worldometers.info</td></tr><tr><td>Monaco</td><td>https://www.worldometers.info/img/flags/mn-flag.gif</td><td>2023-10-13T19:16:33.924Z</td><td>https://www.worldometers.info</td></tr><tr><td>Mongolia</td><td>https://www.worldometers.info/img/flags/mg-flag.gif</td><td>2023-10-13T19:16:33.924Z</td><td>https://www.worldometers.info</td></tr><tr><td>Montenegro</td><td>https://www.worldometers.info/img/flags/mj-flag.gif</td><td>2023-10-13T19:16:33.924Z</td><td>https://www.worldometers.info</td></tr><tr><td>Morocco</td><td>https://www.worldometers.info/img/flags/mo-flag.gif</td><td>2023-10-13T19:16:33.924Z</td><td>https://www.worldometers.info</td></tr><tr><td>Mozambique</td><td>https://www.worldometers.info/img/flags/mz-flag.gif</td><td>2023-10-13T19:16:33.924Z</td><td>https://www.worldometers.info</td></tr><tr><td>Myanmar</td><td>https://www.worldometers.info/img/flags/bm-flag.gif</td><td>2023-10-13T19:16:33.924Z</td><td>https://www.worldometers.info</td></tr><tr><td>Namibia</td><td>https://www.worldometers.info/img/flags/wa-flag.gif</td><td>2023-10-13T19:16:33.924Z</td><td>https://www.worldometers.info</td></tr><tr><td>Nauru</td><td>https://www.worldometers.info/img/flags/nr-flag.gif</td><td>2023-10-13T19:16:33.924Z</td><td>https://www.worldometers.info</td></tr><tr><td>Nepal</td><td>https://www.worldometers.info/img/flags/np-flag.gif</td><td>2023-10-13T19:16:33.924Z</td><td>https://www.worldometers.info</td></tr><tr><td>Netherlands</td><td>https://www.worldometers.info/img/flags/nl-flag.gif</td><td>2023-10-13T19:16:33.924Z</td><td>https://www.worldometers.info</td></tr><tr><td>New Zealand</td><td>https://www.worldometers.info/img/flags/nz-flag.gif</td><td>2023-10-13T19:16:33.924Z</td><td>https://www.worldometers.info</td></tr><tr><td>Nicaragua</td><td>https://www.worldometers.info/img/flags/nu-flag.gif</td><td>2023-10-13T19:16:33.924Z</td><td>https://www.worldometers.info</td></tr><tr><td>Niger</td><td>https://www.worldometers.info/img/flags/ng-flag.gif</td><td>2023-10-13T19:16:33.924Z</td><td>https://www.worldometers.info</td></tr><tr><td>Nigeria</td><td>https://www.worldometers.info/img/flags/ni-flag.gif</td><td>2023-10-13T19:16:33.924Z</td><td>https://www.worldometers.info</td></tr><tr><td>North Macedonia</td><td>https://www.worldometers.info/img/flags/mk-flag.gif</td><td>2023-10-13T19:16:33.924Z</td><td>https://www.worldometers.info</td></tr><tr><td>Norway</td><td>https://www.worldometers.info/img/flags/no-flag.gif</td><td>2023-10-13T19:16:33.924Z</td><td>https://www.worldometers.info</td></tr><tr><td>Oman</td><td>https://www.worldometers.info/img/flags/mu-flag.gif</td><td>2023-10-13T19:16:33.924Z</td><td>https://www.worldometers.info</td></tr><tr><td>Pakistan</td><td>https://www.worldometers.info/img/flags/pk-flag.gif</td><td>2023-10-13T19:16:33.924Z</td><td>https://www.worldometers.info</td></tr><tr><td>Palau</td><td>https://www.worldometers.info/img/flags/ps-flag.gif</td><td>2023-10-13T19:16:33.924Z</td><td>https://www.worldometers.info</td></tr><tr><td>Panama</td><td>https://www.worldometers.info/img/flags/pm-flag.gif</td><td>2023-10-13T19:16:33.924Z</td><td>https://www.worldometers.info</td></tr><tr><td>Papua New Guinea</td><td>https://www.worldometers.info/img/flags/pp-flag.gif</td><td>2023-10-13T19:16:33.924Z</td><td>https://www.worldometers.info</td></tr><tr><td>Paraguay</td><td>https://www.worldometers.info/img/flags/pa-flag.gif</td><td>2023-10-13T19:16:33.924Z</td><td>https://www.worldometers.info</td></tr><tr><td>Peru</td><td>https://www.worldometers.info/img/flags/pe-flag.gif</td><td>2023-10-13T19:16:33.924Z</td><td>https://www.worldometers.info</td></tr><tr><td>Philippines</td><td>https://www.worldometers.info/img/flags/rp-flag.gif</td><td>2023-10-13T19:16:33.924Z</td><td>https://www.worldometers.info</td></tr><tr><td>Poland</td><td>https://www.worldometers.info/img/flags/pl-flag.gif</td><td>2023-10-13T19:16:33.924Z</td><td>https://www.worldometers.info</td></tr><tr><td>Portugal</td><td>https://www.worldometers.info/img/flags/po-flag.gif</td><td>2023-10-13T19:16:33.924Z</td><td>https://www.worldometers.info</td></tr><tr><td>Qatar</td><td>https://www.worldometers.info/img/flags/qa-flag.gif</td><td>2023-10-13T19:16:33.924Z</td><td>https://www.worldometers.info</td></tr><tr><td>Romania</td><td>https://www.worldometers.info/img/flags/ro-flag.gif</td><td>2023-10-13T19:16:33.924Z</td><td>https://www.worldometers.info</td></tr><tr><td>Russia</td><td>https://www.worldometers.info/img/flags/rs-flag.gif</td><td>2023-10-13T19:16:33.924Z</td><td>https://www.worldometers.info</td></tr><tr><td>Rwanda</td><td>https://www.worldometers.info/img/flags/rw-flag.gif</td><td>2023-10-13T19:16:33.924Z</td><td>https://www.worldometers.info</td></tr><tr><td>Saint Kitts and Nevis</td><td>https://www.worldometers.info/img/flags/sc-flag.gif</td><td>2023-10-13T19:16:33.924Z</td><td>https://www.worldometers.info</td></tr><tr><td>Saint Lucia</td><td>https://www.worldometers.info/img/flags/st-flag.gif</td><td>2023-10-13T19:16:33.924Z</td><td>https://www.worldometers.info</td></tr><tr><td>Dominican Republic</td><td>https://www.worldometers.info/img/flags/dr-flag.gif</td><td>2023-10-13T19:16:33.924Z</td><td>https://www.worldometers.info</td></tr><tr><td>DPRK</td><td>https://www.worldometers.info/img/flags/kn-flag.gif</td><td>2023-10-13T19:16:33.924Z</td><td>https://www.worldometers.info</td></tr><tr><td>DRC</td><td>https://www.worldometers.info/img/flags/congo-flag.gif</td><td>2023-10-13T19:16:33.924Z</td><td>https://www.worldometers.info</td></tr><tr><td>Ecuador</td><td>https://www.worldometers.info/img/flags/ec-flag.gif</td><td>2023-10-13T19:16:33.924Z</td><td>https://www.worldometers.info</td></tr><tr><td>Egypt</td><td>https://www.worldometers.info/img/flags/eg-flag.gif</td><td>2023-10-13T19:16:33.924Z</td><td>https://www.worldometers.info</td></tr><tr><td>El Salvador</td><td>https://www.worldometers.info/img/flags/es-flag.gif</td><td>2023-10-13T19:16:33.924Z</td><td>https://www.worldometers.info</td></tr><tr><td>Equatorial Guinea</td><td>https://www.worldometers.info/img/flags/ek-flag.gif</td><td>2023-10-13T19:16:33.924Z</td><td>https://www.worldometers.info</td></tr><tr><td>Eritrea</td><td>https://www.worldometers.info/img/flags/er-flag.gif</td><td>2023-10-13T19:16:33.924Z</td><td>https://www.worldometers.info</td></tr><tr><td>Estonia</td><td>https://www.worldometers.info/img/flags/en-flag.gif</td><td>2023-10-13T19:16:33.924Z</td><td>https://www.worldometers.info</td></tr><tr><td>Eswatini</td><td>https://www.worldometers.info/img/flags/wz-flag.gif</td><td>2023-10-13T19:16:33.924Z</td><td>https://www.worldometers.info</td></tr><tr><td>Ethiopia</td><td>https://www.worldometers.info/img/flags/et-flag.gif</td><td>2023-10-13T19:16:33.924Z</td><td>https://www.worldometers.info</td></tr><tr><td>Fiji</td><td>https://www.worldometers.info/img/flags/fj-flag.gif</td><td>2023-10-13T19:16:33.924Z</td><td>https://www.worldometers.info</td></tr><tr><td>Finland</td><td>https://www.worldometers.info/img/flags/fi-flag.gif</td><td>2023-10-13T19:16:33.924Z</td><td>https://www.worldometers.info</td></tr><tr><td>France</td><td>https://www.worldometers.info/img/flags/fr-flag.gif</td><td>2023-10-13T19:16:33.924Z</td><td>https://www.worldometers.info</td></tr><tr><td>Gabon</td><td>https://www.worldometers.info/img/flags/gb-flag.gif</td><td>2023-10-13T19:16:33.924Z</td><td>https://www.worldometers.info</td></tr><tr><td>Gambia</td><td>https://www.worldometers.info/img/flags/ga-flag.gif</td><td>2023-10-13T19:16:33.924Z</td><td>https://www.worldometers.info</td></tr><tr><td>Georgia</td><td>https://www.worldometers.info/img/flags/gg-flag.gif</td><td>2023-10-13T19:16:33.924Z</td><td>https://www.worldometers.info</td></tr><tr><td>Germany</td><td>https://www.worldometers.info/img/flags/gm-flag.gif</td><td>2023-10-13T19:16:33.924Z</td><td>https://www.worldometers.info</td></tr><tr><td>Ghana</td><td>https://www.worldometers.info/img/flags/gh-flag.gif</td><td>2023-10-13T19:16:33.924Z</td><td>https://www.worldometers.info</td></tr><tr><td>Greece</td><td>https://www.worldometers.info/img/flags/gr-flag.gif</td><td>2023-10-13T19:16:33.924Z</td><td>https://www.worldometers.info</td></tr><tr><td>Grenada</td><td>https://www.worldometers.info/img/flags/gj-flag.gif</td><td>2023-10-13T19:16:33.924Z</td><td>https://www.worldometers.info</td></tr><tr><td>Guatemala</td><td>https://www.worldometers.info/img/flags/gt-flag.gif</td><td>2023-10-13T19:16:33.924Z</td><td>https://www.worldometers.info</td></tr><tr><td>Guinea</td><td>https://www.worldometers.info/img/flags/gv-flag.gif</td><td>2023-10-13T19:16:33.924Z</td><td>https://www.worldometers.info</td></tr><tr><td>Guinea-Bissau</td><td>https://www.worldometers.info/img/flags/pu-flag.gif</td><td>2023-10-13T19:16:33.924Z</td><td>https://www.worldometers.info</td></tr><tr><td>Guyana</td><td>https://www.worldometers.info/img/flags/gy-flag.gif</td><td>2023-10-13T19:16:33.924Z</td><td>https://www.worldometers.info</td></tr><tr><td>Haiti</td><td>https://www.worldometers.info/img/flags/ha-flag.gif</td><td>2023-10-13T19:16:33.924Z</td><td>https://www.worldometers.info</td></tr><tr><td>Holy See</td><td>https://www.worldometers.info/img/flags/vt-flag.gif</td><td>2023-10-13T19:16:33.924Z</td><td>https://www.worldometers.info</td></tr><tr><td>Honduras</td><td>https://www.worldometers.info/img/flags/ho-flag.gif</td><td>2023-10-13T19:16:33.924Z</td><td>https://www.worldometers.info</td></tr><tr><td>Hungary</td><td>https://www.worldometers.info/img/flags/hu-flag.gif</td><td>2023-10-13T19:16:33.924Z</td><td>https://www.worldometers.info</td></tr><tr><td>Iceland</td><td>https://www.worldometers.info/img/flags/ic-flag.gif</td><td>2023-10-13T19:16:33.924Z</td><td>https://www.worldometers.info</td></tr><tr><td>India</td><td>https://www.worldometers.info/img/flags/in-flag.gif</td><td>2023-10-13T19:16:33.924Z</td><td>https://www.worldometers.info</td></tr><tr><td>Indonesia</td><td>https://www.worldometers.info/img/flags/id-flag.gif</td><td>2023-10-13T19:16:33.924Z</td><td>https://www.worldometers.info</td></tr><tr><td>Iran</td><td>https://www.worldometers.info/img/flags/ir-flag.gif</td><td>2023-10-13T19:16:33.924Z</td><td>https://www.worldometers.info</td></tr><tr><td>Iraq</td><td>https://www.worldometers.info/img/flags/iz-flag.gif</td><td>2023-10-13T19:16:33.924Z</td><td>https://www.worldometers.info</td></tr><tr><td>Ireland</td><td>https://www.worldometers.info/img/flags/ei-flag.gif</td><td>2023-10-13T19:16:33.924Z</td><td>https://www.worldometers.info</td></tr><tr><td>Israel</td><td>https://www.worldometers.info/img/flags/is-flag.gif</td><td>2023-10-13T19:16:33.924Z</td><td>https://www.worldometers.info</td></tr><tr><td>Italy</td><td>https://www.worldometers.info/img/flags/it-flag.gif</td><td>2023-10-13T19:16:33.924Z</td><td>https://www.worldometers.info</td></tr><tr><td>Jamaica</td><td>https://www.worldometers.info/img/flags/jm-flag.gif</td><td>2023-10-13T19:16:33.924Z</td><td>https://www.worldometers.info</td></tr><tr><td>Japan</td><td>https://www.worldometers.info/img/flags/ja-flag.gif</td><td>2023-10-13T19:16:33.924Z</td><td>https://www.worldometers.info</td></tr><tr><td>Jordan</td><td>https://www.worldometers.info/img/flags/jo-flag.gif</td><td>2023-10-13T19:16:33.924Z</td><td>https://www.worldometers.info</td></tr><tr><td>Kazakhstan</td><td>https://www.worldometers.info/img/flags/kz-flag.gif</td><td>2023-10-13T19:16:33.924Z</td><td>https://www.worldometers.info</td></tr><tr><td>Kenya</td><td>https://www.worldometers.info/img/flags/ke-flag.gif</td><td>2023-10-13T19:16:33.924Z</td><td>https://www.worldometers.info</td></tr><tr><td>Kiribati</td><td>https://www.worldometers.info/img/flags/kr-flag.gif</td><td>2023-10-13T19:16:33.924Z</td><td>https://www.worldometers.info</td></tr><tr><td>Kuwait</td><td>https://www.worldometers.info/img/flags/ku-flag.gif</td><td>2023-10-13T19:16:33.924Z</td><td>https://www.worldometers.info</td></tr><tr><td>Kyrgyzstan</td><td>https://www.worldometers.info/img/flags/kg-flag.gif</td><td>2023-10-13T19:16:33.924Z</td><td>https://www.worldometers.info</td></tr><tr><td>Laos</td><td>https://www.worldometers.info/img/flags/la-flag.gif</td><td>2023-10-13T19:16:33.924Z</td><td>https://www.worldometers.info</td></tr><tr><td>Latvia</td><td>https://www.worldometers.info/img/flags/lg-flag.gif</td><td>2023-10-13T19:16:33.924Z</td><td>https://www.worldometers.info</td></tr><tr><td>Lebanon</td><td>https://www.worldometers.info/img/flags/le-flag.gif</td><td>2023-10-13T19:16:33.924Z</td><td>https://www.worldometers.info</td></tr><tr><td>Lesotho</td><td>https://www.worldometers.info/img/flags/lt-flag.gif</td><td>2023-10-13T19:16:33.924Z</td><td>https://www.worldometers.info</td></tr><tr><td>Afghanistan</td><td>https://www.worldometers.info/img/flags/af-flag.gif</td><td>2023-10-13T19:16:33.924Z</td><td>https://www.worldometers.info</td></tr><tr><td>Albania</td><td>https://www.worldometers.info/img/flags/al-flag.gif</td><td>2023-10-13T19:16:33.924Z</td><td>https://www.worldometers.info</td></tr><tr><td>Algeria</td><td>https://www.worldometers.info/img/flags/ag-flag.gif</td><td>2023-10-13T19:16:33.924Z</td><td>https://www.worldometers.info</td></tr><tr><td>Andorra</td><td>https://www.worldometers.info/img/flags/an-flag.gif</td><td>2023-10-13T19:16:33.924Z</td><td>https://www.worldometers.info</td></tr><tr><td>Angola</td><td>https://www.worldometers.info/img/flags/ao-flag.gif</td><td>2023-10-13T19:16:33.924Z</td><td>https://www.worldometers.info</td></tr><tr><td>Antigua and Barbuda</td><td>https://www.worldometers.info/img/flags/ac-flag.gif</td><td>2023-10-13T19:16:33.924Z</td><td>https://www.worldometers.info</td></tr><tr><td>Argentina</td><td>https://www.worldometers.info/img/flags/ar-flag.gif</td><td>2023-10-13T19:16:33.924Z</td><td>https://www.worldometers.info</td></tr><tr><td>Armenia</td><td>https://www.worldometers.info/img/flags/am-flag.gif</td><td>2023-10-13T19:16:33.924Z</td><td>https://www.worldometers.info</td></tr><tr><td>Australia</td><td>https://www.worldometers.info/img/flags/as-flag.gif</td><td>2023-10-13T19:16:33.924Z</td><td>https://www.worldometers.info</td></tr><tr><td>Austria</td><td>https://www.worldometers.info/img/flags/au-flag.gif</td><td>2023-10-13T19:16:33.924Z</td><td>https://www.worldometers.info</td></tr><tr><td>Azerbaijan</td><td>https://www.worldometers.info/img/flags/aj-flag.gif</td><td>2023-10-13T19:16:33.924Z</td><td>https://www.worldometers.info</td></tr><tr><td>Bahamas</td><td>https://www.worldometers.info/img/flags/bf-flag.gif</td><td>2023-10-13T19:16:33.924Z</td><td>https://www.worldometers.info</td></tr><tr><td>Bahrain</td><td>https://www.worldometers.info/img/flags/ba-flag.gif</td><td>2023-10-13T19:16:33.924Z</td><td>https://www.worldometers.info</td></tr><tr><td>Bangladesh</td><td>https://www.worldometers.info/img/flags/bg-flag.gif</td><td>2023-10-13T19:16:33.924Z</td><td>https://www.worldometers.info</td></tr><tr><td>Barbados</td><td>https://www.worldometers.info/img/flags/bb-flag.gif</td><td>2023-10-13T19:16:33.924Z</td><td>https://www.worldometers.info</td></tr><tr><td>Belarus</td><td>https://www.worldometers.info/img/flags/bo-flag.gif</td><td>2023-10-13T19:16:33.924Z</td><td>https://www.worldometers.info</td></tr><tr><td>Belgium</td><td>https://www.worldometers.info/img/flags/be-flag.gif</td><td>2023-10-13T19:16:33.924Z</td><td>https://www.worldometers.info</td></tr><tr><td>Belize</td><td>https://www.worldometers.info/img/flags/bh-flag.gif</td><td>2023-10-13T19:16:33.924Z</td><td>https://www.worldometers.info</td></tr><tr><td>Benin</td><td>https://www.worldometers.info/img/flags/bn-flag.gif</td><td>2023-10-13T19:16:33.924Z</td><td>https://www.worldometers.info</td></tr><tr><td>Bhutan</td><td>https://www.worldometers.info/img/flags/bt-flag.gif</td><td>2023-10-13T19:16:33.924Z</td><td>https://www.worldometers.info</td></tr><tr><td>Bolivia</td><td>https://www.worldometers.info/img/flags/bl-flag.gif</td><td>2023-10-13T19:16:33.924Z</td><td>https://www.worldometers.info</td></tr><tr><td>Bosnia and Herzegovina</td><td>https://www.worldometers.info/img/flags/bk-flag.gif</td><td>2023-10-13T19:16:33.924Z</td><td>https://www.worldometers.info</td></tr><tr><td>Botswana</td><td>https://www.worldometers.info/img/flags/bc-flag.gif</td><td>2023-10-13T19:16:33.924Z</td><td>https://www.worldometers.info</td></tr><tr><td>Brazil</td><td>https://www.worldometers.info/img/flags/br-flag.gif</td><td>2023-10-13T19:16:33.924Z</td><td>https://www.worldometers.info</td></tr><tr><td>Brunei</td><td>https://www.worldometers.info/img/flags/bx-flag.gif</td><td>2023-10-13T19:16:33.924Z</td><td>https://www.worldometers.info</td></tr><tr><td>Bulgaria</td><td>https://www.worldometers.info/img/flags/bu-flag.gif</td><td>2023-10-13T19:16:33.924Z</td><td>https://www.worldometers.info</td></tr><tr><td>Burkina Faso</td><td>https://www.worldometers.info/img/flags/uv-flag.gif</td><td>2023-10-13T19:16:33.924Z</td><td>https://www.worldometers.info</td></tr><tr><td>Burundi</td><td>https://www.worldometers.info/img/flags/by-flag.gif</td><td>2023-10-13T19:16:33.924Z</td><td>https://www.worldometers.info</td></tr><tr><td>Côte d'Ivoire</td><td>https://www.worldometers.info/img/flags/iv-flag.gif</td><td>2023-10-13T19:16:33.924Z</td><td>https://www.worldometers.info</td></tr><tr><td>Cabo Verde</td><td>https://www.worldometers.info/img/flags/cv-flag.gif</td><td>2023-10-13T19:16:33.924Z</td><td>https://www.worldometers.info</td></tr><tr><td>Cambodia</td><td>https://www.worldometers.info/img/flags/cb-flag.gif</td><td>2023-10-13T19:16:33.924Z</td><td>https://www.worldometers.info</td></tr><tr><td>Cameroon</td><td>https://www.worldometers.info/img/flags/cm-flag.gif</td><td>2023-10-13T19:16:33.924Z</td><td>https://www.worldometers.info</td></tr><tr><td>Canada</td><td>https://www.worldometers.info/img/flags/ca-flag.gif</td><td>2023-10-13T19:16:33.924Z</td><td>https://www.worldometers.info</td></tr><tr><td>CAR</td><td>https://www.worldometers.info/img/flags/ct-flag.gif</td><td>2023-10-13T19:16:33.924Z</td><td>https://www.worldometers.info</td></tr><tr><td>Chad</td><td>https://www.worldometers.info/img/flags/cd-flag.gif</td><td>2023-10-13T19:16:33.924Z</td><td>https://www.worldometers.info</td></tr><tr><td>Chile</td><td>https://www.worldometers.info/img/flags/ci-flag.gif</td><td>2023-10-13T19:16:33.924Z</td><td>https://www.worldometers.info</td></tr><tr><td>China</td><td>https://www.worldometers.info/img/flags/ch-flag.gif</td><td>2023-10-13T19:16:33.924Z</td><td>https://www.worldometers.info</td></tr><tr><td>Colombia</td><td>https://www.worldometers.info/img/flags/co-flag.gif</td><td>2023-10-13T19:16:33.924Z</td><td>https://www.worldometers.info</td></tr><tr><td>Comoros</td><td>https://www.worldometers.info/img/flags/cn-flag.gif</td><td>2023-10-13T19:16:33.924Z</td><td>https://www.worldometers.info</td></tr><tr><td>Congo</td><td>https://www.worldometers.info/img/flags/cg-flag.gif</td><td>2023-10-13T19:16:33.924Z</td><td>https://www.worldometers.info</td></tr><tr><td>Costa Rica</td><td>https://www.worldometers.info/img/flags/cs-flag.gif</td><td>2023-10-13T19:16:33.924Z</td><td>https://www.worldometers.info</td></tr><tr><td>Croatia</td><td>https://www.worldometers.info/img/flags/hr-flag.gif</td><td>2023-10-13T19:16:33.924Z</td><td>https://www.worldometers.info</td></tr><tr><td>Cuba</td><td>https://www.worldometers.info/img/flags/cu-flag.gif</td><td>2023-10-13T19:16:33.924Z</td><td>https://www.worldometers.info</td></tr><tr><td>Cyprus</td><td>https://www.worldometers.info/img/flags/cy-flag.gif</td><td>2023-10-13T19:16:33.924Z</td><td>https://www.worldometers.info</td></tr><tr><td>Czechia</td><td>https://www.worldometers.info/img/flags/ez-flag.gif</td><td>2023-10-13T19:16:33.924Z</td><td>https://www.worldometers.info</td></tr><tr><td>Denmark</td><td>https://www.worldometers.info/img/flags/da-flag.gif</td><td>2023-10-13T19:16:33.924Z</td><td>https://www.worldometers.info</td></tr><tr><td>Djibouti</td><td>https://www.worldometers.info/img/flags/dj-flag.gif</td><td>2023-10-13T19:16:33.924Z</td><td>https://www.worldometers.info</td></tr><tr><td>Dominica</td><td>https://www.worldometers.info/img/flags/do-flag.gif</td><td>2023-10-13T19:16:33.924Z</td><td>https://www.worldometers.info</td></tr></tbody></table></div>"
      ]
     },
     "metadata": {
      "application/vnd.databricks.v1+output": {
       "addedWidgets": {},
       "aggData": [],
       "aggError": "",
       "aggOverflow": false,
       "aggSchema": [],
       "aggSeriesLimitReached": false,
       "aggType": "",
       "arguments": {},
       "columnCustomDisplayInfos": {},
       "data": [
        [
         "Samoa",
         "https://www.worldometers.info/img/flags/ws-flag.gif",
         "2023-10-13T19:16:33.924Z",
         "https://www.worldometers.info"
        ],
        [
         "San Marino",
         "https://www.worldometers.info/img/flags/sm-flag.gif",
         "2023-10-13T19:16:33.924Z",
         "https://www.worldometers.info"
        ],
        [
         "Sao Tome and Principe",
         "https://www.worldometers.info/img/flags/tp-flag.gif",
         "2023-10-13T19:16:33.924Z",
         "https://www.worldometers.info"
        ],
        [
         "Saudi Arabia",
         "https://www.worldometers.info/img/flags/sa-flag.gif",
         "2023-10-13T19:16:33.924Z",
         "https://www.worldometers.info"
        ],
        [
         "Senegal",
         "https://www.worldometers.info/img/flags/sg-flag.gif",
         "2023-10-13T19:16:33.924Z",
         "https://www.worldometers.info"
        ],
        [
         "Serbia",
         "https://www.worldometers.info/img/flags/ri-flag.gif",
         "2023-10-13T19:16:33.924Z",
         "https://www.worldometers.info"
        ],
        [
         "Seychelles",
         "https://www.worldometers.info/img/flags/se-flag.gif",
         "2023-10-13T19:16:33.924Z",
         "https://www.worldometers.info"
        ],
        [
         "Sierra Leone",
         "https://www.worldometers.info/img/flags/sl-flag.gif",
         "2023-10-13T19:16:33.924Z",
         "https://www.worldometers.info"
        ],
        [
         "Singapore",
         "https://www.worldometers.info/img/flags/sn-flag.gif",
         "2023-10-13T19:16:33.924Z",
         "https://www.worldometers.info"
        ],
        [
         "Slovakia",
         "https://www.worldometers.info/img/flags/lo-flag.gif",
         "2023-10-13T19:16:33.924Z",
         "https://www.worldometers.info"
        ],
        [
         "Slovenia",
         "https://www.worldometers.info/img/flags/si-flag.gif",
         "2023-10-13T19:16:33.924Z",
         "https://www.worldometers.info"
        ],
        [
         "Solomon Islands",
         "https://www.worldometers.info/img/flags/bp-flag.gif",
         "2023-10-13T19:16:33.924Z",
         "https://www.worldometers.info"
        ],
        [
         "Somalia",
         "https://www.worldometers.info/img/flags/so-flag.gif",
         "2023-10-13T19:16:33.924Z",
         "https://www.worldometers.info"
        ],
        [
         "South Africa",
         "https://www.worldometers.info/img/flags/sf-flag.gif",
         "2023-10-13T19:16:33.924Z",
         "https://www.worldometers.info"
        ],
        [
         "South Korea",
         "https://www.worldometers.info/img/flags/ks-flag.gif",
         "2023-10-13T19:16:33.924Z",
         "https://www.worldometers.info"
        ],
        [
         "South Sudan",
         "https://www.worldometers.info/img/flags/od-flag.gif",
         "2023-10-13T19:16:33.924Z",
         "https://www.worldometers.info"
        ],
        [
         "Spain",
         "https://www.worldometers.info/img/flags/sp-flag.gif",
         "2023-10-13T19:16:33.924Z",
         "https://www.worldometers.info"
        ],
        [
         "Sri Lanka",
         "https://www.worldometers.info/img/flags/ce-flag.gif",
         "2023-10-13T19:16:33.924Z",
         "https://www.worldometers.info"
        ],
        [
         "St. Vincent Grenadines",
         "https://www.worldometers.info/img/flags/vc-flag.gif",
         "2023-10-13T19:16:33.924Z",
         "https://www.worldometers.info"
        ],
        [
         "State of Palestine",
         "https://www.worldometers.info/img/flags/palestine-flag.gif",
         "2023-10-13T19:16:33.924Z",
         "https://www.worldometers.info"
        ],
        [
         "Sudan",
         "https://www.worldometers.info/img/flags/su-flag.gif",
         "2023-10-13T19:16:33.924Z",
         "https://www.worldometers.info"
        ],
        [
         "Suriname",
         "https://www.worldometers.info/img/flags/ns-flag.gif",
         "2023-10-13T19:16:33.924Z",
         "https://www.worldometers.info"
        ],
        [
         "Sweden",
         "https://www.worldometers.info/img/flags/sw-flag.gif",
         "2023-10-13T19:16:33.924Z",
         "https://www.worldometers.info"
        ],
        [
         "Switzerland",
         "https://www.worldometers.info/img/flags/sz-flag.gif",
         "2023-10-13T19:16:33.924Z",
         "https://www.worldometers.info"
        ],
        [
         "Syria",
         "https://www.worldometers.info/img/flags/sy-flag.gif",
         "2023-10-13T19:16:33.924Z",
         "https://www.worldometers.info"
        ],
        [
         "Tajikistan",
         "https://www.worldometers.info/img/flags/ti-flag.gif",
         "2023-10-13T19:16:33.924Z",
         "https://www.worldometers.info"
        ],
        [
         "Tanzania",
         "https://www.worldometers.info/img/flags/tz-flag.gif",
         "2023-10-13T19:16:33.924Z",
         "https://www.worldometers.info"
        ],
        [
         "Thailand",
         "https://www.worldometers.info/img/flags/th-flag.gif",
         "2023-10-13T19:16:33.924Z",
         "https://www.worldometers.info"
        ],
        [
         "Timor-Leste",
         "https://www.worldometers.info/img/flags/tt-flag.gif",
         "2023-10-13T19:16:33.924Z",
         "https://www.worldometers.info"
        ],
        [
         "Togo",
         "https://www.worldometers.info/img/flags/to-flag.gif",
         "2023-10-13T19:16:33.924Z",
         "https://www.worldometers.info"
        ],
        [
         "Tonga",
         "https://www.worldometers.info/img/flags/tn-flag.gif",
         "2023-10-13T19:16:33.924Z",
         "https://www.worldometers.info"
        ],
        [
         "Trinidad and Tobago",
         "https://www.worldometers.info/img/flags/td-flag.gif",
         "2023-10-13T19:16:33.924Z",
         "https://www.worldometers.info"
        ],
        [
         "Tunisia",
         "https://www.worldometers.info/img/flags/ts-flag.gif",
         "2023-10-13T19:16:33.924Z",
         "https://www.worldometers.info"
        ],
        [
         "Turkey",
         "https://www.worldometers.info/img/flags/tu-flag.gif",
         "2023-10-13T19:16:33.924Z",
         "https://www.worldometers.info"
        ],
        [
         "Turkmenistan",
         "https://www.worldometers.info/img/flags/tx-flag.gif",
         "2023-10-13T19:16:33.924Z",
         "https://www.worldometers.info"
        ],
        [
         "Tuvalu",
         "https://www.worldometers.info/img/flags/tv-flag.gif",
         "2023-10-13T19:16:33.924Z",
         "https://www.worldometers.info"
        ],
        [
         "U.A.E.",
         "https://www.worldometers.info/img/flags/ae-flag.gif",
         "2023-10-13T19:16:33.924Z",
         "https://www.worldometers.info"
        ],
        [
         "U.K.",
         "https://www.worldometers.info/img/flags/uk-flag.gif",
         "2023-10-13T19:16:33.924Z",
         "https://www.worldometers.info"
        ],
        [
         "U.S.",
         "https://www.worldometers.info/img/flags/us-flag.gif",
         "2023-10-13T19:16:33.924Z",
         "https://www.worldometers.info"
        ],
        [
         "Uganda",
         "https://www.worldometers.info/img/flags/ug-flag.gif",
         "2023-10-13T19:16:33.924Z",
         "https://www.worldometers.info"
        ],
        [
         "Ukraine",
         "https://www.worldometers.info/img/flags/up-flag.gif",
         "2023-10-13T19:16:33.924Z",
         "https://www.worldometers.info"
        ],
        [
         "Uruguay",
         "https://www.worldometers.info/img/flags/uy-flag.gif",
         "2023-10-13T19:16:33.924Z",
         "https://www.worldometers.info"
        ],
        [
         "Uzbekistan",
         "https://www.worldometers.info/img/flags/uz-flag.gif",
         "2023-10-13T19:16:33.924Z",
         "https://www.worldometers.info"
        ],
        [
         "Vanuatu",
         "https://www.worldometers.info/img/flags/nh-flag.gif",
         "2023-10-13T19:16:33.924Z",
         "https://www.worldometers.info"
        ],
        [
         "Venezuela",
         "https://www.worldometers.info/img/flags/ve-flag.gif",
         "2023-10-13T19:16:33.924Z",
         "https://www.worldometers.info"
        ],
        [
         "Vietnam",
         "https://www.worldometers.info/img/flags/vm-flag.gif",
         "2023-10-13T19:16:33.924Z",
         "https://www.worldometers.info"
        ],
        [
         "Yemen",
         "https://www.worldometers.info/img/flags/ym-flag.gif",
         "2023-10-13T19:16:33.924Z",
         "https://www.worldometers.info"
        ],
        [
         "Zambia",
         "https://www.worldometers.info/img/flags/za-flag.gif",
         "2023-10-13T19:16:33.924Z",
         "https://www.worldometers.info"
        ],
        [
         "Zimbabwe",
         "https://www.worldometers.info/img/flags/zi-flag.gif",
         "2023-10-13T19:16:33.924Z",
         "https://www.worldometers.info"
        ],
        [
         "Liberia",
         "https://www.worldometers.info/img/flags/li-flag.gif",
         "2023-10-13T19:16:33.924Z",
         "https://www.worldometers.info"
        ],
        [
         "Libya",
         "https://www.worldometers.info/img/flags/ly-flag.gif",
         "2023-10-13T19:16:33.924Z",
         "https://www.worldometers.info"
        ],
        [
         "Liechtenstein",
         "https://www.worldometers.info/img/flags/ls-flag.gif",
         "2023-10-13T19:16:33.924Z",
         "https://www.worldometers.info"
        ],
        [
         "Lithuania",
         "https://www.worldometers.info/img/flags/lh-flag.gif",
         "2023-10-13T19:16:33.924Z",
         "https://www.worldometers.info"
        ],
        [
         "Luxembourg",
         "https://www.worldometers.info/img/flags/lu-flag.gif",
         "2023-10-13T19:16:33.924Z",
         "https://www.worldometers.info"
        ],
        [
         "Madagascar",
         "https://www.worldometers.info/img/flags/ma-flag.gif",
         "2023-10-13T19:16:33.924Z",
         "https://www.worldometers.info"
        ],
        [
         "Malawi",
         "https://www.worldometers.info/img/flags/mi-flag.gif",
         "2023-10-13T19:16:33.924Z",
         "https://www.worldometers.info"
        ],
        [
         "Malaysia",
         "https://www.worldometers.info/img/flags/my-flag.gif",
         "2023-10-13T19:16:33.924Z",
         "https://www.worldometers.info"
        ],
        [
         "Maldives",
         "https://www.worldometers.info/img/flags/mv-flag.gif",
         "2023-10-13T19:16:33.924Z",
         "https://www.worldometers.info"
        ],
        [
         "Mali",
         "https://www.worldometers.info/img/flags/ml-flag.gif",
         "2023-10-13T19:16:33.924Z",
         "https://www.worldometers.info"
        ],
        [
         "Malta",
         "https://www.worldometers.info/img/flags/mt-flag.gif",
         "2023-10-13T19:16:33.924Z",
         "https://www.worldometers.info"
        ],
        [
         "Marshall Islands",
         "https://www.worldometers.info/img/flags/rm-flag.gif",
         "2023-10-13T19:16:33.924Z",
         "https://www.worldometers.info"
        ],
        [
         "Mauritania",
         "https://www.worldometers.info/img/flags/mr-flag.gif",
         "2023-10-13T19:16:33.924Z",
         "https://www.worldometers.info"
        ],
        [
         "Mauritius",
         "https://www.worldometers.info/img/flags/mp-flag.gif",
         "2023-10-13T19:16:33.924Z",
         "https://www.worldometers.info"
        ],
        [
         "Mexico",
         "https://www.worldometers.info/img/flags/mx-flag.gif",
         "2023-10-13T19:16:33.924Z",
         "https://www.worldometers.info"
        ],
        [
         "Micronesia",
         "https://www.worldometers.info/img/flags/fm-flag.gif",
         "2023-10-13T19:16:33.924Z",
         "https://www.worldometers.info"
        ],
        [
         "Moldova",
         "https://www.worldometers.info/img/flags/md-flag.gif",
         "2023-10-13T19:16:33.924Z",
         "https://www.worldometers.info"
        ],
        [
         "Monaco",
         "https://www.worldometers.info/img/flags/mn-flag.gif",
         "2023-10-13T19:16:33.924Z",
         "https://www.worldometers.info"
        ],
        [
         "Mongolia",
         "https://www.worldometers.info/img/flags/mg-flag.gif",
         "2023-10-13T19:16:33.924Z",
         "https://www.worldometers.info"
        ],
        [
         "Montenegro",
         "https://www.worldometers.info/img/flags/mj-flag.gif",
         "2023-10-13T19:16:33.924Z",
         "https://www.worldometers.info"
        ],
        [
         "Morocco",
         "https://www.worldometers.info/img/flags/mo-flag.gif",
         "2023-10-13T19:16:33.924Z",
         "https://www.worldometers.info"
        ],
        [
         "Mozambique",
         "https://www.worldometers.info/img/flags/mz-flag.gif",
         "2023-10-13T19:16:33.924Z",
         "https://www.worldometers.info"
        ],
        [
         "Myanmar",
         "https://www.worldometers.info/img/flags/bm-flag.gif",
         "2023-10-13T19:16:33.924Z",
         "https://www.worldometers.info"
        ],
        [
         "Namibia",
         "https://www.worldometers.info/img/flags/wa-flag.gif",
         "2023-10-13T19:16:33.924Z",
         "https://www.worldometers.info"
        ],
        [
         "Nauru",
         "https://www.worldometers.info/img/flags/nr-flag.gif",
         "2023-10-13T19:16:33.924Z",
         "https://www.worldometers.info"
        ],
        [
         "Nepal",
         "https://www.worldometers.info/img/flags/np-flag.gif",
         "2023-10-13T19:16:33.924Z",
         "https://www.worldometers.info"
        ],
        [
         "Netherlands",
         "https://www.worldometers.info/img/flags/nl-flag.gif",
         "2023-10-13T19:16:33.924Z",
         "https://www.worldometers.info"
        ],
        [
         "New Zealand",
         "https://www.worldometers.info/img/flags/nz-flag.gif",
         "2023-10-13T19:16:33.924Z",
         "https://www.worldometers.info"
        ],
        [
         "Nicaragua",
         "https://www.worldometers.info/img/flags/nu-flag.gif",
         "2023-10-13T19:16:33.924Z",
         "https://www.worldometers.info"
        ],
        [
         "Niger",
         "https://www.worldometers.info/img/flags/ng-flag.gif",
         "2023-10-13T19:16:33.924Z",
         "https://www.worldometers.info"
        ],
        [
         "Nigeria",
         "https://www.worldometers.info/img/flags/ni-flag.gif",
         "2023-10-13T19:16:33.924Z",
         "https://www.worldometers.info"
        ],
        [
         "North Macedonia",
         "https://www.worldometers.info/img/flags/mk-flag.gif",
         "2023-10-13T19:16:33.924Z",
         "https://www.worldometers.info"
        ],
        [
         "Norway",
         "https://www.worldometers.info/img/flags/no-flag.gif",
         "2023-10-13T19:16:33.924Z",
         "https://www.worldometers.info"
        ],
        [
         "Oman",
         "https://www.worldometers.info/img/flags/mu-flag.gif",
         "2023-10-13T19:16:33.924Z",
         "https://www.worldometers.info"
        ],
        [
         "Pakistan",
         "https://www.worldometers.info/img/flags/pk-flag.gif",
         "2023-10-13T19:16:33.924Z",
         "https://www.worldometers.info"
        ],
        [
         "Palau",
         "https://www.worldometers.info/img/flags/ps-flag.gif",
         "2023-10-13T19:16:33.924Z",
         "https://www.worldometers.info"
        ],
        [
         "Panama",
         "https://www.worldometers.info/img/flags/pm-flag.gif",
         "2023-10-13T19:16:33.924Z",
         "https://www.worldometers.info"
        ],
        [
         "Papua New Guinea",
         "https://www.worldometers.info/img/flags/pp-flag.gif",
         "2023-10-13T19:16:33.924Z",
         "https://www.worldometers.info"
        ],
        [
         "Paraguay",
         "https://www.worldometers.info/img/flags/pa-flag.gif",
         "2023-10-13T19:16:33.924Z",
         "https://www.worldometers.info"
        ],
        [
         "Peru",
         "https://www.worldometers.info/img/flags/pe-flag.gif",
         "2023-10-13T19:16:33.924Z",
         "https://www.worldometers.info"
        ],
        [
         "Philippines",
         "https://www.worldometers.info/img/flags/rp-flag.gif",
         "2023-10-13T19:16:33.924Z",
         "https://www.worldometers.info"
        ],
        [
         "Poland",
         "https://www.worldometers.info/img/flags/pl-flag.gif",
         "2023-10-13T19:16:33.924Z",
         "https://www.worldometers.info"
        ],
        [
         "Portugal",
         "https://www.worldometers.info/img/flags/po-flag.gif",
         "2023-10-13T19:16:33.924Z",
         "https://www.worldometers.info"
        ],
        [
         "Qatar",
         "https://www.worldometers.info/img/flags/qa-flag.gif",
         "2023-10-13T19:16:33.924Z",
         "https://www.worldometers.info"
        ],
        [
         "Romania",
         "https://www.worldometers.info/img/flags/ro-flag.gif",
         "2023-10-13T19:16:33.924Z",
         "https://www.worldometers.info"
        ],
        [
         "Russia",
         "https://www.worldometers.info/img/flags/rs-flag.gif",
         "2023-10-13T19:16:33.924Z",
         "https://www.worldometers.info"
        ],
        [
         "Rwanda",
         "https://www.worldometers.info/img/flags/rw-flag.gif",
         "2023-10-13T19:16:33.924Z",
         "https://www.worldometers.info"
        ],
        [
         "Saint Kitts and Nevis",
         "https://www.worldometers.info/img/flags/sc-flag.gif",
         "2023-10-13T19:16:33.924Z",
         "https://www.worldometers.info"
        ],
        [
         "Saint Lucia",
         "https://www.worldometers.info/img/flags/st-flag.gif",
         "2023-10-13T19:16:33.924Z",
         "https://www.worldometers.info"
        ],
        [
         "Dominican Republic",
         "https://www.worldometers.info/img/flags/dr-flag.gif",
         "2023-10-13T19:16:33.924Z",
         "https://www.worldometers.info"
        ],
        [
         "DPRK",
         "https://www.worldometers.info/img/flags/kn-flag.gif",
         "2023-10-13T19:16:33.924Z",
         "https://www.worldometers.info"
        ],
        [
         "DRC",
         "https://www.worldometers.info/img/flags/congo-flag.gif",
         "2023-10-13T19:16:33.924Z",
         "https://www.worldometers.info"
        ],
        [
         "Ecuador",
         "https://www.worldometers.info/img/flags/ec-flag.gif",
         "2023-10-13T19:16:33.924Z",
         "https://www.worldometers.info"
        ],
        [
         "Egypt",
         "https://www.worldometers.info/img/flags/eg-flag.gif",
         "2023-10-13T19:16:33.924Z",
         "https://www.worldometers.info"
        ],
        [
         "El Salvador",
         "https://www.worldometers.info/img/flags/es-flag.gif",
         "2023-10-13T19:16:33.924Z",
         "https://www.worldometers.info"
        ],
        [
         "Equatorial Guinea",
         "https://www.worldometers.info/img/flags/ek-flag.gif",
         "2023-10-13T19:16:33.924Z",
         "https://www.worldometers.info"
        ],
        [
         "Eritrea",
         "https://www.worldometers.info/img/flags/er-flag.gif",
         "2023-10-13T19:16:33.924Z",
         "https://www.worldometers.info"
        ],
        [
         "Estonia",
         "https://www.worldometers.info/img/flags/en-flag.gif",
         "2023-10-13T19:16:33.924Z",
         "https://www.worldometers.info"
        ],
        [
         "Eswatini",
         "https://www.worldometers.info/img/flags/wz-flag.gif",
         "2023-10-13T19:16:33.924Z",
         "https://www.worldometers.info"
        ],
        [
         "Ethiopia",
         "https://www.worldometers.info/img/flags/et-flag.gif",
         "2023-10-13T19:16:33.924Z",
         "https://www.worldometers.info"
        ],
        [
         "Fiji",
         "https://www.worldometers.info/img/flags/fj-flag.gif",
         "2023-10-13T19:16:33.924Z",
         "https://www.worldometers.info"
        ],
        [
         "Finland",
         "https://www.worldometers.info/img/flags/fi-flag.gif",
         "2023-10-13T19:16:33.924Z",
         "https://www.worldometers.info"
        ],
        [
         "France",
         "https://www.worldometers.info/img/flags/fr-flag.gif",
         "2023-10-13T19:16:33.924Z",
         "https://www.worldometers.info"
        ],
        [
         "Gabon",
         "https://www.worldometers.info/img/flags/gb-flag.gif",
         "2023-10-13T19:16:33.924Z",
         "https://www.worldometers.info"
        ],
        [
         "Gambia",
         "https://www.worldometers.info/img/flags/ga-flag.gif",
         "2023-10-13T19:16:33.924Z",
         "https://www.worldometers.info"
        ],
        [
         "Georgia",
         "https://www.worldometers.info/img/flags/gg-flag.gif",
         "2023-10-13T19:16:33.924Z",
         "https://www.worldometers.info"
        ],
        [
         "Germany",
         "https://www.worldometers.info/img/flags/gm-flag.gif",
         "2023-10-13T19:16:33.924Z",
         "https://www.worldometers.info"
        ],
        [
         "Ghana",
         "https://www.worldometers.info/img/flags/gh-flag.gif",
         "2023-10-13T19:16:33.924Z",
         "https://www.worldometers.info"
        ],
        [
         "Greece",
         "https://www.worldometers.info/img/flags/gr-flag.gif",
         "2023-10-13T19:16:33.924Z",
         "https://www.worldometers.info"
        ],
        [
         "Grenada",
         "https://www.worldometers.info/img/flags/gj-flag.gif",
         "2023-10-13T19:16:33.924Z",
         "https://www.worldometers.info"
        ],
        [
         "Guatemala",
         "https://www.worldometers.info/img/flags/gt-flag.gif",
         "2023-10-13T19:16:33.924Z",
         "https://www.worldometers.info"
        ],
        [
         "Guinea",
         "https://www.worldometers.info/img/flags/gv-flag.gif",
         "2023-10-13T19:16:33.924Z",
         "https://www.worldometers.info"
        ],
        [
         "Guinea-Bissau",
         "https://www.worldometers.info/img/flags/pu-flag.gif",
         "2023-10-13T19:16:33.924Z",
         "https://www.worldometers.info"
        ],
        [
         "Guyana",
         "https://www.worldometers.info/img/flags/gy-flag.gif",
         "2023-10-13T19:16:33.924Z",
         "https://www.worldometers.info"
        ],
        [
         "Haiti",
         "https://www.worldometers.info/img/flags/ha-flag.gif",
         "2023-10-13T19:16:33.924Z",
         "https://www.worldometers.info"
        ],
        [
         "Holy See",
         "https://www.worldometers.info/img/flags/vt-flag.gif",
         "2023-10-13T19:16:33.924Z",
         "https://www.worldometers.info"
        ],
        [
         "Honduras",
         "https://www.worldometers.info/img/flags/ho-flag.gif",
         "2023-10-13T19:16:33.924Z",
         "https://www.worldometers.info"
        ],
        [
         "Hungary",
         "https://www.worldometers.info/img/flags/hu-flag.gif",
         "2023-10-13T19:16:33.924Z",
         "https://www.worldometers.info"
        ],
        [
         "Iceland",
         "https://www.worldometers.info/img/flags/ic-flag.gif",
         "2023-10-13T19:16:33.924Z",
         "https://www.worldometers.info"
        ],
        [
         "India",
         "https://www.worldometers.info/img/flags/in-flag.gif",
         "2023-10-13T19:16:33.924Z",
         "https://www.worldometers.info"
        ],
        [
         "Indonesia",
         "https://www.worldometers.info/img/flags/id-flag.gif",
         "2023-10-13T19:16:33.924Z",
         "https://www.worldometers.info"
        ],
        [
         "Iran",
         "https://www.worldometers.info/img/flags/ir-flag.gif",
         "2023-10-13T19:16:33.924Z",
         "https://www.worldometers.info"
        ],
        [
         "Iraq",
         "https://www.worldometers.info/img/flags/iz-flag.gif",
         "2023-10-13T19:16:33.924Z",
         "https://www.worldometers.info"
        ],
        [
         "Ireland",
         "https://www.worldometers.info/img/flags/ei-flag.gif",
         "2023-10-13T19:16:33.924Z",
         "https://www.worldometers.info"
        ],
        [
         "Israel",
         "https://www.worldometers.info/img/flags/is-flag.gif",
         "2023-10-13T19:16:33.924Z",
         "https://www.worldometers.info"
        ],
        [
         "Italy",
         "https://www.worldometers.info/img/flags/it-flag.gif",
         "2023-10-13T19:16:33.924Z",
         "https://www.worldometers.info"
        ],
        [
         "Jamaica",
         "https://www.worldometers.info/img/flags/jm-flag.gif",
         "2023-10-13T19:16:33.924Z",
         "https://www.worldometers.info"
        ],
        [
         "Japan",
         "https://www.worldometers.info/img/flags/ja-flag.gif",
         "2023-10-13T19:16:33.924Z",
         "https://www.worldometers.info"
        ],
        [
         "Jordan",
         "https://www.worldometers.info/img/flags/jo-flag.gif",
         "2023-10-13T19:16:33.924Z",
         "https://www.worldometers.info"
        ],
        [
         "Kazakhstan",
         "https://www.worldometers.info/img/flags/kz-flag.gif",
         "2023-10-13T19:16:33.924Z",
         "https://www.worldometers.info"
        ],
        [
         "Kenya",
         "https://www.worldometers.info/img/flags/ke-flag.gif",
         "2023-10-13T19:16:33.924Z",
         "https://www.worldometers.info"
        ],
        [
         "Kiribati",
         "https://www.worldometers.info/img/flags/kr-flag.gif",
         "2023-10-13T19:16:33.924Z",
         "https://www.worldometers.info"
        ],
        [
         "Kuwait",
         "https://www.worldometers.info/img/flags/ku-flag.gif",
         "2023-10-13T19:16:33.924Z",
         "https://www.worldometers.info"
        ],
        [
         "Kyrgyzstan",
         "https://www.worldometers.info/img/flags/kg-flag.gif",
         "2023-10-13T19:16:33.924Z",
         "https://www.worldometers.info"
        ],
        [
         "Laos",
         "https://www.worldometers.info/img/flags/la-flag.gif",
         "2023-10-13T19:16:33.924Z",
         "https://www.worldometers.info"
        ],
        [
         "Latvia",
         "https://www.worldometers.info/img/flags/lg-flag.gif",
         "2023-10-13T19:16:33.924Z",
         "https://www.worldometers.info"
        ],
        [
         "Lebanon",
         "https://www.worldometers.info/img/flags/le-flag.gif",
         "2023-10-13T19:16:33.924Z",
         "https://www.worldometers.info"
        ],
        [
         "Lesotho",
         "https://www.worldometers.info/img/flags/lt-flag.gif",
         "2023-10-13T19:16:33.924Z",
         "https://www.worldometers.info"
        ],
        [
         "Afghanistan",
         "https://www.worldometers.info/img/flags/af-flag.gif",
         "2023-10-13T19:16:33.924Z",
         "https://www.worldometers.info"
        ],
        [
         "Albania",
         "https://www.worldometers.info/img/flags/al-flag.gif",
         "2023-10-13T19:16:33.924Z",
         "https://www.worldometers.info"
        ],
        [
         "Algeria",
         "https://www.worldometers.info/img/flags/ag-flag.gif",
         "2023-10-13T19:16:33.924Z",
         "https://www.worldometers.info"
        ],
        [
         "Andorra",
         "https://www.worldometers.info/img/flags/an-flag.gif",
         "2023-10-13T19:16:33.924Z",
         "https://www.worldometers.info"
        ],
        [
         "Angola",
         "https://www.worldometers.info/img/flags/ao-flag.gif",
         "2023-10-13T19:16:33.924Z",
         "https://www.worldometers.info"
        ],
        [
         "Antigua and Barbuda",
         "https://www.worldometers.info/img/flags/ac-flag.gif",
         "2023-10-13T19:16:33.924Z",
         "https://www.worldometers.info"
        ],
        [
         "Argentina",
         "https://www.worldometers.info/img/flags/ar-flag.gif",
         "2023-10-13T19:16:33.924Z",
         "https://www.worldometers.info"
        ],
        [
         "Armenia",
         "https://www.worldometers.info/img/flags/am-flag.gif",
         "2023-10-13T19:16:33.924Z",
         "https://www.worldometers.info"
        ],
        [
         "Australia",
         "https://www.worldometers.info/img/flags/as-flag.gif",
         "2023-10-13T19:16:33.924Z",
         "https://www.worldometers.info"
        ],
        [
         "Austria",
         "https://www.worldometers.info/img/flags/au-flag.gif",
         "2023-10-13T19:16:33.924Z",
         "https://www.worldometers.info"
        ],
        [
         "Azerbaijan",
         "https://www.worldometers.info/img/flags/aj-flag.gif",
         "2023-10-13T19:16:33.924Z",
         "https://www.worldometers.info"
        ],
        [
         "Bahamas",
         "https://www.worldometers.info/img/flags/bf-flag.gif",
         "2023-10-13T19:16:33.924Z",
         "https://www.worldometers.info"
        ],
        [
         "Bahrain",
         "https://www.worldometers.info/img/flags/ba-flag.gif",
         "2023-10-13T19:16:33.924Z",
         "https://www.worldometers.info"
        ],
        [
         "Bangladesh",
         "https://www.worldometers.info/img/flags/bg-flag.gif",
         "2023-10-13T19:16:33.924Z",
         "https://www.worldometers.info"
        ],
        [
         "Barbados",
         "https://www.worldometers.info/img/flags/bb-flag.gif",
         "2023-10-13T19:16:33.924Z",
         "https://www.worldometers.info"
        ],
        [
         "Belarus",
         "https://www.worldometers.info/img/flags/bo-flag.gif",
         "2023-10-13T19:16:33.924Z",
         "https://www.worldometers.info"
        ],
        [
         "Belgium",
         "https://www.worldometers.info/img/flags/be-flag.gif",
         "2023-10-13T19:16:33.924Z",
         "https://www.worldometers.info"
        ],
        [
         "Belize",
         "https://www.worldometers.info/img/flags/bh-flag.gif",
         "2023-10-13T19:16:33.924Z",
         "https://www.worldometers.info"
        ],
        [
         "Benin",
         "https://www.worldometers.info/img/flags/bn-flag.gif",
         "2023-10-13T19:16:33.924Z",
         "https://www.worldometers.info"
        ],
        [
         "Bhutan",
         "https://www.worldometers.info/img/flags/bt-flag.gif",
         "2023-10-13T19:16:33.924Z",
         "https://www.worldometers.info"
        ],
        [
         "Bolivia",
         "https://www.worldometers.info/img/flags/bl-flag.gif",
         "2023-10-13T19:16:33.924Z",
         "https://www.worldometers.info"
        ],
        [
         "Bosnia and Herzegovina",
         "https://www.worldometers.info/img/flags/bk-flag.gif",
         "2023-10-13T19:16:33.924Z",
         "https://www.worldometers.info"
        ],
        [
         "Botswana",
         "https://www.worldometers.info/img/flags/bc-flag.gif",
         "2023-10-13T19:16:33.924Z",
         "https://www.worldometers.info"
        ],
        [
         "Brazil",
         "https://www.worldometers.info/img/flags/br-flag.gif",
         "2023-10-13T19:16:33.924Z",
         "https://www.worldometers.info"
        ],
        [
         "Brunei",
         "https://www.worldometers.info/img/flags/bx-flag.gif",
         "2023-10-13T19:16:33.924Z",
         "https://www.worldometers.info"
        ],
        [
         "Bulgaria",
         "https://www.worldometers.info/img/flags/bu-flag.gif",
         "2023-10-13T19:16:33.924Z",
         "https://www.worldometers.info"
        ],
        [
         "Burkina Faso",
         "https://www.worldometers.info/img/flags/uv-flag.gif",
         "2023-10-13T19:16:33.924Z",
         "https://www.worldometers.info"
        ],
        [
         "Burundi",
         "https://www.worldometers.info/img/flags/by-flag.gif",
         "2023-10-13T19:16:33.924Z",
         "https://www.worldometers.info"
        ],
        [
         "Côte d'Ivoire",
         "https://www.worldometers.info/img/flags/iv-flag.gif",
         "2023-10-13T19:16:33.924Z",
         "https://www.worldometers.info"
        ],
        [
         "Cabo Verde",
         "https://www.worldometers.info/img/flags/cv-flag.gif",
         "2023-10-13T19:16:33.924Z",
         "https://www.worldometers.info"
        ],
        [
         "Cambodia",
         "https://www.worldometers.info/img/flags/cb-flag.gif",
         "2023-10-13T19:16:33.924Z",
         "https://www.worldometers.info"
        ],
        [
         "Cameroon",
         "https://www.worldometers.info/img/flags/cm-flag.gif",
         "2023-10-13T19:16:33.924Z",
         "https://www.worldometers.info"
        ],
        [
         "Canada",
         "https://www.worldometers.info/img/flags/ca-flag.gif",
         "2023-10-13T19:16:33.924Z",
         "https://www.worldometers.info"
        ],
        [
         "CAR",
         "https://www.worldometers.info/img/flags/ct-flag.gif",
         "2023-10-13T19:16:33.924Z",
         "https://www.worldometers.info"
        ],
        [
         "Chad",
         "https://www.worldometers.info/img/flags/cd-flag.gif",
         "2023-10-13T19:16:33.924Z",
         "https://www.worldometers.info"
        ],
        [
         "Chile",
         "https://www.worldometers.info/img/flags/ci-flag.gif",
         "2023-10-13T19:16:33.924Z",
         "https://www.worldometers.info"
        ],
        [
         "China",
         "https://www.worldometers.info/img/flags/ch-flag.gif",
         "2023-10-13T19:16:33.924Z",
         "https://www.worldometers.info"
        ],
        [
         "Colombia",
         "https://www.worldometers.info/img/flags/co-flag.gif",
         "2023-10-13T19:16:33.924Z",
         "https://www.worldometers.info"
        ],
        [
         "Comoros",
         "https://www.worldometers.info/img/flags/cn-flag.gif",
         "2023-10-13T19:16:33.924Z",
         "https://www.worldometers.info"
        ],
        [
         "Congo",
         "https://www.worldometers.info/img/flags/cg-flag.gif",
         "2023-10-13T19:16:33.924Z",
         "https://www.worldometers.info"
        ],
        [
         "Costa Rica",
         "https://www.worldometers.info/img/flags/cs-flag.gif",
         "2023-10-13T19:16:33.924Z",
         "https://www.worldometers.info"
        ],
        [
         "Croatia",
         "https://www.worldometers.info/img/flags/hr-flag.gif",
         "2023-10-13T19:16:33.924Z",
         "https://www.worldometers.info"
        ],
        [
         "Cuba",
         "https://www.worldometers.info/img/flags/cu-flag.gif",
         "2023-10-13T19:16:33.924Z",
         "https://www.worldometers.info"
        ],
        [
         "Cyprus",
         "https://www.worldometers.info/img/flags/cy-flag.gif",
         "2023-10-13T19:16:33.924Z",
         "https://www.worldometers.info"
        ],
        [
         "Czechia",
         "https://www.worldometers.info/img/flags/ez-flag.gif",
         "2023-10-13T19:16:33.924Z",
         "https://www.worldometers.info"
        ],
        [
         "Denmark",
         "https://www.worldometers.info/img/flags/da-flag.gif",
         "2023-10-13T19:16:33.924Z",
         "https://www.worldometers.info"
        ],
        [
         "Djibouti",
         "https://www.worldometers.info/img/flags/dj-flag.gif",
         "2023-10-13T19:16:33.924Z",
         "https://www.worldometers.info"
        ],
        [
         "Dominica",
         "https://www.worldometers.info/img/flags/do-flag.gif",
         "2023-10-13T19:16:33.924Z",
         "https://www.worldometers.info"
        ]
       ],
       "datasetInfos": [],
       "dbfsResultPath": null,
       "isJsonSchema": true,
       "metadata": {},
       "overflow": false,
       "plotOptions": {
        "customPlotOptions": {},
        "displayType": "table",
        "pivotAggregation": null,
        "pivotColumns": null,
        "xColumns": null,
        "yColumns": null
       },
       "removedWidgets": [],
       "schema": [
        {
         "metadata": "{}",
         "name": "country",
         "type": "\"string\""
        },
        {
         "metadata": "{}",
         "name": "flag",
         "type": "\"string\""
        },
        {
         "metadata": "{}",
         "name": "ingestion_date",
         "type": "\"string\""
        },
        {
         "metadata": "{}",
         "name": "data_source",
         "type": "\"string\""
        }
       ],
       "type": "table"
      }
     },
     "output_type": "display_data"
    }
   ],
   "source": [
    "display(spark.read.format(\"csv\").load(f\"{footballflags_folder_path}/countryflags\")\n",
    "    .withColumnRenamed(\"_c0\",\"country\")\\\n",
    "    .withColumnRenamed(\"_c1\",\"flag\")\\\n",
    "    .withColumnRenamed(\"_c2\",\"ingestion_date\")\\\n",
    "    .withColumnRenamed(\"_c3\",\"data_source\"))"
   ]
  }
 ],
 "metadata": {
  "application/vnd.databricks.v1+notebook": {
   "dashboards": [],
   "language": "python",
   "notebookMetadata": {
    "pythonIndentUnit": 4
   },
   "notebookName": "02.scrap_ingest_countries_flag",
   "widgets": {}
  }
 },
 "nbformat": 4,
 "nbformat_minor": 0
}
