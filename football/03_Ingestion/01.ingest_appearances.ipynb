{
 "cells": [
  {
   "cell_type": "markdown",
   "metadata": {
    "application/vnd.databricks.v1+cell": {
     "cellMetadata": {},
     "inputWidgets": {},
     "nuid": "e1b43187-4dc1-49da-b4db-cad3701b0a19",
     "showTitle": false,
     "title": ""
    }
   },
   "source": [
    "### Data Ingestion\n",
    "This uses a for loop to call a function to ingest football results stored in CSV format for each country"
   ]
  },
  {
   "cell_type": "code",
   "execution_count": 0,
   "metadata": {
    "application/vnd.databricks.v1+cell": {
     "cellMetadata": {
      "byteLimit": 2048000,
      "rowLimit": 10000
     },
     "inputWidgets": {},
     "nuid": "dde17354-11ce-4c0a-a77b-059bc1522ff3",
     "showTitle": false,
     "title": ""
    }
   },
   "outputs": [],
   "source": [
    "%run \"../02_Includes/common_functions\""
   ]
  },
  {
   "cell_type": "code",
   "execution_count": 0,
   "metadata": {
    "application/vnd.databricks.v1+cell": {
     "cellMetadata": {
      "byteLimit": 2048000,
      "rowLimit": 10000
     },
     "inputWidgets": {},
     "nuid": "35047964-21d8-447f-9c31-2e07e9e9faf2",
     "showTitle": false,
     "title": ""
    }
   },
   "outputs": [
    {
     "output_type": "execute_result",
     "data": {
      "text/plain": [
       "'/mnt/databricksdl2/footballprocessed'"
      ]
     },
     "execution_count": 2,
     "metadata": {},
     "output_type": "execute_result"
    }
   ],
   "source": [
    "%run \"../02_Includes/configuration\""
   ]
  },
  {
   "cell_type": "code",
   "execution_count": 0,
   "metadata": {
    "application/vnd.databricks.v1+cell": {
     "cellMetadata": {
      "byteLimit": 2048000,
      "rowLimit": 10000
     },
     "inputWidgets": {},
     "nuid": "a3bf836d-9ab5-4cda-8ac5-da7d3632cae0",
     "showTitle": false,
     "title": ""
    }
   },
   "outputs": [],
   "source": [
    "# Defining data types\n",
    "df_type = {\n",
    "    \"home\":str,\n",
    "    \"away\":str,\n",
    "    \"date\":str,\n",
    "    \"gh\":int,\n",
    "    \"ga\":int,\n",
    "    \"full_time\":str,\n",
    "    \"competition\":str,\n",
    "    \"home_country\":str,\n",
    "    \"away_country\":str,\n",
    "    \"home_code\":str,\n",
    "    \"away_code\":str,\n",
    "    \"home_continent\":str,\n",
    "    \"away_continent\":str,\n",
    "    \"continent\":str,\n",
    "    \"continentid\":str,\n",
    "    \"competitionid\":str\n",
    "}"
   ]
  },
  {
   "cell_type": "markdown",
   "metadata": {
    "application/vnd.databricks.v1+cell": {
     "cellMetadata": {
      "byteLimit": 2048000,
      "rowLimit": 10000
     },
     "inputWidgets": {},
     "nuid": "60f3c860-8a9c-40f2-85cc-0269ebfdff09",
     "showTitle": false,
     "title": ""
    }
   },
   "source": [
    "**Read list of files from CSV file saved in the ADLS storage**"
   ]
  },
  {
   "cell_type": "code",
   "execution_count": 0,
   "metadata": {
    "application/vnd.databricks.v1+cell": {
     "cellMetadata": {
      "byteLimit": 2048000,
      "rowLimit": 10000
     },
     "inputWidgets": {},
     "nuid": "b23533a9-dd8c-49ca-8362-53cbd4de7323",
     "showTitle": false,
     "title": ""
    }
   },
   "outputs": [],
   "source": [
    "csv_files_df = spark.read.option(\"header\",True).csv(f\"{footballsource_folder_path}/file_names.csv\")"
   ]
  },
  {
   "cell_type": "code",
   "execution_count": 0,
   "metadata": {
    "application/vnd.databricks.v1+cell": {
     "cellMetadata": {
      "byteLimit": 2048000,
      "rowLimit": 10000
     },
     "inputWidgets": {},
     "nuid": "dd0ade0e-076c-49a9-97e7-eda1335934e7",
     "showTitle": false,
     "title": ""
    }
   },
   "outputs": [],
   "source": [
    "source_list= csv_files_df.select(\"url\").distinct().collect()\n",
    "file_name_list=csv_files_df.select(\"file_name\").distinct().collect()\n",
    "source_name =\"\"\n",
    "for source in source_list:\n",
    "    source_name=source.url\n",
    "\n",
    "file_names=[]\n",
    "for file_name in file_name_list:\n",
    "    file_names.append(file_name.file_name)"
   ]
  },
  {
   "cell_type": "code",
   "execution_count": 0,
   "metadata": {
    "application/vnd.databricks.v1+cell": {
     "cellMetadata": {
      "byteLimit": 2048000,
      "rowLimit": 10000
     },
     "inputWidgets": {},
     "nuid": "a97c500c-eb91-4339-b671-45517e797a6f",
     "showTitle": false,
     "title": ""
    }
   },
   "outputs": [],
   "source": [
    "# loop to extract and store csv files\n",
    "for f in file_names:\n",
    "    create_table(source_name,footballingested_folder_path,f,\"csv\",\"csv\",\"fooball-data\",df_type)"
   ]
  }
 ],
 "metadata": {
  "application/vnd.databricks.v1+notebook": {
   "dashboards": [],
   "language": "python",
   "notebookMetadata": {
    "pythonIndentUnit": 4
   },
   "notebookName": "01.ingest_appearances",
   "widgets": {}
  }
 },
 "nbformat": 4,
 "nbformat_minor": 0
}
