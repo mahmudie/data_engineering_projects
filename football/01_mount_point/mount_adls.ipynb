{
 "cells": [
  {
   "cell_type": "markdown",
   "metadata": {
    "application/vnd.databricks.v1+cell": {
     "cellMetadata": {
      "byteLimit": 2048000,
      "rowLimit": 10000
     },
     "inputWidgets": {},
     "nuid": "ed4ed77d-7d35-4b36-91e2-20addef8e85d",
     "showTitle": false,
     "title": ""
    }
   },
   "source": [
    "#### ADLS Mounter funtion\n",
    "1. This function is used to amount a specific container from ADLS to the Azure Databricks\n",
    "2. The function takes two parameters storage account name as first parameter and container name as the second parameter\n",
    "3. It uses Service Princial to access ADLS"
   ]
  },
  {
   "cell_type": "code",
   "execution_count": 0,
   "metadata": {
    "application/vnd.databricks.v1+cell": {
     "cellMetadata": {
      "byteLimit": 2048000,
      "rowLimit": 10000
     },
     "inputWidgets": {},
     "nuid": "6ecc986e-772c-4be3-b486-d8590b5d2b4b",
     "showTitle": false,
     "title": ""
    }
   },
   "outputs": [],
   "source": [
    "# function defination\n",
    "def mount_point(storage_account_name,container_name):\n",
    "    # \n",
    "    client_id=dbutils.secrets.get(scope='formula1-scope',key='Formula-app-client-id')\n",
    "    tenant_id=dbutils.secrets.get(scope='formula1-scope',key='Formula1-tenant-id')\n",
    "    client_secret=dbutils.secrets.get(scope='formula1-scope',key='Formula1-secret-value')\n",
    "\n",
    "    configs ={\"fs.azure.account.auth.type\": \"OAuth\",\n",
    "            \"fs.azure.account.oauth.provider.type\": \"org.apache.hadoop.fs.azurebfs.oauth2.ClientCredsTokenProvider\",\n",
    "            \"fs.azure.account.oauth2.client.id\": client_id,\n",
    "            \"fs.azure.account.oauth2.client.secret\": client_secret,\n",
    "            \"fs.azure.account.oauth2.client.endpoint\": f\"https://login.microsoftonline.com/{tenant_id}/oauth2/token\"}\n",
    "    # Unmount the mount point if it already exists\n",
    "    if any(mount.mountPoint == f\"/mnt/{storage_account_name}/{container_name}\" for mount in dbutils.fs.mounts()):\n",
    "        dbutils.fs.unmount(f\"/mnt/{storage_account_name}/{container_name}\")\n",
    "     # mount \n",
    "    dbutils.fs.mount(\n",
    "        source = f\"abfss://{container_name}@{storage_account_name}.dfs.core.windows.net/\",\n",
    "        mount_point = f\"/mnt/{storage_account_name}/{container_name}\",\n",
    "        extra_configs = configs)   \n",
    "    # Display mounts\n",
    "    display(dbutils.fs.mounts())"
   ]
  },
  {
   "cell_type": "code",
   "execution_count": 0,
   "metadata": {
    "application/vnd.databricks.v1+cell": {
     "cellMetadata": {
      "byteLimit": 2048000,
      "rowLimit": 10000
     },
     "inputWidgets": {},
     "nuid": "b43f7664-98a7-4305-92cf-274d8a904918",
     "showTitle": false,
     "title": ""
    }
   },
   "outputs": [
    {
     "output_type": "display_data",
     "data": {
      "text/html": [
       "<style scoped>\n",
       "  .table-result-container {\n",
       "    max-height: 300px;\n",
       "    overflow: auto;\n",
       "  }\n",
       "  table, th, td {\n",
       "    border: 1px solid black;\n",
       "    border-collapse: collapse;\n",
       "  }\n",
       "  th, td {\n",
       "    padding: 5px;\n",
       "  }\n",
       "  th {\n",
       "    text-align: left;\n",
       "  }\n",
       "</style><div class='table-result-container'><table class='table-result'><thead style='background-color: white'><tr><th>path</th><th>name</th><th>size</th><th>modificationTime</th></tr></thead><tbody><tr><td>dbfs:/mnt/databricksdl2/footballingested/afc-cl/</td><td>afc-cl/</td><td>0</td><td>1697046724000</td></tr><tr><td>dbfs:/mnt/databricksdl2/footballingested/afc-pokal/</td><td>afc-pokal/</td><td>0</td><td>1697047168000</td></tr><tr><td>dbfs:/mnt/databricksdl2/footballingested/afc-pres.-cup/</td><td>afc-pres.-cup/</td><td>0</td><td>1697047085000</td></tr><tr><td>dbfs:/mnt/databricksdl2/footballingested/afghanistan/</td><td>afghanistan/</td><td>0</td><td>1697047186000</td></tr><tr><td>dbfs:/mnt/databricksdl2/footballingested/albania/</td><td>albania/</td><td>0</td><td>1697046685000</td></tr><tr><td>dbfs:/mnt/databricksdl2/footballingested/algeria/</td><td>algeria/</td><td>0</td><td>1697047122000</td></tr><tr><td>dbfs:/mnt/databricksdl2/footballingested/american-samoa/</td><td>american-samoa/</td><td>0</td><td>1697046993000</td></tr><tr><td>dbfs:/mnt/databricksdl2/footballingested/andorra/</td><td>andorra/</td><td>0</td><td>1697047005000</td></tr><tr><td>dbfs:/mnt/databricksdl2/footballingested/angola/</td><td>angola/</td><td>0</td><td>1697046616000</td></tr><tr><td>dbfs:/mnt/databricksdl2/footballingested/antigua-and-barbuda/</td><td>antigua-and-barbuda/</td><td>0</td><td>1697047174000</td></tr><tr><td>dbfs:/mnt/databricksdl2/footballingested/argentina/</td><td>argentina/</td><td>0</td><td>1697046936000</td></tr><tr><td>dbfs:/mnt/databricksdl2/footballingested/armenia/</td><td>armenia/</td><td>0</td><td>1697047049000</td></tr><tr><td>dbfs:/mnt/databricksdl2/footballingested/aruba/</td><td>aruba/</td><td>0</td><td>1696972474000</td></tr><tr><td>dbfs:/mnt/databricksdl2/footballingested/australia/</td><td>australia/</td><td>0</td><td>1697046593000</td></tr><tr><td>dbfs:/mnt/databricksdl2/footballingested/austria/</td><td>austria/</td><td>0</td><td>1697046653000</td></tr><tr><td>dbfs:/mnt/databricksdl2/footballingested/azerbaijan/</td><td>azerbaijan/</td><td>0</td><td>1697046918000</td></tr><tr><td>dbfs:/mnt/databricksdl2/footballingested/bahamas/</td><td>bahamas/</td><td>0</td><td>1697046957000</td></tr><tr><td>dbfs:/mnt/databricksdl2/footballingested/bahrain/</td><td>bahrain/</td><td>0</td><td>1697046817000</td></tr><tr><td>dbfs:/mnt/databricksdl2/footballingested/bangladesh/</td><td>bangladesh/</td><td>0</td><td>1697046984000</td></tr><tr><td>dbfs:/mnt/databricksdl2/footballingested/barbados/</td><td>barbados/</td><td>0</td><td>1697047065000</td></tr><tr><td>dbfs:/mnt/databricksdl2/footballingested/belarus/</td><td>belarus/</td><td>0</td><td>1697046811000</td></tr><tr><td>dbfs:/mnt/databricksdl2/footballingested/belgium/</td><td>belgium/</td><td>0</td><td>1697047249000</td></tr><tr><td>dbfs:/mnt/databricksdl2/footballingested/belize/</td><td>belize/</td><td>0</td><td>1697047094000</td></tr><tr><td>dbfs:/mnt/databricksdl2/footballingested/benin/</td><td>benin/</td><td>0</td><td>1697047192000</td></tr><tr><td>dbfs:/mnt/databricksdl2/footballingested/bermuda/</td><td>bermuda/</td><td>0</td><td>1697046631000</td></tr><tr><td>dbfs:/mnt/databricksdl2/footballingested/bhutan/</td><td>bhutan/</td><td>0</td><td>1697047180000</td></tr><tr><td>dbfs:/mnt/databricksdl2/footballingested/bolivia/</td><td>bolivia/</td><td>0</td><td>1697046763000</td></tr><tr><td>dbfs:/mnt/databricksdl2/footballingested/bonaire/</td><td>bonaire/</td><td>0</td><td>1697046796000</td></tr><tr><td>dbfs:/mnt/databricksdl2/footballingested/bosnia-herzegovina/</td><td>bosnia-herzegovina/</td><td>0</td><td>1697046872000</td></tr><tr><td>dbfs:/mnt/databricksdl2/footballingested/botswana/</td><td>botswana/</td><td>0</td><td>1697046996000</td></tr><tr><td>dbfs:/mnt/databricksdl2/footballingested/brazil/</td><td>brazil/</td><td>0</td><td>1697046835000</td></tr><tr><td>dbfs:/mnt/databricksdl2/footballingested/british-virgin-islands/</td><td>british-virgin-islands/</td><td>0</td><td>1697047270000</td></tr><tr><td>dbfs:/mnt/databricksdl2/footballingested/brunei-darussalam/</td><td>brunei-darussalam/</td><td>0</td><td>1697046668000</td></tr><tr><td>dbfs:/mnt/databricksdl2/footballingested/bulgaria/</td><td>bulgaria/</td><td>0</td><td>1697047208000</td></tr><tr><td>dbfs:/mnt/databricksdl2/footballingested/burkina-faso/</td><td>burkina-faso/</td><td>0</td><td>1697047240000</td></tr><tr><td>dbfs:/mnt/databricksdl2/footballingested/burundi/</td><td>burundi/</td><td>0</td><td>1697047145000</td></tr><tr><td>dbfs:/mnt/databricksdl2/footballingested/caf-cc/</td><td>caf-cc/</td><td>0</td><td>1697046845000</td></tr><tr><td>dbfs:/mnt/databricksdl2/footballingested/caf-cl/</td><td>caf-cl/</td><td>0</td><td>1697047052000</td></tr><tr><td>dbfs:/mnt/databricksdl2/footballingested/caf-sc/</td><td>caf-sc/</td><td>0</td><td>1697047091000</td></tr><tr><td>dbfs:/mnt/databricksdl2/footballingested/cambodia/</td><td>cambodia/</td><td>0</td><td>1697047002000</td></tr><tr><td>dbfs:/mnt/databricksdl2/footballingested/cameroon/</td><td>cameroon/</td><td>0</td><td>1697046894000</td></tr><tr><td>dbfs:/mnt/databricksdl2/footballingested/canada/</td><td>canada/</td><td>0</td><td>1697046866000</td></tr><tr><td>dbfs:/mnt/databricksdl2/footballingested/cape-verde-islands/</td><td>cape-verde-islands/</td><td>0</td><td>1697046697000</td></tr><tr><td>dbfs:/mnt/databricksdl2/footballingested/cayman-islands/</td><td>cayman-islands/</td><td>0</td><td>1697046709000</td></tr><tr><td>dbfs:/mnt/databricksdl2/footballingested/cfu-cc/</td><td>cfu-cc/</td><td>0</td><td>1697047147000</td></tr><tr><td>dbfs:/mnt/databricksdl2/footballingested/chad/</td><td>chad/</td><td>0</td><td>1697047023000</td></tr><tr><td>dbfs:/mnt/databricksdl2/footballingested/chile/</td><td>chile/</td><td>0</td><td>1697047223000</td></tr><tr><td>dbfs:/mnt/databricksdl2/footballingested/china-pr/</td><td>china-pr/</td><td>0</td><td>1697046747000</td></tr><tr><td>dbfs:/mnt/databricksdl2/footballingested/chinese-taipei/</td><td>chinese-taipei/</td><td>0</td><td>1697047189000</td></tr><tr><td>dbfs:/mnt/databricksdl2/footballingested/colombia/</td><td>colombia/</td><td>0</td><td>1697046750000</td></tr><tr><td>dbfs:/mnt/databricksdl2/footballingested/concacaf-cc/</td><td>concacaf-cc/</td><td>0</td><td>1697046679000</td></tr><tr><td>dbfs:/mnt/databricksdl2/footballingested/concacaf-l/</td><td>concacaf-l/</td><td>0</td><td>1697046981000</td></tr><tr><td>dbfs:/mnt/databricksdl2/footballingested/congo/</td><td>congo/</td><td>0</td><td>1697046897000</td></tr><tr><td>dbfs:/mnt/databricksdl2/footballingested/congo-dr/</td><td>congo-dr/</td><td>0</td><td>1697046881000</td></tr><tr><td>dbfs:/mnt/databricksdl2/footballingested/cook-islands/</td><td>cook-islands/</td><td>0</td><td>1697046741000</td></tr><tr><td>dbfs:/mnt/databricksdl2/footballingested/copa-lib/</td><td>copa-lib/</td><td>0</td><td>1697047074000</td></tr><tr><td>dbfs:/mnt/databricksdl2/footballingested/copa-sud/</td><td>copa-sud/</td><td>0</td><td>1697046619000</td></tr><tr><td>dbfs:/mnt/databricksdl2/footballingested/costa-rica/</td><td>costa-rica/</td><td>0</td><td>1697046799000</td></tr><tr><td>dbfs:/mnt/databricksdl2/footballingested/cote-divoire/</td><td>cote-divoire/</td><td>0</td><td>1697047008000</td></tr><tr><td>dbfs:/mnt/databricksdl2/footballingested/croatia/</td><td>croatia/</td><td>0</td><td>1697046860000</td></tr><tr><td>dbfs:/mnt/databricksdl2/footballingested/cuba/</td><td>cuba/</td><td>0</td><td>1697047077000</td></tr><tr><td>dbfs:/mnt/databricksdl2/footballingested/curacao/</td><td>curacao/</td><td>0</td><td>1697047262000</td></tr><tr><td>dbfs:/mnt/databricksdl2/footballingested/cyprus/</td><td>cyprus/</td><td>0</td><td>1697047183000</td></tr><tr><td>dbfs:/mnt/databricksdl2/footballingested/czech-republic/</td><td>czech-republic/</td><td>0</td><td>1697046703000</td></tr><tr><td>dbfs:/mnt/databricksdl2/footballingested/ddr/</td><td>ddr/</td><td>0</td><td>1697046775000</td></tr><tr><td>dbfs:/mnt/databricksdl2/footballingested/denmark/</td><td>denmark/</td><td>0</td><td>1697047138000</td></tr><tr><td>dbfs:/mnt/databricksdl2/footballingested/djibouti/</td><td>djibouti/</td><td>0</td><td>1697047211000</td></tr><tr><td>dbfs:/mnt/databricksdl2/footballingested/dominica/</td><td>dominica/</td><td>0</td><td>1697046930000</td></tr><tr><td>dbfs:/mnt/databricksdl2/footballingested/dominican-republic/</td><td>dominican-republic/</td><td>0</td><td>1696972476000</td></tr><tr><td>dbfs:/mnt/databricksdl2/footballingested/ecuador/</td><td>ecuador/</td><td>0</td><td>1697047253000</td></tr><tr><td>dbfs:/mnt/databricksdl2/footballingested/egypt/</td><td>egypt/</td><td>0</td><td>1697047032000</td></tr><tr><td>dbfs:/mnt/databricksdl2/footballingested/el-salvador/</td><td>el-salvador/</td><td>0</td><td>1697046972000</td></tr><tr><td>dbfs:/mnt/databricksdl2/footballingested/england/</td><td>england/</td><td>0</td><td>1697047195000</td></tr><tr><td>dbfs:/mnt/databricksdl2/footballingested/estonia/</td><td>estonia/</td><td>0</td><td>1697047160000</td></tr><tr><td>dbfs:/mnt/databricksdl2/footballingested/ethiopia/</td><td>ethiopia/</td><td>0</td><td>1697046857000</td></tr><tr><td>dbfs:/mnt/databricksdl2/footballingested/faroe-islands/</td><td>faroe-islands/</td><td>0</td><td>1697046820000</td></tr><tr><td>dbfs:/mnt/databricksdl2/footballingested/fifa-club/</td><td>fifa-club/</td><td>0</td><td>1697047199000</td></tr><tr><td>dbfs:/mnt/databricksdl2/footballingested/fifa-wc/</td><td>fifa-wc/</td><td>0</td><td>1697047268000</td></tr><tr><td>dbfs:/mnt/databricksdl2/footballingested/fiji/</td><td>fiji/</td><td>0</td><td>1697046656000</td></tr><tr><td>dbfs:/mnt/databricksdl2/footballingested/finland/</td><td>finland/</td><td>0</td><td>1697046590000</td></tr><tr><td>dbfs:/mnt/databricksdl2/footballingested/france/</td><td>france/</td><td>0</td><td>1697046891000</td></tr><tr><td>dbfs:/mnt/databricksdl2/footballingested/french-guyana/</td><td>french-guyana/</td><td>0</td><td>1697046909000</td></tr><tr><td>dbfs:/mnt/databricksdl2/footballingested/gabon/</td><td>gabon/</td><td>0</td><td>1697046848000</td></tr><tr><td>dbfs:/mnt/databricksdl2/footballingested/gambia/</td><td>gambia/</td><td>0</td><td>1697046829000</td></tr><tr><td>dbfs:/mnt/databricksdl2/footballingested/georgia/</td><td>georgia/</td><td>0</td><td>1697047150000</td></tr><tr><td>dbfs:/mnt/databricksdl2/footballingested/germany/</td><td>germany/</td><td>0</td><td>1697047062000</td></tr><tr><td>dbfs:/mnt/databricksdl2/footballingested/ghana/</td><td>ghana/</td><td>0</td><td>1697046826000</td></tr><tr><td>dbfs:/mnt/databricksdl2/footballingested/gibraltar/</td><td>gibraltar/</td><td>0</td><td>1697046688000</td></tr><tr><td>dbfs:/mnt/databricksdl2/footballingested/greece/</td><td>greece/</td><td>0</td><td>1697046596000</td></tr><tr><td>dbfs:/mnt/databricksdl2/footballingested/grenada/</td><td>grenada/</td><td>0</td><td>1697046932000</td></tr><tr><td>dbfs:/mnt/databricksdl2/footballingested/guadeloupe/</td><td>guadeloupe/</td><td>0</td><td>1697046942000</td></tr><tr><td>dbfs:/mnt/databricksdl2/footballingested/guam/</td><td>guam/</td><td>0</td><td>1697046700000</td></tr><tr><td>dbfs:/mnt/databricksdl2/footballingested/guatemala/</td><td>guatemala/</td><td>0</td><td>1697046643000</td></tr><tr><td>dbfs:/mnt/databricksdl2/footballingested/guinea/</td><td>guinea/</td><td>0</td><td>1697046778000</td></tr><tr><td>dbfs:/mnt/databricksdl2/footballingested/guyana/</td><td>guyana/</td><td>0</td><td>1697047080000</td></tr><tr><td>dbfs:/mnt/databricksdl2/footballingested/haiti/</td><td>haiti/</td><td>0</td><td>1697046875000</td></tr><tr><td>dbfs:/mnt/databricksdl2/footballingested/honduras/</td><td>honduras/</td><td>0</td><td>1697047230000</td></tr><tr><td>dbfs:/mnt/databricksdl2/footballingested/hong-kong/</td><td>hong-kong/</td><td>0</td><td>1697047035000</td></tr><tr><td>dbfs:/mnt/databricksdl2/footballingested/hungary/</td><td>hungary/</td><td>0</td><td>1697047227000</td></tr><tr><td>dbfs:/mnt/databricksdl2/footballingested/iceland/</td><td>iceland/</td><td>0</td><td>1697046915000</td></tr><tr><td>dbfs:/mnt/databricksdl2/footballingested/india/</td><td>india/</td><td>0</td><td>1697046753000</td></tr><tr><td>dbfs:/mnt/databricksdl2/footballingested/indonesia/</td><td>indonesia/</td><td>0</td><td>1697046805000</td></tr><tr><td>dbfs:/mnt/databricksdl2/footballingested/ingested_files/</td><td>ingested_files/</td><td>0</td><td>1696971932000</td></tr><tr><td>dbfs:/mnt/databricksdl2/footballingested/iran/</td><td>iran/</td><td>0</td><td>1697046921000</td></tr><tr><td>dbfs:/mnt/databricksdl2/footballingested/iraq/</td><td>iraq/</td><td>0</td><td>1697046646000</td></tr><tr><td>dbfs:/mnt/databricksdl2/footballingested/ireland-republic/</td><td>ireland-republic/</td><td>0</td><td>1697046823000</td></tr><tr><td>dbfs:/mnt/databricksdl2/footballingested/israel/</td><td>israel/</td><td>0</td><td>1697046603000</td></tr><tr><td>dbfs:/mnt/databricksdl2/footballingested/italy/</td><td>italy/</td><td>0</td><td>1697047125000</td></tr><tr><td>dbfs:/mnt/databricksdl2/footballingested/jamaica/</td><td>jamaica/</td><td>0</td><td>1697046842000</td></tr><tr><td>dbfs:/mnt/databricksdl2/footballingested/japan/</td><td>japan/</td><td>0</td><td>1697046721000</td></tr><tr><td>dbfs:/mnt/databricksdl2/footballingested/jordan/</td><td>jordan/</td><td>0</td><td>1697046756000</td></tr><tr><td>dbfs:/mnt/databricksdl2/footballingested/kazakhstan/</td><td>kazakhstan/</td><td>0</td><td>1697046662000</td></tr><tr><td>dbfs:/mnt/databricksdl2/footballingested/kenya/</td><td>kenya/</td><td>0</td><td>1697047177000</td></tr><tr><td>dbfs:/mnt/databricksdl2/footballingested/korea-republic/</td><td>korea-republic/</td><td>0</td><td>1697046948000</td></tr><tr><td>dbfs:/mnt/databricksdl2/footballingested/kosovo/</td><td>kosovo/</td><td>0</td><td>1697046637000</td></tr><tr><td>dbfs:/mnt/databricksdl2/footballingested/kuwait/</td><td>kuwait/</td><td>0</td><td>1697046671000</td></tr><tr><td>dbfs:/mnt/databricksdl2/footballingested/kyrgyzstan/</td><td>kyrgyzstan/</td><td>0</td><td>1697047135000</td></tr><tr><td>dbfs:/mnt/databricksdl2/footballingested/laos/</td><td>laos/</td><td>0</td><td>1697046924000</td></tr><tr><td>dbfs:/mnt/databricksdl2/footballingested/latvia/</td><td>latvia/</td><td>0</td><td>1697047217000</td></tr><tr><td>dbfs:/mnt/databricksdl2/footballingested/lebanon/</td><td>lebanon/</td><td>0</td><td>1697046715000</td></tr><tr><td>dbfs:/mnt/databricksdl2/footballingested/lesotho/</td><td>lesotho/</td><td>0</td><td>1697046808000</td></tr><tr><td>dbfs:/mnt/databricksdl2/footballingested/liberia/</td><td>liberia/</td><td>0</td><td>1697047107000</td></tr><tr><td>dbfs:/mnt/databricksdl2/footballingested/libya/</td><td>libya/</td><td>0</td><td>1697046878000</td></tr><tr><td>dbfs:/mnt/databricksdl2/footballingested/liechtenstein/</td><td>liechtenstein/</td><td>0</td><td>1697046634000</td></tr><tr><td>dbfs:/mnt/databricksdl2/footballingested/lithuania/</td><td>lithuania/</td><td>0</td><td>1697047220000</td></tr><tr><td>dbfs:/mnt/databricksdl2/footballingested/luxembourg/</td><td>luxembourg/</td><td>0</td><td>1697046728000</td></tr><tr><td>dbfs:/mnt/databricksdl2/footballingested/macao/</td><td>macao/</td><td>0</td><td>1697047026000</td></tr><tr><td>dbfs:/mnt/databricksdl2/footballingested/macedonia-fyr/</td><td>macedonia-fyr/</td><td>0</td><td>1697046814000</td></tr><tr><td>dbfs:/mnt/databricksdl2/footballingested/madagascar/</td><td>madagascar/</td><td>0</td><td>1697046903000</td></tr><tr><td>dbfs:/mnt/databricksdl2/footballingested/malawi/</td><td>malawi/</td><td>0</td><td>1697046975000</td></tr><tr><td>dbfs:/mnt/databricksdl2/footballingested/malaysia/</td><td>malaysia/</td><td>0</td><td>1697047115000</td></tr><tr><td>dbfs:/mnt/databricksdl2/footballingested/maldives/</td><td>maldives/</td><td>0</td><td>1697047165000</td></tr><tr><td>dbfs:/mnt/databricksdl2/footballingested/mali/</td><td>mali/</td><td>0</td><td>1697046691000</td></tr><tr><td>dbfs:/mnt/databricksdl2/footballingested/malta/</td><td>malta/</td><td>0</td><td>1697046706000</td></tr><tr><td>dbfs:/mnt/databricksdl2/footballingested/martinique/</td><td>martinique/</td><td>0</td><td>1697046781000</td></tr><tr><td>dbfs:/mnt/databricksdl2/footballingested/mauritania/</td><td>mauritania/</td><td>0</td><td>1697047109000</td></tr><tr><td>dbfs:/mnt/databricksdl2/footballingested/mauritius/</td><td>mauritius/</td><td>0</td><td>1697046659000</td></tr><tr><td>dbfs:/mnt/databricksdl2/footballingested/mexico/</td><td>mexico/</td><td>0</td><td>1697047243000</td></tr><tr><td>dbfs:/mnt/databricksdl2/footballingested/moldova/</td><td>moldova/</td><td>0</td><td>1697046731000</td></tr><tr><td>dbfs:/mnt/databricksdl2/footballingested/mongolia/</td><td>mongolia/</td><td>0</td><td>1697046960000</td></tr><tr><td>dbfs:/mnt/databricksdl2/footballingested/montenegro/</td><td>montenegro/</td><td>0</td><td>1697046906000</td></tr><tr><td>dbfs:/mnt/databricksdl2/footballingested/morocco/</td><td>morocco/</td><td>0</td><td>1697046712000</td></tr><tr><td>dbfs:/mnt/databricksdl2/footballingested/mozambique/</td><td>mozambique/</td><td>0</td><td>1697046900000</td></tr><tr><td>dbfs:/mnt/databricksdl2/footballingested/myanmar/</td><td>myanmar/</td><td>0</td><td>1697046769000</td></tr><tr><td>dbfs:/mnt/databricksdl2/footballingested/namibia/</td><td>namibia/</td><td>0</td><td>1697047233000</td></tr><tr><td>dbfs:/mnt/databricksdl2/footballingested/nepal/</td><td>nepal/</td><td>0</td><td>1697046869000</td></tr><tr><td>dbfs:/mnt/databricksdl2/footballingested/netherlands/</td><td>netherlands/</td><td>0</td><td>1697046851000</td></tr><tr><td>dbfs:/mnt/databricksdl2/footballingested/new-caledonia/</td><td>new-caledonia/</td><td>0</td><td>1697046978000</td></tr><tr><td>dbfs:/mnt/databricksdl2/footballingested/new-zealand/</td><td>new-zealand/</td><td>0</td><td>1697046854000</td></tr><tr><td>dbfs:/mnt/databricksdl2/footballingested/nicaragua/</td><td>nicaragua/</td><td>0</td><td>1697046665000</td></tr><tr><td>dbfs:/mnt/databricksdl2/footballingested/niger/</td><td>niger/</td><td>0</td><td>1697046682000</td></tr><tr><td>dbfs:/mnt/databricksdl2/footballingested/nigeria/</td><td>nigeria/</td><td>0</td><td>1697046610000</td></tr><tr><td>dbfs:/mnt/databricksdl2/footballingested/northern-ireland/</td><td>northern-ireland/</td><td>0</td><td>1697046718000</td></tr><tr><td>dbfs:/mnt/databricksdl2/footballingested/norway/</td><td>norway/</td><td>0</td><td>1697047142000</td></tr><tr><td>dbfs:/mnt/databricksdl2/footballingested/ofc-cc/</td><td>ofc-cc/</td><td>0</td><td>1697047246000</td></tr><tr><td>dbfs:/mnt/databricksdl2/footballingested/oman/</td><td>oman/</td><td>0</td><td>1697046987000</td></tr><tr><td>dbfs:/mnt/databricksdl2/footballingested/pakistan/</td><td>pakistan/</td><td>0</td><td>1697047201000</td></tr><tr><td>dbfs:/mnt/databricksdl2/footballingested/palestine/</td><td>palestine/</td><td>0</td><td>1697047038000</td></tr><tr><td>dbfs:/mnt/databricksdl2/footballingested/panama/</td><td>panama/</td><td>0</td><td>1697047104000</td></tr><tr><td>dbfs:/mnt/databricksdl2/footballingested/papua-new-guinea/</td><td>papua-new-guinea/</td><td>0</td><td>1697046802000</td></tr><tr><td>dbfs:/mnt/databricksdl2/footballingested/paraguay/</td><td>paraguay/</td><td>0</td><td>1697046884000</td></tr><tr><td>dbfs:/mnt/databricksdl2/footballingested/peru/</td><td>peru/</td><td>0</td><td>1697047171000</td></tr><tr><td>dbfs:/mnt/databricksdl2/footballingested/philippines/</td><td>philippines/</td><td>0</td><td>1697047163000</td></tr><tr><td>dbfs:/mnt/databricksdl2/footballingested/poland/</td><td>poland/</td><td>0</td><td>1697046649000</td></tr><tr><td>dbfs:/mnt/databricksdl2/footballingested/portugal/</td><td>portugal/</td><td>0</td><td>1697046600000</td></tr><tr><td>dbfs:/mnt/databricksdl2/footballingested/puerto-rico/</td><td>puerto-rico/</td><td>0</td><td>1697046613000</td></tr><tr><td>dbfs:/mnt/databricksdl2/footballingested/qatar/</td><td>qatar/</td><td>0</td><td>1697047214000</td></tr><tr><td>dbfs:/mnt/databricksdl2/footballingested/recopa/</td><td>recopa/</td><td>0</td><td>1697046677000</td></tr><tr><td>dbfs:/mnt/databricksdl2/footballingested/reunion/</td><td>reunion/</td><td>0</td><td>1697046839000</td></tr><tr><td>dbfs:/mnt/databricksdl2/footballingested/romania/</td><td>romania/</td><td>0</td><td>1697047129000</td></tr><tr><td>dbfs:/mnt/databricksdl2/footballingested/russia/</td><td>russia/</td><td>0</td><td>1697047119000</td></tr><tr><td>dbfs:/mnt/databricksdl2/footballingested/rwanda/</td><td>rwanda/</td><td>0</td><td>1697046734000</td></tr><tr><td>dbfs:/mnt/databricksdl2/footballingested/samoa/</td><td>samoa/</td><td>0</td><td>1697046927000</td></tr><tr><td>dbfs:/mnt/databricksdl2/footballingested/san-marino/</td><td>san-marino/</td><td>0</td><td>1697046951000</td></tr><tr><td>dbfs:/mnt/databricksdl2/footballingested/sao-tome-e-principe/</td><td>sao-tome-e-principe/</td><td>0</td><td>1697047040000</td></tr><tr><td>dbfs:/mnt/databricksdl2/footballingested/saudi-arabia/</td><td>saudi-arabia/</td><td>0</td><td>1697046963000</td></tr><tr><td>dbfs:/mnt/databricksdl2/footballingested/scotland/</td><td>scotland/</td><td>0</td><td>1697047097000</td></tr><tr><td>dbfs:/mnt/databricksdl2/footballingested/senegal/</td><td>senegal/</td><td>0</td><td>1697046966000</td></tr><tr><td>dbfs:/mnt/databricksdl2/footballingested/serbia/</td><td>serbia/</td><td>0</td><td>1697046832000</td></tr><tr><td>dbfs:/mnt/databricksdl2/footballingested/serbia-and-montenegro/</td><td>serbia-and-montenegro/</td><td>0</td><td>1697047259000</td></tr><tr><td>dbfs:/mnt/databricksdl2/footballingested/seychelles/</td><td>seychelles/</td><td>0</td><td>1697046625000</td></tr><tr><td>dbfs:/mnt/databricksdl2/footballingested/sierra-leone/</td><td>sierra-leone/</td><td>0</td><td>1697046945000</td></tr><tr><td>dbfs:/mnt/databricksdl2/footballingested/singapore/</td><td>singapore/</td><td>0</td><td>1697047017000</td></tr><tr><td>dbfs:/mnt/databricksdl2/footballingested/slovakia/</td><td>slovakia/</td><td>0</td><td>1697047043000</td></tr><tr><td>dbfs:/mnt/databricksdl2/footballingested/slovenia/</td><td>slovenia/</td><td>0</td><td>1697047154000</td></tr><tr><td>dbfs:/mnt/databricksdl2/footballingested/solomon-islands/</td><td>solomon-islands/</td><td>0</td><td>1697046628000</td></tr><tr><td>dbfs:/mnt/databricksdl2/footballingested/somalia/</td><td>somalia/</td><td>0</td><td>1697047273000</td></tr><tr><td>dbfs:/mnt/databricksdl2/footballingested/south-africa/</td><td>south-africa/</td><td>0</td><td>1697047204000</td></tr><tr><td>dbfs:/mnt/databricksdl2/footballingested/spain/</td><td>spain/</td><td>0</td><td>1697047237000</td></tr><tr><td>dbfs:/mnt/databricksdl2/footballingested/sri-lanka/</td><td>sri-lanka/</td><td>0</td><td>1697046912000</td></tr><tr><td>dbfs:/mnt/databricksdl2/footballingested/st-kitts-and-nevis/</td><td>st-kitts-and-nevis/</td><td>0</td><td>1697046793000</td></tr><tr><td>dbfs:/mnt/databricksdl2/footballingested/sudan/</td><td>sudan/</td><td>0</td><td>1697047265000</td></tr><tr><td>dbfs:/mnt/databricksdl2/footballingested/surinam/</td><td>surinam/</td><td>0</td><td>1697047068000</td></tr><tr><td>dbfs:/mnt/databricksdl2/footballingested/swaziland/</td><td>swaziland/</td><td>0</td><td>1697047055000</td></tr><tr><td>dbfs:/mnt/databricksdl2/footballingested/sweden/</td><td>sweden/</td><td>0</td><td>1697046787000</td></tr><tr><td>dbfs:/mnt/databricksdl2/footballingested/switzerland/</td><td>switzerland/</td><td>0</td><td>1697046738000</td></tr><tr><td>dbfs:/mnt/databricksdl2/footballingested/syria/</td><td>syria/</td><td>0</td><td>1697047029000</td></tr><tr><td>dbfs:/mnt/databricksdl2/footballingested/tahiti/</td><td>tahiti/</td><td>0</td><td>1697046694000</td></tr><tr><td>dbfs:/mnt/databricksdl2/footballingested/tajikistan/</td><td>tajikistan/</td><td>0</td><td>1697046784000</td></tr><tr><td>dbfs:/mnt/databricksdl2/footballingested/tanzania/</td><td>tanzania/</td><td>0</td><td>1697046772000</td></tr><tr><td>dbfs:/mnt/databricksdl2/footballingested/thailand/</td><td>thailand/</td><td>0</td><td>1697046744000</td></tr><tr><td>dbfs:/mnt/databricksdl2/footballingested/togo/</td><td>togo/</td><td>0</td><td>1697047071000</td></tr><tr><td>dbfs:/mnt/databricksdl2/footballingested/trinidad-and-tobago/</td><td>trinidad-and-tobago/</td><td>0</td><td>1697046790000</td></tr><tr><td>dbfs:/mnt/databricksdl2/footballingested/tunisia/</td><td>tunisia/</td><td>0</td><td>1697046759000</td></tr><tr><td>dbfs:/mnt/databricksdl2/footballingested/turkey/</td><td>turkey/</td><td>0</td><td>1697046954000</td></tr><tr><td>dbfs:/mnt/databricksdl2/footballingested/turkmenistan/</td><td>turkmenistan/</td><td>0</td><td>1697046674000</td></tr><tr><td>dbfs:/mnt/databricksdl2/footballingested/turks-and-caicos-islands/</td><td>turks-and-caicos-islands/</td><td>0</td><td>1697047046000</td></tr><tr><td>dbfs:/mnt/databricksdl2/footballingested/tuvalu/</td><td>tuvalu/</td><td>0</td><td>1697047088000</td></tr><tr><td>dbfs:/mnt/databricksdl2/footballingested/udssr/</td><td>udssr/</td><td>0</td><td>1697047011000</td></tr><tr><td>dbfs:/mnt/databricksdl2/footballingested/uefa-cl/</td><td>uefa-cl/</td><td>0</td><td>1697047112000</td></tr><tr><td>dbfs:/mnt/databricksdl2/footballingested/uefa-cw/</td><td>uefa-cw/</td><td>0</td><td>1697047101000</td></tr><tr><td>dbfs:/mnt/databricksdl2/footballingested/uefa-el/</td><td>uefa-el/</td><td>0</td><td>1697047058000</td></tr><tr><td>dbfs:/mnt/databricksdl2/footballingested/uefa-itc/</td><td>uefa-itc/</td><td>0</td><td>1697046969000</td></tr><tr><td>dbfs:/mnt/databricksdl2/footballingested/uefa-sc/</td><td>uefa-sc/</td><td>0</td><td>1697046939000</td></tr><tr><td>dbfs:/mnt/databricksdl2/footballingested/uganda/</td><td>uganda/</td><td>0</td><td>1697047083000</td></tr><tr><td>dbfs:/mnt/databricksdl2/footballingested/ukraine/</td><td>ukraine/</td><td>0</td><td>1697046607000</td></tr><tr><td>dbfs:/mnt/databricksdl2/footballingested/united-arab-emirates/</td><td>united-arab-emirates/</td><td>0</td><td>1697046863000</td></tr><tr><td>dbfs:/mnt/databricksdl2/footballingested/united-states/</td><td>united-states/</td><td>0</td><td>1697047132000</td></tr><tr><td>dbfs:/mnt/databricksdl2/footballingested/uruguay/</td><td>uruguay/</td><td>0</td><td>1697046999000</td></tr><tr><td>dbfs:/mnt/databricksdl2/footballingested/uzbekistan/</td><td>uzbekistan/</td><td>0</td><td>1697046640000</td></tr><tr><td>dbfs:/mnt/databricksdl2/footballingested/vanuatu/</td><td>vanuatu/</td><td>0</td><td>1697046887000</td></tr><tr><td>dbfs:/mnt/databricksdl2/footballingested/venezuela/</td><td>venezuela/</td><td>0</td><td>1697046990000</td></tr><tr><td>dbfs:/mnt/databricksdl2/footballingested/vietnam/</td><td>vietnam/</td><td>0</td><td>1697047014000</td></tr><tr><td>dbfs:/mnt/databricksdl2/footballingested/wales/</td><td>wales/</td><td>0</td><td>1697047256000</td></tr><tr><td>dbfs:/mnt/databricksdl2/footballingested/yemen/</td><td>yemen/</td><td>0</td><td>1697047157000</td></tr><tr><td>dbfs:/mnt/databricksdl2/footballingested/yugoslavia/</td><td>yugoslavia/</td><td>0</td><td>1697046766000</td></tr><tr><td>dbfs:/mnt/databricksdl2/footballingested/zambia/</td><td>zambia/</td><td>0</td><td>1697046622000</td></tr><tr><td>dbfs:/mnt/databricksdl2/footballingested/zimbabwe/</td><td>zimbabwe/</td><td>0</td><td>1697047020000</td></tr></tbody></table></div>"
      ]
     },
     "metadata": {
      "application/vnd.databricks.v1+output": {
       "addedWidgets": {},
       "aggData": [],
       "aggError": "",
       "aggOverflow": false,
       "aggSchema": [],
       "aggSeriesLimitReached": false,
       "aggType": "",
       "arguments": {},
       "columnCustomDisplayInfos": {},
       "data": [
        [
         "dbfs:/mnt/databricksdl2/footballingested/afc-cl/",
         "afc-cl/",
         0,
         1697046724000
        ],
        [
         "dbfs:/mnt/databricksdl2/footballingested/afc-pokal/",
         "afc-pokal/",
         0,
         1697047168000
        ],
        [
         "dbfs:/mnt/databricksdl2/footballingested/afc-pres.-cup/",
         "afc-pres.-cup/",
         0,
         1697047085000
        ],
        [
         "dbfs:/mnt/databricksdl2/footballingested/afghanistan/",
         "afghanistan/",
         0,
         1697047186000
        ],
        [
         "dbfs:/mnt/databricksdl2/footballingested/albania/",
         "albania/",
         0,
         1697046685000
        ],
        [
         "dbfs:/mnt/databricksdl2/footballingested/algeria/",
         "algeria/",
         0,
         1697047122000
        ],
        [
         "dbfs:/mnt/databricksdl2/footballingested/american-samoa/",
         "american-samoa/",
         0,
         1697046993000
        ],
        [
         "dbfs:/mnt/databricksdl2/footballingested/andorra/",
         "andorra/",
         0,
         1697047005000
        ],
        [
         "dbfs:/mnt/databricksdl2/footballingested/angola/",
         "angola/",
         0,
         1697046616000
        ],
        [
         "dbfs:/mnt/databricksdl2/footballingested/antigua-and-barbuda/",
         "antigua-and-barbuda/",
         0,
         1697047174000
        ],
        [
         "dbfs:/mnt/databricksdl2/footballingested/argentina/",
         "argentina/",
         0,
         1697046936000
        ],
        [
         "dbfs:/mnt/databricksdl2/footballingested/armenia/",
         "armenia/",
         0,
         1697047049000
        ],
        [
         "dbfs:/mnt/databricksdl2/footballingested/aruba/",
         "aruba/",
         0,
         1696972474000
        ],
        [
         "dbfs:/mnt/databricksdl2/footballingested/australia/",
         "australia/",
         0,
         1697046593000
        ],
        [
         "dbfs:/mnt/databricksdl2/footballingested/austria/",
         "austria/",
         0,
         1697046653000
        ],
        [
         "dbfs:/mnt/databricksdl2/footballingested/azerbaijan/",
         "azerbaijan/",
         0,
         1697046918000
        ],
        [
         "dbfs:/mnt/databricksdl2/footballingested/bahamas/",
         "bahamas/",
         0,
         1697046957000
        ],
        [
         "dbfs:/mnt/databricksdl2/footballingested/bahrain/",
         "bahrain/",
         0,
         1697046817000
        ],
        [
         "dbfs:/mnt/databricksdl2/footballingested/bangladesh/",
         "bangladesh/",
         0,
         1697046984000
        ],
        [
         "dbfs:/mnt/databricksdl2/footballingested/barbados/",
         "barbados/",
         0,
         1697047065000
        ],
        [
         "dbfs:/mnt/databricksdl2/footballingested/belarus/",
         "belarus/",
         0,
         1697046811000
        ],
        [
         "dbfs:/mnt/databricksdl2/footballingested/belgium/",
         "belgium/",
         0,
         1697047249000
        ],
        [
         "dbfs:/mnt/databricksdl2/footballingested/belize/",
         "belize/",
         0,
         1697047094000
        ],
        [
         "dbfs:/mnt/databricksdl2/footballingested/benin/",
         "benin/",
         0,
         1697047192000
        ],
        [
         "dbfs:/mnt/databricksdl2/footballingested/bermuda/",
         "bermuda/",
         0,
         1697046631000
        ],
        [
         "dbfs:/mnt/databricksdl2/footballingested/bhutan/",
         "bhutan/",
         0,
         1697047180000
        ],
        [
         "dbfs:/mnt/databricksdl2/footballingested/bolivia/",
         "bolivia/",
         0,
         1697046763000
        ],
        [
         "dbfs:/mnt/databricksdl2/footballingested/bonaire/",
         "bonaire/",
         0,
         1697046796000
        ],
        [
         "dbfs:/mnt/databricksdl2/footballingested/bosnia-herzegovina/",
         "bosnia-herzegovina/",
         0,
         1697046872000
        ],
        [
         "dbfs:/mnt/databricksdl2/footballingested/botswana/",
         "botswana/",
         0,
         1697046996000
        ],
        [
         "dbfs:/mnt/databricksdl2/footballingested/brazil/",
         "brazil/",
         0,
         1697046835000
        ],
        [
         "dbfs:/mnt/databricksdl2/footballingested/british-virgin-islands/",
         "british-virgin-islands/",
         0,
         1697047270000
        ],
        [
         "dbfs:/mnt/databricksdl2/footballingested/brunei-darussalam/",
         "brunei-darussalam/",
         0,
         1697046668000
        ],
        [
         "dbfs:/mnt/databricksdl2/footballingested/bulgaria/",
         "bulgaria/",
         0,
         1697047208000
        ],
        [
         "dbfs:/mnt/databricksdl2/footballingested/burkina-faso/",
         "burkina-faso/",
         0,
         1697047240000
        ],
        [
         "dbfs:/mnt/databricksdl2/footballingested/burundi/",
         "burundi/",
         0,
         1697047145000
        ],
        [
         "dbfs:/mnt/databricksdl2/footballingested/caf-cc/",
         "caf-cc/",
         0,
         1697046845000
        ],
        [
         "dbfs:/mnt/databricksdl2/footballingested/caf-cl/",
         "caf-cl/",
         0,
         1697047052000
        ],
        [
         "dbfs:/mnt/databricksdl2/footballingested/caf-sc/",
         "caf-sc/",
         0,
         1697047091000
        ],
        [
         "dbfs:/mnt/databricksdl2/footballingested/cambodia/",
         "cambodia/",
         0,
         1697047002000
        ],
        [
         "dbfs:/mnt/databricksdl2/footballingested/cameroon/",
         "cameroon/",
         0,
         1697046894000
        ],
        [
         "dbfs:/mnt/databricksdl2/footballingested/canada/",
         "canada/",
         0,
         1697046866000
        ],
        [
         "dbfs:/mnt/databricksdl2/footballingested/cape-verde-islands/",
         "cape-verde-islands/",
         0,
         1697046697000
        ],
        [
         "dbfs:/mnt/databricksdl2/footballingested/cayman-islands/",
         "cayman-islands/",
         0,
         1697046709000
        ],
        [
         "dbfs:/mnt/databricksdl2/footballingested/cfu-cc/",
         "cfu-cc/",
         0,
         1697047147000
        ],
        [
         "dbfs:/mnt/databricksdl2/footballingested/chad/",
         "chad/",
         0,
         1697047023000
        ],
        [
         "dbfs:/mnt/databricksdl2/footballingested/chile/",
         "chile/",
         0,
         1697047223000
        ],
        [
         "dbfs:/mnt/databricksdl2/footballingested/china-pr/",
         "china-pr/",
         0,
         1697046747000
        ],
        [
         "dbfs:/mnt/databricksdl2/footballingested/chinese-taipei/",
         "chinese-taipei/",
         0,
         1697047189000
        ],
        [
         "dbfs:/mnt/databricksdl2/footballingested/colombia/",
         "colombia/",
         0,
         1697046750000
        ],
        [
         "dbfs:/mnt/databricksdl2/footballingested/concacaf-cc/",
         "concacaf-cc/",
         0,
         1697046679000
        ],
        [
         "dbfs:/mnt/databricksdl2/footballingested/concacaf-l/",
         "concacaf-l/",
         0,
         1697046981000
        ],
        [
         "dbfs:/mnt/databricksdl2/footballingested/congo/",
         "congo/",
         0,
         1697046897000
        ],
        [
         "dbfs:/mnt/databricksdl2/footballingested/congo-dr/",
         "congo-dr/",
         0,
         1697046881000
        ],
        [
         "dbfs:/mnt/databricksdl2/footballingested/cook-islands/",
         "cook-islands/",
         0,
         1697046741000
        ],
        [
         "dbfs:/mnt/databricksdl2/footballingested/copa-lib/",
         "copa-lib/",
         0,
         1697047074000
        ],
        [
         "dbfs:/mnt/databricksdl2/footballingested/copa-sud/",
         "copa-sud/",
         0,
         1697046619000
        ],
        [
         "dbfs:/mnt/databricksdl2/footballingested/costa-rica/",
         "costa-rica/",
         0,
         1697046799000
        ],
        [
         "dbfs:/mnt/databricksdl2/footballingested/cote-divoire/",
         "cote-divoire/",
         0,
         1697047008000
        ],
        [
         "dbfs:/mnt/databricksdl2/footballingested/croatia/",
         "croatia/",
         0,
         1697046860000
        ],
        [
         "dbfs:/mnt/databricksdl2/footballingested/cuba/",
         "cuba/",
         0,
         1697047077000
        ],
        [
         "dbfs:/mnt/databricksdl2/footballingested/curacao/",
         "curacao/",
         0,
         1697047262000
        ],
        [
         "dbfs:/mnt/databricksdl2/footballingested/cyprus/",
         "cyprus/",
         0,
         1697047183000
        ],
        [
         "dbfs:/mnt/databricksdl2/footballingested/czech-republic/",
         "czech-republic/",
         0,
         1697046703000
        ],
        [
         "dbfs:/mnt/databricksdl2/footballingested/ddr/",
         "ddr/",
         0,
         1697046775000
        ],
        [
         "dbfs:/mnt/databricksdl2/footballingested/denmark/",
         "denmark/",
         0,
         1697047138000
        ],
        [
         "dbfs:/mnt/databricksdl2/footballingested/djibouti/",
         "djibouti/",
         0,
         1697047211000
        ],
        [
         "dbfs:/mnt/databricksdl2/footballingested/dominica/",
         "dominica/",
         0,
         1697046930000
        ],
        [
         "dbfs:/mnt/databricksdl2/footballingested/dominican-republic/",
         "dominican-republic/",
         0,
         1696972476000
        ],
        [
         "dbfs:/mnt/databricksdl2/footballingested/ecuador/",
         "ecuador/",
         0,
         1697047253000
        ],
        [
         "dbfs:/mnt/databricksdl2/footballingested/egypt/",
         "egypt/",
         0,
         1697047032000
        ],
        [
         "dbfs:/mnt/databricksdl2/footballingested/el-salvador/",
         "el-salvador/",
         0,
         1697046972000
        ],
        [
         "dbfs:/mnt/databricksdl2/footballingested/england/",
         "england/",
         0,
         1697047195000
        ],
        [
         "dbfs:/mnt/databricksdl2/footballingested/estonia/",
         "estonia/",
         0,
         1697047160000
        ],
        [
         "dbfs:/mnt/databricksdl2/footballingested/ethiopia/",
         "ethiopia/",
         0,
         1697046857000
        ],
        [
         "dbfs:/mnt/databricksdl2/footballingested/faroe-islands/",
         "faroe-islands/",
         0,
         1697046820000
        ],
        [
         "dbfs:/mnt/databricksdl2/footballingested/fifa-club/",
         "fifa-club/",
         0,
         1697047199000
        ],
        [
         "dbfs:/mnt/databricksdl2/footballingested/fifa-wc/",
         "fifa-wc/",
         0,
         1697047268000
        ],
        [
         "dbfs:/mnt/databricksdl2/footballingested/fiji/",
         "fiji/",
         0,
         1697046656000
        ],
        [
         "dbfs:/mnt/databricksdl2/footballingested/finland/",
         "finland/",
         0,
         1697046590000
        ],
        [
         "dbfs:/mnt/databricksdl2/footballingested/france/",
         "france/",
         0,
         1697046891000
        ],
        [
         "dbfs:/mnt/databricksdl2/footballingested/french-guyana/",
         "french-guyana/",
         0,
         1697046909000
        ],
        [
         "dbfs:/mnt/databricksdl2/footballingested/gabon/",
         "gabon/",
         0,
         1697046848000
        ],
        [
         "dbfs:/mnt/databricksdl2/footballingested/gambia/",
         "gambia/",
         0,
         1697046829000
        ],
        [
         "dbfs:/mnt/databricksdl2/footballingested/georgia/",
         "georgia/",
         0,
         1697047150000
        ],
        [
         "dbfs:/mnt/databricksdl2/footballingested/germany/",
         "germany/",
         0,
         1697047062000
        ],
        [
         "dbfs:/mnt/databricksdl2/footballingested/ghana/",
         "ghana/",
         0,
         1697046826000
        ],
        [
         "dbfs:/mnt/databricksdl2/footballingested/gibraltar/",
         "gibraltar/",
         0,
         1697046688000
        ],
        [
         "dbfs:/mnt/databricksdl2/footballingested/greece/",
         "greece/",
         0,
         1697046596000
        ],
        [
         "dbfs:/mnt/databricksdl2/footballingested/grenada/",
         "grenada/",
         0,
         1697046932000
        ],
        [
         "dbfs:/mnt/databricksdl2/footballingested/guadeloupe/",
         "guadeloupe/",
         0,
         1697046942000
        ],
        [
         "dbfs:/mnt/databricksdl2/footballingested/guam/",
         "guam/",
         0,
         1697046700000
        ],
        [
         "dbfs:/mnt/databricksdl2/footballingested/guatemala/",
         "guatemala/",
         0,
         1697046643000
        ],
        [
         "dbfs:/mnt/databricksdl2/footballingested/guinea/",
         "guinea/",
         0,
         1697046778000
        ],
        [
         "dbfs:/mnt/databricksdl2/footballingested/guyana/",
         "guyana/",
         0,
         1697047080000
        ],
        [
         "dbfs:/mnt/databricksdl2/footballingested/haiti/",
         "haiti/",
         0,
         1697046875000
        ],
        [
         "dbfs:/mnt/databricksdl2/footballingested/honduras/",
         "honduras/",
         0,
         1697047230000
        ],
        [
         "dbfs:/mnt/databricksdl2/footballingested/hong-kong/",
         "hong-kong/",
         0,
         1697047035000
        ],
        [
         "dbfs:/mnt/databricksdl2/footballingested/hungary/",
         "hungary/",
         0,
         1697047227000
        ],
        [
         "dbfs:/mnt/databricksdl2/footballingested/iceland/",
         "iceland/",
         0,
         1697046915000
        ],
        [
         "dbfs:/mnt/databricksdl2/footballingested/india/",
         "india/",
         0,
         1697046753000
        ],
        [
         "dbfs:/mnt/databricksdl2/footballingested/indonesia/",
         "indonesia/",
         0,
         1697046805000
        ],
        [
         "dbfs:/mnt/databricksdl2/footballingested/ingested_files/",
         "ingested_files/",
         0,
         1696971932000
        ],
        [
         "dbfs:/mnt/databricksdl2/footballingested/iran/",
         "iran/",
         0,
         1697046921000
        ],
        [
         "dbfs:/mnt/databricksdl2/footballingested/iraq/",
         "iraq/",
         0,
         1697046646000
        ],
        [
         "dbfs:/mnt/databricksdl2/footballingested/ireland-republic/",
         "ireland-republic/",
         0,
         1697046823000
        ],
        [
         "dbfs:/mnt/databricksdl2/footballingested/israel/",
         "israel/",
         0,
         1697046603000
        ],
        [
         "dbfs:/mnt/databricksdl2/footballingested/italy/",
         "italy/",
         0,
         1697047125000
        ],
        [
         "dbfs:/mnt/databricksdl2/footballingested/jamaica/",
         "jamaica/",
         0,
         1697046842000
        ],
        [
         "dbfs:/mnt/databricksdl2/footballingested/japan/",
         "japan/",
         0,
         1697046721000
        ],
        [
         "dbfs:/mnt/databricksdl2/footballingested/jordan/",
         "jordan/",
         0,
         1697046756000
        ],
        [
         "dbfs:/mnt/databricksdl2/footballingested/kazakhstan/",
         "kazakhstan/",
         0,
         1697046662000
        ],
        [
         "dbfs:/mnt/databricksdl2/footballingested/kenya/",
         "kenya/",
         0,
         1697047177000
        ],
        [
         "dbfs:/mnt/databricksdl2/footballingested/korea-republic/",
         "korea-republic/",
         0,
         1697046948000
        ],
        [
         "dbfs:/mnt/databricksdl2/footballingested/kosovo/",
         "kosovo/",
         0,
         1697046637000
        ],
        [
         "dbfs:/mnt/databricksdl2/footballingested/kuwait/",
         "kuwait/",
         0,
         1697046671000
        ],
        [
         "dbfs:/mnt/databricksdl2/footballingested/kyrgyzstan/",
         "kyrgyzstan/",
         0,
         1697047135000
        ],
        [
         "dbfs:/mnt/databricksdl2/footballingested/laos/",
         "laos/",
         0,
         1697046924000
        ],
        [
         "dbfs:/mnt/databricksdl2/footballingested/latvia/",
         "latvia/",
         0,
         1697047217000
        ],
        [
         "dbfs:/mnt/databricksdl2/footballingested/lebanon/",
         "lebanon/",
         0,
         1697046715000
        ],
        [
         "dbfs:/mnt/databricksdl2/footballingested/lesotho/",
         "lesotho/",
         0,
         1697046808000
        ],
        [
         "dbfs:/mnt/databricksdl2/footballingested/liberia/",
         "liberia/",
         0,
         1697047107000
        ],
        [
         "dbfs:/mnt/databricksdl2/footballingested/libya/",
         "libya/",
         0,
         1697046878000
        ],
        [
         "dbfs:/mnt/databricksdl2/footballingested/liechtenstein/",
         "liechtenstein/",
         0,
         1697046634000
        ],
        [
         "dbfs:/mnt/databricksdl2/footballingested/lithuania/",
         "lithuania/",
         0,
         1697047220000
        ],
        [
         "dbfs:/mnt/databricksdl2/footballingested/luxembourg/",
         "luxembourg/",
         0,
         1697046728000
        ],
        [
         "dbfs:/mnt/databricksdl2/footballingested/macao/",
         "macao/",
         0,
         1697047026000
        ],
        [
         "dbfs:/mnt/databricksdl2/footballingested/macedonia-fyr/",
         "macedonia-fyr/",
         0,
         1697046814000
        ],
        [
         "dbfs:/mnt/databricksdl2/footballingested/madagascar/",
         "madagascar/",
         0,
         1697046903000
        ],
        [
         "dbfs:/mnt/databricksdl2/footballingested/malawi/",
         "malawi/",
         0,
         1697046975000
        ],
        [
         "dbfs:/mnt/databricksdl2/footballingested/malaysia/",
         "malaysia/",
         0,
         1697047115000
        ],
        [
         "dbfs:/mnt/databricksdl2/footballingested/maldives/",
         "maldives/",
         0,
         1697047165000
        ],
        [
         "dbfs:/mnt/databricksdl2/footballingested/mali/",
         "mali/",
         0,
         1697046691000
        ],
        [
         "dbfs:/mnt/databricksdl2/footballingested/malta/",
         "malta/",
         0,
         1697046706000
        ],
        [
         "dbfs:/mnt/databricksdl2/footballingested/martinique/",
         "martinique/",
         0,
         1697046781000
        ],
        [
         "dbfs:/mnt/databricksdl2/footballingested/mauritania/",
         "mauritania/",
         0,
         1697047109000
        ],
        [
         "dbfs:/mnt/databricksdl2/footballingested/mauritius/",
         "mauritius/",
         0,
         1697046659000
        ],
        [
         "dbfs:/mnt/databricksdl2/footballingested/mexico/",
         "mexico/",
         0,
         1697047243000
        ],
        [
         "dbfs:/mnt/databricksdl2/footballingested/moldova/",
         "moldova/",
         0,
         1697046731000
        ],
        [
         "dbfs:/mnt/databricksdl2/footballingested/mongolia/",
         "mongolia/",
         0,
         1697046960000
        ],
        [
         "dbfs:/mnt/databricksdl2/footballingested/montenegro/",
         "montenegro/",
         0,
         1697046906000
        ],
        [
         "dbfs:/mnt/databricksdl2/footballingested/morocco/",
         "morocco/",
         0,
         1697046712000
        ],
        [
         "dbfs:/mnt/databricksdl2/footballingested/mozambique/",
         "mozambique/",
         0,
         1697046900000
        ],
        [
         "dbfs:/mnt/databricksdl2/footballingested/myanmar/",
         "myanmar/",
         0,
         1697046769000
        ],
        [
         "dbfs:/mnt/databricksdl2/footballingested/namibia/",
         "namibia/",
         0,
         1697047233000
        ],
        [
         "dbfs:/mnt/databricksdl2/footballingested/nepal/",
         "nepal/",
         0,
         1697046869000
        ],
        [
         "dbfs:/mnt/databricksdl2/footballingested/netherlands/",
         "netherlands/",
         0,
         1697046851000
        ],
        [
         "dbfs:/mnt/databricksdl2/footballingested/new-caledonia/",
         "new-caledonia/",
         0,
         1697046978000
        ],
        [
         "dbfs:/mnt/databricksdl2/footballingested/new-zealand/",
         "new-zealand/",
         0,
         1697046854000
        ],
        [
         "dbfs:/mnt/databricksdl2/footballingested/nicaragua/",
         "nicaragua/",
         0,
         1697046665000
        ],
        [
         "dbfs:/mnt/databricksdl2/footballingested/niger/",
         "niger/",
         0,
         1697046682000
        ],
        [
         "dbfs:/mnt/databricksdl2/footballingested/nigeria/",
         "nigeria/",
         0,
         1697046610000
        ],
        [
         "dbfs:/mnt/databricksdl2/footballingested/northern-ireland/",
         "northern-ireland/",
         0,
         1697046718000
        ],
        [
         "dbfs:/mnt/databricksdl2/footballingested/norway/",
         "norway/",
         0,
         1697047142000
        ],
        [
         "dbfs:/mnt/databricksdl2/footballingested/ofc-cc/",
         "ofc-cc/",
         0,
         1697047246000
        ],
        [
         "dbfs:/mnt/databricksdl2/footballingested/oman/",
         "oman/",
         0,
         1697046987000
        ],
        [
         "dbfs:/mnt/databricksdl2/footballingested/pakistan/",
         "pakistan/",
         0,
         1697047201000
        ],
        [
         "dbfs:/mnt/databricksdl2/footballingested/palestine/",
         "palestine/",
         0,
         1697047038000
        ],
        [
         "dbfs:/mnt/databricksdl2/footballingested/panama/",
         "panama/",
         0,
         1697047104000
        ],
        [
         "dbfs:/mnt/databricksdl2/footballingested/papua-new-guinea/",
         "papua-new-guinea/",
         0,
         1697046802000
        ],
        [
         "dbfs:/mnt/databricksdl2/footballingested/paraguay/",
         "paraguay/",
         0,
         1697046884000
        ],
        [
         "dbfs:/mnt/databricksdl2/footballingested/peru/",
         "peru/",
         0,
         1697047171000
        ],
        [
         "dbfs:/mnt/databricksdl2/footballingested/philippines/",
         "philippines/",
         0,
         1697047163000
        ],
        [
         "dbfs:/mnt/databricksdl2/footballingested/poland/",
         "poland/",
         0,
         1697046649000
        ],
        [
         "dbfs:/mnt/databricksdl2/footballingested/portugal/",
         "portugal/",
         0,
         1697046600000
        ],
        [
         "dbfs:/mnt/databricksdl2/footballingested/puerto-rico/",
         "puerto-rico/",
         0,
         1697046613000
        ],
        [
         "dbfs:/mnt/databricksdl2/footballingested/qatar/",
         "qatar/",
         0,
         1697047214000
        ],
        [
         "dbfs:/mnt/databricksdl2/footballingested/recopa/",
         "recopa/",
         0,
         1697046677000
        ],
        [
         "dbfs:/mnt/databricksdl2/footballingested/reunion/",
         "reunion/",
         0,
         1697046839000
        ],
        [
         "dbfs:/mnt/databricksdl2/footballingested/romania/",
         "romania/",
         0,
         1697047129000
        ],
        [
         "dbfs:/mnt/databricksdl2/footballingested/russia/",
         "russia/",
         0,
         1697047119000
        ],
        [
         "dbfs:/mnt/databricksdl2/footballingested/rwanda/",
         "rwanda/",
         0,
         1697046734000
        ],
        [
         "dbfs:/mnt/databricksdl2/footballingested/samoa/",
         "samoa/",
         0,
         1697046927000
        ],
        [
         "dbfs:/mnt/databricksdl2/footballingested/san-marino/",
         "san-marino/",
         0,
         1697046951000
        ],
        [
         "dbfs:/mnt/databricksdl2/footballingested/sao-tome-e-principe/",
         "sao-tome-e-principe/",
         0,
         1697047040000
        ],
        [
         "dbfs:/mnt/databricksdl2/footballingested/saudi-arabia/",
         "saudi-arabia/",
         0,
         1697046963000
        ],
        [
         "dbfs:/mnt/databricksdl2/footballingested/scotland/",
         "scotland/",
         0,
         1697047097000
        ],
        [
         "dbfs:/mnt/databricksdl2/footballingested/senegal/",
         "senegal/",
         0,
         1697046966000
        ],
        [
         "dbfs:/mnt/databricksdl2/footballingested/serbia/",
         "serbia/",
         0,
         1697046832000
        ],
        [
         "dbfs:/mnt/databricksdl2/footballingested/serbia-and-montenegro/",
         "serbia-and-montenegro/",
         0,
         1697047259000
        ],
        [
         "dbfs:/mnt/databricksdl2/footballingested/seychelles/",
         "seychelles/",
         0,
         1697046625000
        ],
        [
         "dbfs:/mnt/databricksdl2/footballingested/sierra-leone/",
         "sierra-leone/",
         0,
         1697046945000
        ],
        [
         "dbfs:/mnt/databricksdl2/footballingested/singapore/",
         "singapore/",
         0,
         1697047017000
        ],
        [
         "dbfs:/mnt/databricksdl2/footballingested/slovakia/",
         "slovakia/",
         0,
         1697047043000
        ],
        [
         "dbfs:/mnt/databricksdl2/footballingested/slovenia/",
         "slovenia/",
         0,
         1697047154000
        ],
        [
         "dbfs:/mnt/databricksdl2/footballingested/solomon-islands/",
         "solomon-islands/",
         0,
         1697046628000
        ],
        [
         "dbfs:/mnt/databricksdl2/footballingested/somalia/",
         "somalia/",
         0,
         1697047273000
        ],
        [
         "dbfs:/mnt/databricksdl2/footballingested/south-africa/",
         "south-africa/",
         0,
         1697047204000
        ],
        [
         "dbfs:/mnt/databricksdl2/footballingested/spain/",
         "spain/",
         0,
         1697047237000
        ],
        [
         "dbfs:/mnt/databricksdl2/footballingested/sri-lanka/",
         "sri-lanka/",
         0,
         1697046912000
        ],
        [
         "dbfs:/mnt/databricksdl2/footballingested/st-kitts-and-nevis/",
         "st-kitts-and-nevis/",
         0,
         1697046793000
        ],
        [
         "dbfs:/mnt/databricksdl2/footballingested/sudan/",
         "sudan/",
         0,
         1697047265000
        ],
        [
         "dbfs:/mnt/databricksdl2/footballingested/surinam/",
         "surinam/",
         0,
         1697047068000
        ],
        [
         "dbfs:/mnt/databricksdl2/footballingested/swaziland/",
         "swaziland/",
         0,
         1697047055000
        ],
        [
         "dbfs:/mnt/databricksdl2/footballingested/sweden/",
         "sweden/",
         0,
         1697046787000
        ],
        [
         "dbfs:/mnt/databricksdl2/footballingested/switzerland/",
         "switzerland/",
         0,
         1697046738000
        ],
        [
         "dbfs:/mnt/databricksdl2/footballingested/syria/",
         "syria/",
         0,
         1697047029000
        ],
        [
         "dbfs:/mnt/databricksdl2/footballingested/tahiti/",
         "tahiti/",
         0,
         1697046694000
        ],
        [
         "dbfs:/mnt/databricksdl2/footballingested/tajikistan/",
         "tajikistan/",
         0,
         1697046784000
        ],
        [
         "dbfs:/mnt/databricksdl2/footballingested/tanzania/",
         "tanzania/",
         0,
         1697046772000
        ],
        [
         "dbfs:/mnt/databricksdl2/footballingested/thailand/",
         "thailand/",
         0,
         1697046744000
        ],
        [
         "dbfs:/mnt/databricksdl2/footballingested/togo/",
         "togo/",
         0,
         1697047071000
        ],
        [
         "dbfs:/mnt/databricksdl2/footballingested/trinidad-and-tobago/",
         "trinidad-and-tobago/",
         0,
         1697046790000
        ],
        [
         "dbfs:/mnt/databricksdl2/footballingested/tunisia/",
         "tunisia/",
         0,
         1697046759000
        ],
        [
         "dbfs:/mnt/databricksdl2/footballingested/turkey/",
         "turkey/",
         0,
         1697046954000
        ],
        [
         "dbfs:/mnt/databricksdl2/footballingested/turkmenistan/",
         "turkmenistan/",
         0,
         1697046674000
        ],
        [
         "dbfs:/mnt/databricksdl2/footballingested/turks-and-caicos-islands/",
         "turks-and-caicos-islands/",
         0,
         1697047046000
        ],
        [
         "dbfs:/mnt/databricksdl2/footballingested/tuvalu/",
         "tuvalu/",
         0,
         1697047088000
        ],
        [
         "dbfs:/mnt/databricksdl2/footballingested/udssr/",
         "udssr/",
         0,
         1697047011000
        ],
        [
         "dbfs:/mnt/databricksdl2/footballingested/uefa-cl/",
         "uefa-cl/",
         0,
         1697047112000
        ],
        [
         "dbfs:/mnt/databricksdl2/footballingested/uefa-cw/",
         "uefa-cw/",
         0,
         1697047101000
        ],
        [
         "dbfs:/mnt/databricksdl2/footballingested/uefa-el/",
         "uefa-el/",
         0,
         1697047058000
        ],
        [
         "dbfs:/mnt/databricksdl2/footballingested/uefa-itc/",
         "uefa-itc/",
         0,
         1697046969000
        ],
        [
         "dbfs:/mnt/databricksdl2/footballingested/uefa-sc/",
         "uefa-sc/",
         0,
         1697046939000
        ],
        [
         "dbfs:/mnt/databricksdl2/footballingested/uganda/",
         "uganda/",
         0,
         1697047083000
        ],
        [
         "dbfs:/mnt/databricksdl2/footballingested/ukraine/",
         "ukraine/",
         0,
         1697046607000
        ],
        [
         "dbfs:/mnt/databricksdl2/footballingested/united-arab-emirates/",
         "united-arab-emirates/",
         0,
         1697046863000
        ],
        [
         "dbfs:/mnt/databricksdl2/footballingested/united-states/",
         "united-states/",
         0,
         1697047132000
        ],
        [
         "dbfs:/mnt/databricksdl2/footballingested/uruguay/",
         "uruguay/",
         0,
         1697046999000
        ],
        [
         "dbfs:/mnt/databricksdl2/footballingested/uzbekistan/",
         "uzbekistan/",
         0,
         1697046640000
        ],
        [
         "dbfs:/mnt/databricksdl2/footballingested/vanuatu/",
         "vanuatu/",
         0,
         1697046887000
        ],
        [
         "dbfs:/mnt/databricksdl2/footballingested/venezuela/",
         "venezuela/",
         0,
         1697046990000
        ],
        [
         "dbfs:/mnt/databricksdl2/footballingested/vietnam/",
         "vietnam/",
         0,
         1697047014000
        ],
        [
         "dbfs:/mnt/databricksdl2/footballingested/wales/",
         "wales/",
         0,
         1697047256000
        ],
        [
         "dbfs:/mnt/databricksdl2/footballingested/yemen/",
         "yemen/",
         0,
         1697047157000
        ],
        [
         "dbfs:/mnt/databricksdl2/footballingested/yugoslavia/",
         "yugoslavia/",
         0,
         1697046766000
        ],
        [
         "dbfs:/mnt/databricksdl2/footballingested/zambia/",
         "zambia/",
         0,
         1697046622000
        ],
        [
         "dbfs:/mnt/databricksdl2/footballingested/zimbabwe/",
         "zimbabwe/",
         0,
         1697047020000
        ]
       ],
       "datasetInfos": [],
       "dbfsResultPath": null,
       "isJsonSchema": true,
       "metadata": {},
       "overflow": false,
       "plotOptions": {
        "customPlotOptions": {},
        "displayType": "table",
        "pivotAggregation": null,
        "pivotColumns": null,
        "xColumns": null,
        "yColumns": null
       },
       "removedWidgets": [],
       "schema": [
        {
         "metadata": "{}",
         "name": "path",
         "type": "\"string\""
        },
        {
         "metadata": "{}",
         "name": "name",
         "type": "\"string\""
        },
        {
         "metadata": "{}",
         "name": "size",
         "type": "\"long\""
        },
        {
         "metadata": "{}",
         "name": "modificationTime",
         "type": "\"long\""
        }
       ],
       "type": "table"
      }
     },
     "output_type": "display_data"
    }
   ],
   "source": [
    "display(dbutils.fs.ls(\"/mnt/databricksdl2/footballingested\"))"
   ]
  },
  {
   "cell_type": "code",
   "execution_count": 0,
   "metadata": {
    "application/vnd.databricks.v1+cell": {
     "cellMetadata": {
      "byteLimit": 2048000,
      "rowLimit": 10000
     },
     "inputWidgets": {},
     "nuid": "228aecd9-f511-43f0-9d52-2a393e064c2c",
     "showTitle": false,
     "title": ""
    }
   },
   "outputs": [
    {
     "output_type": "display_data",
     "data": {
      "text/html": [
       "<style scoped>\n",
       "  .table-result-container {\n",
       "    max-height: 300px;\n",
       "    overflow: auto;\n",
       "  }\n",
       "  table, th, td {\n",
       "    border: 1px solid black;\n",
       "    border-collapse: collapse;\n",
       "  }\n",
       "  th, td {\n",
       "    padding: 5px;\n",
       "  }\n",
       "  th {\n",
       "    text-align: left;\n",
       "  }\n",
       "</style><div class='table-result-container'><table class='table-result'><thead style='background-color: white'><tr><th>mountPoint</th><th>source</th><th>encryptionType</th></tr></thead><tbody><tr><td>/mnt/databricksdl2/processeddt</td><td>abfss://processeddt@databricksdl2.dfs.core.windows.net/</td><td></td></tr><tr><td>/databricks-datasets</td><td>databricks-datasets</td><td></td></tr><tr><td>/mnt/databricksdl2/raw</td><td>abfss://raw@databricksdl2.dfs.core.windows.net/</td><td></td></tr><tr><td>/mnt/databricksdl2/footballprocessed</td><td>abfss://footballprocessed@databricksdl2.dfs.core.windows.net/</td><td></td></tr><tr><td>/mnt/databricksdl2/footballsource</td><td>abfss://footballsource@databricksdl2.dfs.core.windows.net/</td><td></td></tr><tr><td>/mnt/databricksdl2/football</td><td>abfss://football@databricksdl2.dfs.core.windows.net/</td><td></td></tr><tr><td>/Volumes</td><td>UnityCatalogVolumes</td><td></td></tr><tr><td>/databricks/mlflow-tracking</td><td>databricks/mlflow-tracking</td><td></td></tr><tr><td>/mnt/databricksdl2/presentationdt</td><td>abfss://presentationdt@databricksdl2.dfs.core.windows.net/</td><td></td></tr><tr><td>/databricks-results</td><td>databricks-results</td><td></td></tr><tr><td>/databricks/mlflow-registry</td><td>databricks/mlflow-registry</td><td></td></tr><tr><td>/mnt/databricksdl2/footballingested</td><td>abfss://footballingested@databricksdl2.dfs.core.windows.net/</td><td></td></tr><tr><td>/mnt/databricksdl2/demo</td><td>abfss://demo@databricksdl2.dfs.core.windows.net/</td><td></td></tr><tr><td>/mnt/databricksdl2/apple</td><td>abfss://apple@databricksdl2.dfs.core.windows.net/</td><td></td></tr><tr><td>/mnt/databricksdl2/footbalflags</td><td>abfss://footbalflags@databricksdl2.dfs.core.windows.net/</td><td></td></tr><tr><td>/mnt/databricksdl2/presentation</td><td>abfss://presentation@databricksdl2.dfs.core.windows.net/</td><td></td></tr><tr><td>/mnt/databricksdl2/processed</td><td>abfss://processed@databricksdl2.dfs.core.windows.net/</td><td></td></tr><tr><td>/Volume</td><td>DbfsReserved</td><td></td></tr><tr><td>/mnt/databricksdl2/footballflags</td><td>abfss://footballflags@databricksdl2.dfs.core.windows.net/</td><td></td></tr><tr><td>/volumes</td><td>DbfsReserved</td><td></td></tr><tr><td>/mnt/databricksdl2/fabric01</td><td>abfss://fabric01@databricksdl2.dfs.core.windows.net/</td><td></td></tr><tr><td>/</td><td>DatabricksRoot</td><td></td></tr><tr><td>/volume</td><td>DbfsReserved</td><td></td></tr></tbody></table></div>"
      ]
     },
     "metadata": {
      "application/vnd.databricks.v1+output": {
       "addedWidgets": {},
       "aggData": [],
       "aggError": "",
       "aggOverflow": false,
       "aggSchema": [],
       "aggSeriesLimitReached": false,
       "aggType": "",
       "arguments": {},
       "columnCustomDisplayInfos": {},
       "data": [
        [
         "/mnt/databricksdl2/processeddt",
         "abfss://processeddt@databricksdl2.dfs.core.windows.net/",
         ""
        ],
        [
         "/databricks-datasets",
         "databricks-datasets",
         ""
        ],
        [
         "/mnt/databricksdl2/raw",
         "abfss://raw@databricksdl2.dfs.core.windows.net/",
         ""
        ],
        [
         "/mnt/databricksdl2/footballprocessed",
         "abfss://footballprocessed@databricksdl2.dfs.core.windows.net/",
         ""
        ],
        [
         "/mnt/databricksdl2/footballsource",
         "abfss://footballsource@databricksdl2.dfs.core.windows.net/",
         ""
        ],
        [
         "/mnt/databricksdl2/football",
         "abfss://football@databricksdl2.dfs.core.windows.net/",
         ""
        ],
        [
         "/Volumes",
         "UnityCatalogVolumes",
         ""
        ],
        [
         "/databricks/mlflow-tracking",
         "databricks/mlflow-tracking",
         ""
        ],
        [
         "/mnt/databricksdl2/presentationdt",
         "abfss://presentationdt@databricksdl2.dfs.core.windows.net/",
         ""
        ],
        [
         "/databricks-results",
         "databricks-results",
         ""
        ],
        [
         "/databricks/mlflow-registry",
         "databricks/mlflow-registry",
         ""
        ],
        [
         "/mnt/databricksdl2/footballingested",
         "abfss://footballingested@databricksdl2.dfs.core.windows.net/",
         ""
        ],
        [
         "/mnt/databricksdl2/demo",
         "abfss://demo@databricksdl2.dfs.core.windows.net/",
         ""
        ],
        [
         "/mnt/databricksdl2/apple",
         "abfss://apple@databricksdl2.dfs.core.windows.net/",
         ""
        ],
        [
         "/mnt/databricksdl2/footbalflags",
         "abfss://footbalflags@databricksdl2.dfs.core.windows.net/",
         ""
        ],
        [
         "/mnt/databricksdl2/presentation",
         "abfss://presentation@databricksdl2.dfs.core.windows.net/",
         ""
        ],
        [
         "/mnt/databricksdl2/processed",
         "abfss://processed@databricksdl2.dfs.core.windows.net/",
         ""
        ],
        [
         "/Volume",
         "DbfsReserved",
         ""
        ],
        [
         "/mnt/databricksdl2/footballflags",
         "abfss://footballflags@databricksdl2.dfs.core.windows.net/",
         ""
        ],
        [
         "/volumes",
         "DbfsReserved",
         ""
        ],
        [
         "/mnt/databricksdl2/fabric01",
         "abfss://fabric01@databricksdl2.dfs.core.windows.net/",
         ""
        ],
        [
         "/",
         "DatabricksRoot",
         ""
        ],
        [
         "/volume",
         "DbfsReserved",
         ""
        ]
       ],
       "datasetInfos": [],
       "dbfsResultPath": null,
       "isJsonSchema": true,
       "metadata": {},
       "overflow": false,
       "plotOptions": {
        "customPlotOptions": {},
        "displayType": "table",
        "pivotAggregation": null,
        "pivotColumns": null,
        "xColumns": null,
        "yColumns": null
       },
       "removedWidgets": [],
       "schema": [
        {
         "metadata": "{}",
         "name": "mountPoint",
         "type": "\"string\""
        },
        {
         "metadata": "{}",
         "name": "source",
         "type": "\"string\""
        },
        {
         "metadata": "{}",
         "name": "encryptionType",
         "type": "\"string\""
        }
       ],
       "type": "table"
      }
     },
     "output_type": "display_data"
    }
   ],
   "source": [
    "mount_point(\"databricksdl2\",\"footballflags\")\n"
   ]
  },
  {
   "cell_type": "code",
   "execution_count": 0,
   "metadata": {
    "application/vnd.databricks.v1+cell": {
     "cellMetadata": {
      "byteLimit": 2048000,
      "rowLimit": 10000
     },
     "inputWidgets": {},
     "nuid": "a7ff6c77-4dcd-4043-ac1a-131d8f6edd05",
     "showTitle": false,
     "title": ""
    }
   },
   "outputs": [
    {
     "output_type": "stream",
     "name": "stdout",
     "output_type": "stream",
     "text": [
      "/mnt/databricksdl2/footballingested has been unmounted.\n"
     ]
    },
    {
     "output_type": "display_data",
     "data": {
      "text/html": [
       "<style scoped>\n",
       "  .table-result-container {\n",
       "    max-height: 300px;\n",
       "    overflow: auto;\n",
       "  }\n",
       "  table, th, td {\n",
       "    border: 1px solid black;\n",
       "    border-collapse: collapse;\n",
       "  }\n",
       "  th, td {\n",
       "    padding: 5px;\n",
       "  }\n",
       "  th {\n",
       "    text-align: left;\n",
       "  }\n",
       "</style><div class='table-result-container'><table class='table-result'><thead style='background-color: white'><tr><th>mountPoint</th><th>source</th><th>encryptionType</th></tr></thead><tbody><tr><td>/mnt/databricksdl2/processeddt</td><td>abfss://processeddt@databricksdl2.dfs.core.windows.net/</td><td></td></tr><tr><td>/databricks-datasets</td><td>databricks-datasets</td><td></td></tr><tr><td>/mnt/databricksdl2/raw</td><td>abfss://raw@databricksdl2.dfs.core.windows.net/</td><td></td></tr><tr><td>/mnt/databricksdl2/footballprocessed</td><td>abfss://footballprocessed@databricksdl2.dfs.core.windows.net/</td><td></td></tr><tr><td>/mnt/databricksdl2/football</td><td>abfss://football@databricksdl2.dfs.core.windows.net/</td><td></td></tr><tr><td>/Volumes</td><td>UnityCatalogVolumes</td><td></td></tr><tr><td>/databricks/mlflow-tracking</td><td>databricks/mlflow-tracking</td><td></td></tr><tr><td>/mnt/databricksdl2/presentationdt</td><td>abfss://presentationdt@databricksdl2.dfs.core.windows.net/</td><td></td></tr><tr><td>/databricks-results</td><td>databricks-results</td><td></td></tr><tr><td>/databricks/mlflow-registry</td><td>databricks/mlflow-registry</td><td></td></tr><tr><td>/mnt/databricksdl2/footballingested</td><td>abfss://footballingested@databricksdl2.dfs.core.windows.net/</td><td></td></tr><tr><td>/mnt/databricksdl2/demo</td><td>abfss://demo@databricksdl2.dfs.core.windows.net/</td><td></td></tr><tr><td>/mnt/databricksdl2/apple</td><td>abfss://apple@databricksdl2.dfs.core.windows.net/</td><td></td></tr><tr><td>/mnt/databricksdl2/presentation</td><td>abfss://presentation@databricksdl2.dfs.core.windows.net/</td><td></td></tr><tr><td>/mnt/databricksdl2/processed</td><td>abfss://processed@databricksdl2.dfs.core.windows.net/</td><td></td></tr><tr><td>/Volume</td><td>DbfsReserved</td><td></td></tr><tr><td>/volumes</td><td>DbfsReserved</td><td></td></tr><tr><td>/mnt/databricksdl2/fabric01</td><td>abfss://fabric01@databricksdl2.dfs.core.windows.net/</td><td></td></tr><tr><td>/</td><td>DatabricksRoot</td><td></td></tr><tr><td>/volume</td><td>DbfsReserved</td><td></td></tr></tbody></table></div>"
      ]
     },
     "metadata": {
      "application/vnd.databricks.v1+output": {
       "addedWidgets": {},
       "aggData": [],
       "aggError": "",
       "aggOverflow": false,
       "aggSchema": [],
       "aggSeriesLimitReached": false,
       "aggType": "",
       "arguments": {},
       "columnCustomDisplayInfos": {},
       "data": [
        [
         "/mnt/databricksdl2/processeddt",
         "abfss://processeddt@databricksdl2.dfs.core.windows.net/",
         ""
        ],
        [
         "/databricks-datasets",
         "databricks-datasets",
         ""
        ],
        [
         "/mnt/databricksdl2/raw",
         "abfss://raw@databricksdl2.dfs.core.windows.net/",
         ""
        ],
        [
         "/mnt/databricksdl2/footballprocessed",
         "abfss://footballprocessed@databricksdl2.dfs.core.windows.net/",
         ""
        ],
        [
         "/mnt/databricksdl2/football",
         "abfss://football@databricksdl2.dfs.core.windows.net/",
         ""
        ],
        [
         "/Volumes",
         "UnityCatalogVolumes",
         ""
        ],
        [
         "/databricks/mlflow-tracking",
         "databricks/mlflow-tracking",
         ""
        ],
        [
         "/mnt/databricksdl2/presentationdt",
         "abfss://presentationdt@databricksdl2.dfs.core.windows.net/",
         ""
        ],
        [
         "/databricks-results",
         "databricks-results",
         ""
        ],
        [
         "/databricks/mlflow-registry",
         "databricks/mlflow-registry",
         ""
        ],
        [
         "/mnt/databricksdl2/footballingested",
         "abfss://footballingested@databricksdl2.dfs.core.windows.net/",
         ""
        ],
        [
         "/mnt/databricksdl2/demo",
         "abfss://demo@databricksdl2.dfs.core.windows.net/",
         ""
        ],
        [
         "/mnt/databricksdl2/apple",
         "abfss://apple@databricksdl2.dfs.core.windows.net/",
         ""
        ],
        [
         "/mnt/databricksdl2/presentation",
         "abfss://presentation@databricksdl2.dfs.core.windows.net/",
         ""
        ],
        [
         "/mnt/databricksdl2/processed",
         "abfss://processed@databricksdl2.dfs.core.windows.net/",
         ""
        ],
        [
         "/Volume",
         "DbfsReserved",
         ""
        ],
        [
         "/volumes",
         "DbfsReserved",
         ""
        ],
        [
         "/mnt/databricksdl2/fabric01",
         "abfss://fabric01@databricksdl2.dfs.core.windows.net/",
         ""
        ],
        [
         "/",
         "DatabricksRoot",
         ""
        ],
        [
         "/volume",
         "DbfsReserved",
         ""
        ]
       ],
       "datasetInfos": [],
       "dbfsResultPath": null,
       "isJsonSchema": true,
       "metadata": {},
       "overflow": false,
       "plotOptions": {
        "customPlotOptions": {},
        "displayType": "table",
        "pivotAggregation": null,
        "pivotColumns": null,
        "xColumns": null,
        "yColumns": null
       },
       "removedWidgets": [],
       "schema": [
        {
         "metadata": "{}",
         "name": "mountPoint",
         "type": "\"string\""
        },
        {
         "metadata": "{}",
         "name": "source",
         "type": "\"string\""
        },
        {
         "metadata": "{}",
         "name": "encryptionType",
         "type": "\"string\""
        }
       ],
       "type": "table"
      }
     },
     "output_type": "display_data"
    }
   ],
   "source": [
    "mount_point(\"databricksdl2\",\"footballingested\")"
   ]
  },
  {
   "cell_type": "code",
   "execution_count": 0,
   "metadata": {
    "application/vnd.databricks.v1+cell": {
     "cellMetadata": {
      "byteLimit": 2048000,
      "rowLimit": 10000
     },
     "inputWidgets": {},
     "nuid": "37397683-8564-46d7-b404-47178db74e05",
     "showTitle": false,
     "title": ""
    }
   },
   "outputs": [
    {
     "output_type": "stream",
     "name": "stdout",
     "output_type": "stream",
     "text": [
      "/mnt/databricksdl2/footballprocessed has been unmounted.\n"
     ]
    },
    {
     "output_type": "display_data",
     "data": {
      "text/html": [
       "<style scoped>\n",
       "  .table-result-container {\n",
       "    max-height: 300px;\n",
       "    overflow: auto;\n",
       "  }\n",
       "  table, th, td {\n",
       "    border: 1px solid black;\n",
       "    border-collapse: collapse;\n",
       "  }\n",
       "  th, td {\n",
       "    padding: 5px;\n",
       "  }\n",
       "  th {\n",
       "    text-align: left;\n",
       "  }\n",
       "</style><div class='table-result-container'><table class='table-result'><thead style='background-color: white'><tr><th>mountPoint</th><th>source</th><th>encryptionType</th></tr></thead><tbody><tr><td>/mnt/databricksdl2/processeddt</td><td>abfss://processeddt@databricksdl2.dfs.core.windows.net/</td><td></td></tr><tr><td>/databricks-datasets</td><td>databricks-datasets</td><td></td></tr><tr><td>/mnt/databricksdl2/raw</td><td>abfss://raw@databricksdl2.dfs.core.windows.net/</td><td></td></tr><tr><td>/mnt/databricksdl2/footballprocessed</td><td>abfss://footballprocessed@databricksdl2.dfs.core.windows.net/</td><td></td></tr><tr><td>/mnt/databricksdl2/football</td><td>abfss://football@databricksdl2.dfs.core.windows.net/</td><td></td></tr><tr><td>/Volumes</td><td>UnityCatalogVolumes</td><td></td></tr><tr><td>/databricks/mlflow-tracking</td><td>databricks/mlflow-tracking</td><td></td></tr><tr><td>/mnt/databricksdl2/presentationdt</td><td>abfss://presentationdt@databricksdl2.dfs.core.windows.net/</td><td></td></tr><tr><td>/databricks-results</td><td>databricks-results</td><td></td></tr><tr><td>/databricks/mlflow-registry</td><td>databricks/mlflow-registry</td><td></td></tr><tr><td>/mnt/databricksdl2/footballingested</td><td>abfss://footballingested@databricksdl2.dfs.core.windows.net/</td><td></td></tr><tr><td>/mnt/databricksdl2/demo</td><td>abfss://demo@databricksdl2.dfs.core.windows.net/</td><td></td></tr><tr><td>/mnt/databricksdl2/apple</td><td>abfss://apple@databricksdl2.dfs.core.windows.net/</td><td></td></tr><tr><td>/mnt/databricksdl2/presentation</td><td>abfss://presentation@databricksdl2.dfs.core.windows.net/</td><td></td></tr><tr><td>/mnt/databricksdl2/processed</td><td>abfss://processed@databricksdl2.dfs.core.windows.net/</td><td></td></tr><tr><td>/Volume</td><td>DbfsReserved</td><td></td></tr><tr><td>/volumes</td><td>DbfsReserved</td><td></td></tr><tr><td>/mnt/databricksdl2/fabric01</td><td>abfss://fabric01@databricksdl2.dfs.core.windows.net/</td><td></td></tr><tr><td>/</td><td>DatabricksRoot</td><td></td></tr><tr><td>/volume</td><td>DbfsReserved</td><td></td></tr></tbody></table></div>"
      ]
     },
     "metadata": {
      "application/vnd.databricks.v1+output": {
       "addedWidgets": {},
       "aggData": [],
       "aggError": "",
       "aggOverflow": false,
       "aggSchema": [],
       "aggSeriesLimitReached": false,
       "aggType": "",
       "arguments": {},
       "columnCustomDisplayInfos": {},
       "data": [
        [
         "/mnt/databricksdl2/processeddt",
         "abfss://processeddt@databricksdl2.dfs.core.windows.net/",
         ""
        ],
        [
         "/databricks-datasets",
         "databricks-datasets",
         ""
        ],
        [
         "/mnt/databricksdl2/raw",
         "abfss://raw@databricksdl2.dfs.core.windows.net/",
         ""
        ],
        [
         "/mnt/databricksdl2/footballprocessed",
         "abfss://footballprocessed@databricksdl2.dfs.core.windows.net/",
         ""
        ],
        [
         "/mnt/databricksdl2/football",
         "abfss://football@databricksdl2.dfs.core.windows.net/",
         ""
        ],
        [
         "/Volumes",
         "UnityCatalogVolumes",
         ""
        ],
        [
         "/databricks/mlflow-tracking",
         "databricks/mlflow-tracking",
         ""
        ],
        [
         "/mnt/databricksdl2/presentationdt",
         "abfss://presentationdt@databricksdl2.dfs.core.windows.net/",
         ""
        ],
        [
         "/databricks-results",
         "databricks-results",
         ""
        ],
        [
         "/databricks/mlflow-registry",
         "databricks/mlflow-registry",
         ""
        ],
        [
         "/mnt/databricksdl2/footballingested",
         "abfss://footballingested@databricksdl2.dfs.core.windows.net/",
         ""
        ],
        [
         "/mnt/databricksdl2/demo",
         "abfss://demo@databricksdl2.dfs.core.windows.net/",
         ""
        ],
        [
         "/mnt/databricksdl2/apple",
         "abfss://apple@databricksdl2.dfs.core.windows.net/",
         ""
        ],
        [
         "/mnt/databricksdl2/presentation",
         "abfss://presentation@databricksdl2.dfs.core.windows.net/",
         ""
        ],
        [
         "/mnt/databricksdl2/processed",
         "abfss://processed@databricksdl2.dfs.core.windows.net/",
         ""
        ],
        [
         "/Volume",
         "DbfsReserved",
         ""
        ],
        [
         "/volumes",
         "DbfsReserved",
         ""
        ],
        [
         "/mnt/databricksdl2/fabric01",
         "abfss://fabric01@databricksdl2.dfs.core.windows.net/",
         ""
        ],
        [
         "/",
         "DatabricksRoot",
         ""
        ],
        [
         "/volume",
         "DbfsReserved",
         ""
        ]
       ],
       "datasetInfos": [],
       "dbfsResultPath": null,
       "isJsonSchema": true,
       "metadata": {},
       "overflow": false,
       "plotOptions": {
        "customPlotOptions": {},
        "displayType": "table",
        "pivotAggregation": null,
        "pivotColumns": null,
        "xColumns": null,
        "yColumns": null
       },
       "removedWidgets": [],
       "schema": [
        {
         "metadata": "{}",
         "name": "mountPoint",
         "type": "\"string\""
        },
        {
         "metadata": "{}",
         "name": "source",
         "type": "\"string\""
        },
        {
         "metadata": "{}",
         "name": "encryptionType",
         "type": "\"string\""
        }
       ],
       "type": "table"
      }
     },
     "output_type": "display_data"
    }
   ],
   "source": [
    "mount_point(\"databricksdl2\",\"footballprocessed\")"
   ]
  },
  {
   "cell_type": "code",
   "execution_count": 0,
   "metadata": {
    "application/vnd.databricks.v1+cell": {
     "cellMetadata": {
      "byteLimit": 2048000,
      "rowLimit": 10000
     },
     "inputWidgets": {},
     "nuid": "f7d600c0-9f27-420b-a02f-94f2d6016726",
     "showTitle": false,
     "title": ""
    }
   },
   "outputs": [
    {
     "output_type": "display_data",
     "data": {
      "text/html": [
       "<style scoped>\n",
       "  .table-result-container {\n",
       "    max-height: 300px;\n",
       "    overflow: auto;\n",
       "  }\n",
       "  table, th, td {\n",
       "    border: 1px solid black;\n",
       "    border-collapse: collapse;\n",
       "  }\n",
       "  th, td {\n",
       "    padding: 5px;\n",
       "  }\n",
       "  th {\n",
       "    text-align: left;\n",
       "  }\n",
       "</style><div class='table-result-container'><table class='table-result'><thead style='background-color: white'><tr><th>mountPoint</th><th>source</th><th>encryptionType</th></tr></thead><tbody><tr><td>/mnt/databricksdl2/processeddt</td><td>abfss://processeddt@databricksdl2.dfs.core.windows.net/</td><td></td></tr><tr><td>/databricks-datasets</td><td>databricks-datasets</td><td></td></tr><tr><td>/mnt/databricksdl2/raw</td><td>abfss://raw@databricksdl2.dfs.core.windows.net/</td><td></td></tr><tr><td>/mnt/databricksdl2/footballprocessed</td><td>abfss://footballprocessed@databricksdl2.dfs.core.windows.net/</td><td></td></tr><tr><td>/mnt/databricksdl2/footballsource</td><td>abfss://footballsource@databricksdl2.dfs.core.windows.net/</td><td></td></tr><tr><td>/mnt/databricksdl2/football</td><td>abfss://football@databricksdl2.dfs.core.windows.net/</td><td></td></tr><tr><td>/Volumes</td><td>UnityCatalogVolumes</td><td></td></tr><tr><td>/databricks/mlflow-tracking</td><td>databricks/mlflow-tracking</td><td></td></tr><tr><td>/mnt/databricksdl2/presentationdt</td><td>abfss://presentationdt@databricksdl2.dfs.core.windows.net/</td><td></td></tr><tr><td>/databricks-results</td><td>databricks-results</td><td></td></tr><tr><td>/databricks/mlflow-registry</td><td>databricks/mlflow-registry</td><td></td></tr><tr><td>/mnt/databricksdl2/footballingested</td><td>abfss://footballingested@databricksdl2.dfs.core.windows.net/</td><td></td></tr><tr><td>/mnt/databricksdl2/demo</td><td>abfss://demo@databricksdl2.dfs.core.windows.net/</td><td></td></tr><tr><td>/mnt/databricksdl2/apple</td><td>abfss://apple@databricksdl2.dfs.core.windows.net/</td><td></td></tr><tr><td>/mnt/databricksdl2/presentation</td><td>abfss://presentation@databricksdl2.dfs.core.windows.net/</td><td></td></tr><tr><td>/mnt/databricksdl2/processed</td><td>abfss://processed@databricksdl2.dfs.core.windows.net/</td><td></td></tr><tr><td>/Volume</td><td>DbfsReserved</td><td></td></tr><tr><td>/volumes</td><td>DbfsReserved</td><td></td></tr><tr><td>/mnt/databricksdl2/fabric01</td><td>abfss://fabric01@databricksdl2.dfs.core.windows.net/</td><td></td></tr><tr><td>/</td><td>DatabricksRoot</td><td></td></tr><tr><td>/volume</td><td>DbfsReserved</td><td></td></tr></tbody></table></div>"
      ]
     },
     "metadata": {
      "application/vnd.databricks.v1+output": {
       "addedWidgets": {},
       "aggData": [],
       "aggError": "",
       "aggOverflow": false,
       "aggSchema": [],
       "aggSeriesLimitReached": false,
       "aggType": "",
       "arguments": {},
       "columnCustomDisplayInfos": {},
       "data": [
        [
         "/mnt/databricksdl2/processeddt",
         "abfss://processeddt@databricksdl2.dfs.core.windows.net/",
         ""
        ],
        [
         "/databricks-datasets",
         "databricks-datasets",
         ""
        ],
        [
         "/mnt/databricksdl2/raw",
         "abfss://raw@databricksdl2.dfs.core.windows.net/",
         ""
        ],
        [
         "/mnt/databricksdl2/footballprocessed",
         "abfss://footballprocessed@databricksdl2.dfs.core.windows.net/",
         ""
        ],
        [
         "/mnt/databricksdl2/footballsource",
         "abfss://footballsource@databricksdl2.dfs.core.windows.net/",
         ""
        ],
        [
         "/mnt/databricksdl2/football",
         "abfss://football@databricksdl2.dfs.core.windows.net/",
         ""
        ],
        [
         "/Volumes",
         "UnityCatalogVolumes",
         ""
        ],
        [
         "/databricks/mlflow-tracking",
         "databricks/mlflow-tracking",
         ""
        ],
        [
         "/mnt/databricksdl2/presentationdt",
         "abfss://presentationdt@databricksdl2.dfs.core.windows.net/",
         ""
        ],
        [
         "/databricks-results",
         "databricks-results",
         ""
        ],
        [
         "/databricks/mlflow-registry",
         "databricks/mlflow-registry",
         ""
        ],
        [
         "/mnt/databricksdl2/footballingested",
         "abfss://footballingested@databricksdl2.dfs.core.windows.net/",
         ""
        ],
        [
         "/mnt/databricksdl2/demo",
         "abfss://demo@databricksdl2.dfs.core.windows.net/",
         ""
        ],
        [
         "/mnt/databricksdl2/apple",
         "abfss://apple@databricksdl2.dfs.core.windows.net/",
         ""
        ],
        [
         "/mnt/databricksdl2/presentation",
         "abfss://presentation@databricksdl2.dfs.core.windows.net/",
         ""
        ],
        [
         "/mnt/databricksdl2/processed",
         "abfss://processed@databricksdl2.dfs.core.windows.net/",
         ""
        ],
        [
         "/Volume",
         "DbfsReserved",
         ""
        ],
        [
         "/volumes",
         "DbfsReserved",
         ""
        ],
        [
         "/mnt/databricksdl2/fabric01",
         "abfss://fabric01@databricksdl2.dfs.core.windows.net/",
         ""
        ],
        [
         "/",
         "DatabricksRoot",
         ""
        ],
        [
         "/volume",
         "DbfsReserved",
         ""
        ]
       ],
       "datasetInfos": [],
       "dbfsResultPath": null,
       "isJsonSchema": true,
       "metadata": {},
       "overflow": false,
       "plotOptions": {
        "customPlotOptions": {},
        "displayType": "table",
        "pivotAggregation": null,
        "pivotColumns": null,
        "xColumns": null,
        "yColumns": null
       },
       "removedWidgets": [],
       "schema": [
        {
         "metadata": "{}",
         "name": "mountPoint",
         "type": "\"string\""
        },
        {
         "metadata": "{}",
         "name": "source",
         "type": "\"string\""
        },
        {
         "metadata": "{}",
         "name": "encryptionType",
         "type": "\"string\""
        }
       ],
       "type": "table"
      }
     },
     "output_type": "display_data"
    }
   ],
   "source": [
    "mount_point(\"databricksdl2\",\"footballsource\")"
   ]
  }
 ],
 "metadata": {
  "application/vnd.databricks.v1+notebook": {
   "dashboards": [],
   "language": "python",
   "notebookMetadata": {
    "pythonIndentUnit": 4
   },
   "notebookName": "mount_adls",
   "widgets": {}
  }
 },
 "nbformat": 4,
 "nbformat_minor": 0
}
